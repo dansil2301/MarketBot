{
 "cells": [
  {
   "cell_type": "code",
   "execution_count": 1,
   "metadata": {
    "collapsed": true,
    "ExecuteTime": {
     "end_time": "2024-02-26T23:33:17.952193700Z",
     "start_time": "2024-02-26T23:33:17.820185300Z"
    }
   },
   "outputs": [],
   "source": [
    "from Strategies.StrategyBB import StrategyBB\n",
    "from Strategies.StrategyMACD import StrategyMACD\n",
    "from Strategies.StrategyOBV import StrategyOBV\n",
    "from Strategies.StrategyRSI import StrategyRSI\n",
    "from Strategies.StrategyST import StrategyST\n",
    "from historyData.HistoryData import HistoryData\n",
    "from tinkoff.invest.grpc.marketdata_pb2 import CandleInterval\n",
    "from datetime import datetime\n",
    "\n",
    "import asyncio"
   ]
  },
  {
   "cell_type": "code",
   "execution_count": 2,
   "outputs": [],
   "source": [
    "candle_interval = CandleInterval.CANDLE_INTERVAL_1_MIN\n",
    "data_set = HistoryData()"
   ],
   "metadata": {
    "collapsed": false,
    "ExecuteTime": {
     "end_time": "2024-02-26T23:33:17.958224700Z",
     "start_time": "2024-02-26T23:33:17.952193700Z"
    }
   }
  },
  {
   "cell_type": "code",
   "outputs": [],
   "source": [
    "from time import sleep\n",
    "\n",
    "candles_down = list()\n",
    "candles_up = list()\n",
    "candles_flat = list()\n",
    "candles_short_up = list()\n",
    "candles_short_down = list()\n",
    "candles_7_period = list()\n",
    "candles_6_period = list()\n",
    "\n",
    "async def data_get():\n",
    "    global candles_down, candles_up, candles_flat, candles_short_up, candles_short_down, candles_7_period, candles_6_period\n",
    "    \n",
    "    candles_short_up = await (data_set.get_tinkoff_server_data(datetime(2023, 12, 1), datetime(2024, 1, 1), candle_interval))\n",
    "    candles_short_down = await (data_set.get_tinkoff_server_data(datetime(2023, 12, 2), datetime(2024, 1, 1), candle_interval))\n",
    "    candles_down = await (data_set.get_tinkoff_server_data(datetime(2023, 11, 2), datetime(2023, 12, 1), candle_interval))\n",
    "    candles_up = await (data_set.get_tinkoff_server_data(datetime(2023, 8, 2), datetime(2023, 9, 1), candle_interval))\n",
    "    candles_flat = await (data_set.get_tinkoff_server_data(datetime(2023, 9, 2), datetime(2023, 10, 1), candle_interval))\n",
    "    candles_7_period = await (data_set.get_tinkoff_server_data(datetime(2023, 7, 2), datetime(2023, 8, 1), candle_interval))\n",
    "    candles_6_period = await (data_set.get_tinkoff_server_data(datetime(2023, 6, 2), datetime(2023, 7, 1), candle_interval))\n",
    "\n",
    "# Run the event loop directly using await\n",
    "await data_get()"
   ],
   "metadata": {
    "collapsed": false,
    "ExecuteTime": {
     "end_time": "2024-02-26T23:33:47.937352500Z",
     "start_time": "2024-02-26T23:33:17.958224700Z"
    }
   },
   "execution_count": 3
  },
  {
   "cell_type": "markdown",
   "source": [
    "# Creates a Data Set For Future Model"
   ],
   "metadata": {
    "collapsed": false
   }
  },
  {
   "cell_type": "code",
   "outputs": [
    {
     "data": {
      "text/plain": "21216"
     },
     "execution_count": 4,
     "metadata": {},
     "output_type": "execute_result"
    }
   ],
   "source": [
    "all_candles = [candles_down, candles_up, candles_flat, candles_short_up, candles_short_down, candles_7_period, candles_6_period]\n",
    "len(all_candles[0])"
   ],
   "metadata": {
    "collapsed": false,
    "ExecuteTime": {
     "end_time": "2024-02-26T23:33:47.947378500Z",
     "start_time": "2024-02-26T23:33:47.937352500Z"
    }
   },
   "execution_count": 4
  },
  {
   "cell_type": "code",
   "outputs": [
    {
     "name": "stdout",
     "output_type": "stream",
     "text": [
      "Length of the marked data: 6734 total length: 21216\n",
      "Length of the marked data: 7123 total length: 22142\n",
      "Length of the marked data: 8257 total length: 21047\n",
      "Length of the marked data: 7153 total length: 22264\n",
      "Length of the marked data: 6439 total length: 21452\n",
      "Length of the marked data: 5576 total length: 21795\n",
      "Length of the marked data: 8770 total length: 20045\n"
     ]
    }
   ],
   "source": [
    "import numpy as np\n",
    "from AppLogic.Settings import Settings\n",
    "from tinkoff.invest.utils import quotation_to_decimal\n",
    "\n",
    "commission = 0.0005\n",
    "all_data_index_buy_sell = []\n",
    "\n",
    "for candles in all_candles:\n",
    "    data_index_buy_sell = []\n",
    "    total_earn = 0\n",
    "    total_sum_earned = 0\n",
    "    bought_at = -1\n",
    "    for i in range(len(list(candles))):\n",
    "        bought_at = float(quotation_to_decimal(candles[i].close))\n",
    "        this_candle_earned = 0\n",
    "        for j in range(i + 1, len(candles)):\n",
    "            further_candle_price = float(quotation_to_decimal(candles[j].close))\n",
    "            this_candle_earned = bought_at - further_candle_price\n",
    "\n",
    "            if this_candle_earned > 1 / 100 * bought_at:  # 0.1 is stop loss\n",
    "                data_index_buy_sell.append({\"bought\": i})\n",
    "                break\n",
    "            elif this_candle_earned < -0.5 / 100 * bought_at:  # 0.05 is stop loss\n",
    "                break\n",
    "    all_data_index_buy_sell.append(data_index_buy_sell)\n",
    "    print(f\"Length of the marked data: {len(data_index_buy_sell)}\", f\"total length: {len(candles)}\")\n",
    "                \n",
    "# for candles in all_candles:\n",
    "#     data_index_buy_sell = []\n",
    "#     total_earn = 0\n",
    "#     total_sum_earned = 0\n",
    "#     bought_at = -1\n",
    "#     counter = 0\n",
    "#     i = 13\n",
    "#     up = 0.1\n",
    "#     down = -0.05\n",
    "# \n",
    "#     while i < len(list(candles)) - 2:\n",
    "#         i += 1\n",
    "# \n",
    "#         current_candle_price = float(quotation_to_decimal(candles[i].close))\n",
    "#         next_candle_price = float(quotation_to_decimal(candles[i + 1].close))\n",
    "# \n",
    "#         if current_candle_price < next_candle_price and bought_at == -1:\n",
    "#             data_index_buy_sell.append({\"bought\": i})\n",
    "#             bought_at = current_candle_price\n",
    "#             counter = i  \n",
    "#         elif bought_at != -1 and bought_at - current_candle_price < down / 100 * bought_at:\n",
    "#             data_index_buy_sell.pop(-1)\n",
    "#             i = counter + 1\n",
    "#             bought_at = -1    \n",
    "#         elif bought_at != -1 and bought_at - current_candle_price > up / 100 * bought_at:  # 0.1 is stop loss\n",
    "#             data_index_buy_sell.append({\"sold\": i})\n",
    "#             bought_at = -1"
   ],
   "metadata": {
    "collapsed": false,
    "ExecuteTime": {
     "end_time": "2024-02-27T00:24:04.737540900Z",
     "start_time": "2024-02-27T00:23:05.163467600Z"
    }
   },
   "execution_count": 11
  },
  {
   "cell_type": "code",
   "outputs": [
    {
     "data": {
      "text/plain": "[{'bought': 16},\n {'bought': 21},\n {'bought': 316},\n {'bought': 318},\n {'bought': 349},\n {'bought': 350},\n {'bought': 351},\n {'bought': 352},\n {'bought': 353},\n {'bought': 354},\n {'bought': 355},\n {'bought': 356},\n {'bought': 357},\n {'bought': 358},\n {'bought': 359},\n {'bought': 360},\n {'bought': 361},\n {'bought': 362},\n {'bought': 363},\n {'bought': 364},\n {'bought': 365},\n {'bought': 366},\n {'bought': 367},\n {'bought': 368},\n {'bought': 369},\n {'bought': 370},\n {'bought': 371},\n {'bought': 382},\n {'bought': 383},\n {'bought': 384},\n {'bought': 385},\n {'bought': 386},\n {'bought': 387},\n {'bought': 388},\n {'bought': 389},\n {'bought': 390},\n {'bought': 391},\n {'bought': 392},\n {'bought': 393},\n {'bought': 394},\n {'bought': 395},\n {'bought': 396},\n {'bought': 397},\n {'bought': 398},\n {'bought': 399},\n {'bought': 400},\n {'bought': 401},\n {'bought': 402},\n {'bought': 403},\n {'bought': 404},\n {'bought': 405},\n {'bought': 406},\n {'bought': 407},\n {'bought': 408},\n {'bought': 409},\n {'bought': 410},\n {'bought': 411},\n {'bought': 412},\n {'bought': 413},\n {'bought': 414},\n {'bought': 415},\n {'bought': 416},\n {'bought': 417},\n {'bought': 418},\n {'bought': 419},\n {'bought': 420},\n {'bought': 421},\n {'bought': 422},\n {'bought': 423},\n {'bought': 424},\n {'bought': 425},\n {'bought': 426},\n {'bought': 427},\n {'bought': 428},\n {'bought': 429},\n {'bought': 430},\n {'bought': 431},\n {'bought': 432},\n {'bought': 433},\n {'bought': 434},\n {'bought': 435},\n {'bought': 436},\n {'bought': 437},\n {'bought': 438},\n {'bought': 439},\n {'bought': 440},\n {'bought': 441},\n {'bought': 442},\n {'bought': 443},\n {'bought': 444},\n {'bought': 445},\n {'bought': 446},\n {'bought': 447},\n {'bought': 448},\n {'bought': 449},\n {'bought': 450},\n {'bought': 451},\n {'bought': 452},\n {'bought': 453},\n {'bought': 454},\n {'bought': 455},\n {'bought': 456},\n {'bought': 457},\n {'bought': 458},\n {'bought': 459},\n {'bought': 460},\n {'bought': 461},\n {'bought': 462},\n {'bought': 463},\n {'bought': 464},\n {'bought': 465},\n {'bought': 466},\n {'bought': 467},\n {'bought': 468},\n {'bought': 469},\n {'bought': 470},\n {'bought': 471},\n {'bought': 472},\n {'bought': 473},\n {'bought': 474},\n {'bought': 475},\n {'bought': 476},\n {'bought': 477},\n {'bought': 478},\n {'bought': 479},\n {'bought': 480},\n {'bought': 481},\n {'bought': 482},\n {'bought': 483},\n {'bought': 484},\n {'bought': 485},\n {'bought': 486},\n {'bought': 487},\n {'bought': 488},\n {'bought': 489},\n {'bought': 490},\n {'bought': 491},\n {'bought': 492},\n {'bought': 493},\n {'bought': 494},\n {'bought': 495},\n {'bought': 496},\n {'bought': 497},\n {'bought': 498},\n {'bought': 499},\n {'bought': 500},\n {'bought': 501},\n {'bought': 502},\n {'bought': 503},\n {'bought': 504},\n {'bought': 505},\n {'bought': 506},\n {'bought': 507},\n {'bought': 508},\n {'bought': 509},\n {'bought': 510},\n {'bought': 511},\n {'bought': 512},\n {'bought': 513},\n {'bought': 514},\n {'bought': 515},\n {'bought': 516},\n {'bought': 517},\n {'bought': 518},\n {'bought': 519},\n {'bought': 520},\n {'bought': 521},\n {'bought': 522},\n {'bought': 523},\n {'bought': 524},\n {'bought': 525},\n {'bought': 526},\n {'bought': 527},\n {'bought': 528},\n {'bought': 529},\n {'bought': 530},\n {'bought': 531},\n {'bought': 532},\n {'bought': 533},\n {'bought': 534},\n {'bought': 535},\n {'bought': 536},\n {'bought': 537},\n {'bought': 538},\n {'bought': 539},\n {'bought': 540},\n {'bought': 541},\n {'bought': 542},\n {'bought': 543},\n {'bought': 544},\n {'bought': 545},\n {'bought': 546},\n {'bought': 547},\n {'bought': 548},\n {'bought': 549},\n {'bought': 550},\n {'bought': 551},\n {'bought': 552},\n {'bought': 553},\n {'bought': 554},\n {'bought': 555},\n {'bought': 556},\n {'bought': 557},\n {'bought': 558},\n {'bought': 559},\n {'bought': 560},\n {'bought': 561},\n {'bought': 562},\n {'bought': 563},\n {'bought': 564},\n {'bought': 565},\n {'bought': 566},\n {'bought': 567},\n {'bought': 568},\n {'bought': 569},\n {'bought': 570},\n {'bought': 571},\n {'bought': 575},\n {'bought': 576},\n {'bought': 577},\n {'bought': 578},\n {'bought': 579},\n {'bought': 580},\n {'bought': 581},\n {'bought': 587},\n {'bought': 588},\n {'bought': 590},\n {'bought': 591},\n {'bought': 593},\n {'bought': 594},\n {'bought': 595},\n {'bought': 596},\n {'bought': 597},\n {'bought': 598},\n {'bought': 599},\n {'bought': 600},\n {'bought': 601},\n {'bought': 602},\n {'bought': 603},\n {'bought': 604},\n {'bought': 605},\n {'bought': 606},\n {'bought': 607},\n {'bought': 608},\n {'bought': 609},\n {'bought': 610},\n {'bought': 611},\n {'bought': 612},\n {'bought': 613},\n {'bought': 614},\n {'bought': 615},\n {'bought': 616},\n {'bought': 617},\n {'bought': 618},\n {'bought': 619},\n {'bought': 620},\n {'bought': 621},\n {'bought': 622},\n {'bought': 623},\n {'bought': 624},\n {'bought': 625},\n {'bought': 626},\n {'bought': 627},\n {'bought': 628},\n {'bought': 629},\n {'bought': 630},\n {'bought': 631},\n {'bought': 632},\n {'bought': 633},\n {'bought': 634},\n {'bought': 635},\n {'bought': 636},\n {'bought': 637},\n {'bought': 638},\n {'bought': 639},\n {'bought': 640},\n {'bought': 641},\n {'bought': 642},\n {'bought': 643},\n {'bought': 644},\n {'bought': 645},\n {'bought': 646},\n {'bought': 647},\n {'bought': 648},\n {'bought': 649},\n {'bought': 650},\n {'bought': 651},\n {'bought': 652},\n {'bought': 653},\n {'bought': 654},\n {'bought': 655},\n {'bought': 656},\n {'bought': 657},\n {'bought': 658},\n {'bought': 659},\n {'bought': 660},\n {'bought': 661},\n {'bought': 662},\n {'bought': 663},\n {'bought': 664},\n {'bought': 665},\n {'bought': 666},\n {'bought': 667},\n {'bought': 668},\n {'bought': 669},\n {'bought': 670},\n {'bought': 671},\n {'bought': 672},\n {'bought': 673},\n {'bought': 674},\n {'bought': 675},\n {'bought': 676},\n {'bought': 677},\n {'bought': 678},\n {'bought': 679},\n {'bought': 680},\n {'bought': 681},\n {'bought': 682},\n {'bought': 683},\n {'bought': 684},\n {'bought': 686},\n {'bought': 687},\n {'bought': 688},\n {'bought': 689},\n {'bought': 690},\n {'bought': 691},\n {'bought': 692},\n {'bought': 693},\n {'bought': 694},\n {'bought': 695},\n {'bought': 696},\n {'bought': 697},\n {'bought': 698},\n {'bought': 699},\n {'bought': 700},\n {'bought': 701},\n {'bought': 702},\n {'bought': 703},\n {'bought': 704},\n {'bought': 705},\n {'bought': 706},\n {'bought': 707},\n {'bought': 708},\n {'bought': 709},\n {'bought': 710},\n {'bought': 711},\n {'bought': 712},\n {'bought': 713},\n {'bought': 714},\n {'bought': 715},\n {'bought': 716},\n {'bought': 717},\n {'bought': 718},\n {'bought': 719},\n {'bought': 720},\n {'bought': 721},\n {'bought': 722},\n {'bought': 723},\n {'bought': 724},\n {'bought': 725},\n {'bought': 726},\n {'bought': 727},\n {'bought': 728},\n {'bought': 729},\n {'bought': 730},\n {'bought': 731},\n {'bought': 732},\n {'bought': 733},\n {'bought': 734},\n {'bought': 735},\n {'bought': 736},\n {'bought': 737},\n {'bought': 738},\n {'bought': 739},\n {'bought': 740},\n {'bought': 741},\n {'bought': 742},\n {'bought': 743},\n {'bought': 744},\n {'bought': 745},\n {'bought': 746},\n {'bought': 747},\n {'bought': 748},\n {'bought': 749},\n {'bought': 750},\n {'bought': 751},\n {'bought': 752},\n {'bought': 753},\n {'bought': 754},\n {'bought': 755},\n {'bought': 756},\n {'bought': 757},\n {'bought': 758},\n {'bought': 759},\n {'bought': 760},\n {'bought': 761},\n {'bought': 762},\n {'bought': 763},\n {'bought': 764},\n {'bought': 765},\n {'bought': 766},\n {'bought': 767},\n {'bought': 768},\n {'bought': 769},\n {'bought': 770},\n {'bought': 771},\n {'bought': 772},\n {'bought': 773},\n {'bought': 774},\n {'bought': 775},\n {'bought': 776},\n {'bought': 777},\n {'bought': 778},\n {'bought': 779},\n {'bought': 780},\n {'bought': 781},\n {'bought': 782},\n {'bought': 783},\n {'bought': 784},\n {'bought': 785},\n {'bought': 786},\n {'bought': 787},\n {'bought': 788},\n {'bought': 789},\n {'bought': 790},\n {'bought': 791},\n {'bought': 792},\n {'bought': 793},\n {'bought': 794},\n {'bought': 795},\n {'bought': 796},\n {'bought': 797},\n {'bought': 798},\n {'bought': 799},\n {'bought': 800},\n {'bought': 801},\n {'bought': 802},\n {'bought': 803},\n {'bought': 804},\n {'bought': 805},\n {'bought': 806},\n {'bought': 807},\n {'bought': 808},\n {'bought': 809},\n {'bought': 810},\n {'bought': 811},\n {'bought': 812},\n {'bought': 815},\n {'bought': 818},\n {'bought': 819},\n {'bought': 820},\n {'bought': 821},\n {'bought': 822},\n {'bought': 823},\n {'bought': 825},\n {'bought': 829},\n {'bought': 848},\n {'bought': 849},\n {'bought': 853},\n {'bought': 854},\n {'bought': 855},\n {'bought': 856},\n {'bought': 858},\n {'bought': 860},\n {'bought': 862},\n {'bought': 865},\n {'bought': 866},\n {'bought': 867},\n {'bought': 868},\n {'bought': 869},\n {'bought': 871},\n {'bought': 872},\n {'bought': 873},\n {'bought': 874},\n {'bought': 876},\n {'bought': 877},\n {'bought': 878},\n {'bought': 880},\n {'bought': 881},\n {'bought': 882},\n {'bought': 884},\n {'bought': 887},\n {'bought': 888},\n {'bought': 891},\n {'bought': 892},\n {'bought': 893},\n {'bought': 894},\n {'bought': 895},\n {'bought': 896},\n {'bought': 898},\n {'bought': 899},\n {'bought': 922},\n {'bought': 925},\n {'bought': 926},\n {'bought': 939},\n {'bought': 940},\n {'bought': 941},\n {'bought': 943},\n {'bought': 944},\n {'bought': 945},\n {'bought': 946},\n {'bought': 947},\n {'bought': 951},\n {'bought': 954},\n {'bought': 955},\n {'bought': 958},\n {'bought': 959},\n {'bought': 962},\n {'bought': 964},\n {'bought': 965},\n {'bought': 966},\n {'bought': 967},\n {'bought': 968},\n {'bought': 969},\n {'bought': 970},\n {'bought': 972},\n {'bought': 973},\n {'bought': 975},\n {'bought': 977},\n {'bought': 978},\n {'bought': 980},\n {'bought': 981},\n {'bought': 983},\n {'bought': 984},\n {'bought': 985},\n {'bought': 987},\n {'bought': 991},\n {'bought': 993},\n {'bought': 995},\n {'bought': 996},\n {'bought': 997},\n {'bought': 998},\n {'bought': 999},\n {'bought': 1000},\n {'bought': 1002},\n {'bought': 1003},\n {'bought': 1009},\n {'bought': 1010},\n {'bought': 1012},\n {'bought': 1013},\n {'bought': 1014},\n {'bought': 1015},\n {'bought': 1017},\n {'bought': 1019},\n {'bought': 1020},\n {'bought': 1022},\n {'bought': 1023},\n {'bought': 1024},\n {'bought': 1034},\n {'bought': 1035},\n {'bought': 1036},\n {'bought': 1037},\n {'bought': 1039},\n {'bought': 1041},\n {'bought': 1043},\n {'bought': 1044},\n {'bought': 1045},\n {'bought': 1048},\n {'bought': 1050},\n {'bought': 1051},\n {'bought': 1053},\n {'bought': 1054},\n {'bought': 1055},\n {'bought': 1071},\n {'bought': 1072},\n {'bought': 1073},\n {'bought': 1074},\n {'bought': 1076},\n {'bought': 1080},\n {'bought': 1083},\n {'bought': 1084},\n {'bought': 1087},\n {'bought': 1093},\n {'bought': 1094},\n {'bought': 1095},\n {'bought': 1096},\n {'bought': 1098},\n {'bought': 1100},\n {'bought': 1106},\n {'bought': 1108},\n {'bought': 1109},\n {'bought': 1111},\n {'bought': 1112},\n {'bought': 1113},\n {'bought': 1114},\n {'bought': 1115},\n {'bought': 1116},\n {'bought': 1121},\n {'bought': 1122},\n {'bought': 1126},\n {'bought': 1129},\n {'bought': 1130},\n {'bought': 1133},\n {'bought': 1134},\n {'bought': 1135},\n {'bought': 1137},\n {'bought': 1138},\n {'bought': 1139},\n {'bought': 1141},\n {'bought': 1142},\n {'bought': 1143},\n {'bought': 1145},\n {'bought': 1146},\n {'bought': 1148},\n {'bought': 1151},\n {'bought': 1157},\n {'bought': 1164},\n {'bought': 1166},\n {'bought': 1169},\n {'bought': 1170},\n {'bought': 1172},\n {'bought': 1173},\n {'bought': 1177},\n {'bought': 1178},\n {'bought': 1180},\n {'bought': 1184},\n {'bought': 1185},\n {'bought': 1186},\n {'bought': 1187},\n {'bought': 1190},\n {'bought': 1191},\n {'bought': 1192},\n {'bought': 1193},\n {'bought': 1195},\n {'bought': 1196},\n {'bought': 1198},\n {'bought': 1203},\n {'bought': 1204},\n {'bought': 1206},\n {'bought': 1209},\n {'bought': 1210},\n {'bought': 1211},\n {'bought': 1215},\n {'bought': 1222},\n {'bought': 1224},\n {'bought': 1226},\n {'bought': 1228},\n {'bought': 1230},\n {'bought': 1234},\n {'bought': 1235},\n {'bought': 1237},\n {'bought': 1239},\n {'bought': 1247},\n {'bought': 1248},\n {'bought': 1250},\n {'bought': 1252},\n {'bought': 1254},\n {'bought': 1255},\n {'bought': 1259},\n {'bought': 1260},\n {'bought': 1263},\n {'bought': 1264},\n {'bought': 1268},\n {'bought': 1270},\n {'bought': 1271},\n {'bought': 1274},\n {'bought': 1277},\n {'bought': 1279},\n {'bought': 1280},\n {'bought': 1281},\n {'bought': 1282},\n {'bought': 1283},\n {'bought': 1284},\n {'bought': 1285},\n {'bought': 1286},\n {'bought': 1289},\n {'bought': 1291},\n {'bought': 1293},\n {'bought': 1294},\n {'bought': 1295},\n {'bought': 1297},\n {'bought': 1299},\n {'bought': 1300},\n {'bought': 1301},\n {'bought': 1302},\n {'bought': 1303},\n {'bought': 1304},\n {'bought': 1306},\n {'bought': 1307},\n {'bought': 1308},\n {'bought': 1309},\n {'bought': 1310},\n {'bought': 1312},\n {'bought': 1317},\n {'bought': 1318},\n {'bought': 1320},\n {'bought': 1324},\n {'bought': 1325},\n {'bought': 1326},\n {'bought': 1328},\n {'bought': 1330},\n {'bought': 1331},\n {'bought': 1333},\n {'bought': 1334},\n {'bought': 1336},\n {'bought': 1338},\n {'bought': 1340},\n {'bought': 1341},\n {'bought': 1342},\n {'bought': 1344},\n {'bought': 1346},\n {'bought': 1347},\n {'bought': 1348},\n {'bought': 1349},\n {'bought': 1350},\n {'bought': 1351},\n {'bought': 1352},\n {'bought': 1353},\n {'bought': 1354},\n {'bought': 1356},\n {'bought': 1357},\n {'bought': 1358},\n {'bought': 1359},\n {'bought': 1363},\n {'bought': 1364},\n {'bought': 1365},\n {'bought': 1366},\n {'bought': 1367},\n {'bought': 1368},\n {'bought': 1369},\n {'bought': 1370},\n {'bought': 1374},\n {'bought': 1378},\n {'bought': 1379},\n {'bought': 1380},\n {'bought': 1386},\n {'bought': 1388},\n {'bought': 1390},\n {'bought': 1391},\n {'bought': 1395},\n {'bought': 1396},\n {'bought': 1398},\n {'bought': 1400},\n {'bought': 1403},\n {'bought': 1404},\n {'bought': 1405},\n {'bought': 1406},\n {'bought': 1407},\n {'bought': 1409},\n {'bought': 1410},\n {'bought': 1412},\n {'bought': 1414},\n {'bought': 1416},\n {'bought': 1417},\n {'bought': 1423},\n {'bought': 1427},\n {'bought': 1428},\n {'bought': 1429},\n {'bought': 1430},\n {'bought': 1433},\n {'bought': 1434},\n {'bought': 1437},\n {'bought': 1438},\n {'bought': 1439},\n {'bought': 1441},\n {'bought': 1442},\n {'bought': 1443},\n {'bought': 1445},\n {'bought': 1446},\n {'bought': 1447},\n {'bought': 1448},\n {'bought': 1449},\n {'bought': 1450},\n {'bought': 1451},\n {'bought': 1452},\n {'bought': 1453},\n {'bought': 1456},\n {'bought': 1460},\n {'bought': 1461},\n {'bought': 1462},\n {'bought': 1465},\n {'bought': 1466},\n {'bought': 1470},\n {'bought': 1473},\n {'bought': 1474},\n {'bought': 1475},\n {'bought': 1476},\n {'bought': 1485},\n {'bought': 1487},\n {'bought': 1489},\n {'bought': 1492},\n {'bought': 1493},\n {'bought': 1494},\n {'bought': 1495},\n {'bought': 1496},\n {'bought': 1497},\n {'bought': 1500},\n {'bought': 1503},\n {'bought': 1515},\n {'bought': 1516},\n {'bought': 1517},\n {'bought': 1519},\n {'bought': 1520},\n {'bought': 1521},\n {'bought': 1522},\n {'bought': 1523},\n {'bought': 1524},\n {'bought': 1525},\n {'bought': 1526},\n {'bought': 1527},\n {'bought': 1528},\n {'bought': 1531},\n {'bought': 1534},\n {'bought': 1590},\n {'bought': 1591},\n {'bought': 1592},\n {'bought': 1593},\n {'bought': 1594},\n {'bought': 1595},\n {'bought': 1596},\n {'bought': 1600},\n {'bought': 1602},\n {'bought': 1603},\n {'bought': 1606},\n {'bought': 1608},\n {'bought': 1609},\n {'bought': 1611},\n {'bought': 1613},\n {'bought': 1614},\n {'bought': 1617},\n {'bought': 1618},\n {'bought': 1619},\n {'bought': 1620},\n {'bought': 1621},\n {'bought': 1622},\n {'bought': 1623},\n {'bought': 1624},\n {'bought': 1628},\n {'bought': 1629},\n {'bought': 1631},\n {'bought': 1632},\n {'bought': 1635},\n {'bought': 1636},\n {'bought': 1637},\n {'bought': 1638},\n {'bought': 1639},\n {'bought': 1640},\n {'bought': 1641},\n {'bought': 1644},\n {'bought': 1645},\n {'bought': 1647},\n {'bought': 1648},\n {'bought': 1649},\n {'bought': 1650},\n {'bought': 1651},\n {'bought': 1652},\n {'bought': 1656},\n {'bought': 1657},\n {'bought': 1658},\n {'bought': 1659},\n {'bought': 1660},\n {'bought': 1661},\n {'bought': 1662},\n {'bought': 1663},\n {'bought': 1664},\n {'bought': 1665},\n {'bought': 1666},\n {'bought': 1667},\n {'bought': 1668},\n {'bought': 1669},\n {'bought': 1671},\n {'bought': 1673},\n {'bought': 1674},\n {'bought': 1675},\n {'bought': 1680},\n {'bought': 1683},\n {'bought': 1684},\n {'bought': 1688},\n {'bought': 1690},\n {'bought': 1691},\n {'bought': 1692},\n {'bought': 1694},\n {'bought': 1695},\n {'bought': 1697},\n {'bought': 1699},\n {'bought': 1700},\n {'bought': 1702},\n {'bought': 1704},\n {'bought': 1707},\n {'bought': 1708},\n {'bought': 1709},\n {'bought': 1710},\n {'bought': 1711},\n {'bought': 1716},\n {'bought': 1717},\n {'bought': 1718},\n {'bought': 1719},\n {'bought': 1720},\n {'bought': 1723},\n {'bought': 1724},\n {'bought': 1729},\n {'bought': 1730},\n {'bought': 1731},\n {'bought': 1737},\n {'bought': 1738},\n {'bought': 1740},\n {'bought': 1743},\n {'bought': 1744},\n {'bought': 1747},\n {'bought': 1748},\n {'bought': 1751},\n {'bought': 1753},\n {'bought': 1754},\n {'bought': 1755},\n {'bought': 1756},\n {'bought': 1760},\n {'bought': 1761},\n {'bought': 1763},\n {'bought': 1765},\n {'bought': 1768},\n {'bought': 1771},\n {'bought': 1772},\n {'bought': 1773},\n {'bought': 1774},\n {'bought': 1775},\n {'bought': 1778},\n {'bought': 1781},\n {'bought': 1782},\n {'bought': 1783},\n {'bought': 1785},\n {'bought': 1786},\n {'bought': 1789},\n {'bought': 1790},\n {'bought': 1791},\n {'bought': 1792},\n {'bought': 1795},\n {'bought': 1796},\n {'bought': 1797},\n {'bought': 1798},\n {'bought': 1801},\n {'bought': 1802},\n {'bought': 1803},\n {'bought': 1804},\n {'bought': 1805},\n {'bought': 1813},\n {'bought': 1814},\n {'bought': 1815},\n {'bought': 1817},\n {'bought': 1818},\n {'bought': 1819},\n {'bought': 1820},\n {'bought': 1821},\n {'bought': 1823},\n {'bought': 1824},\n {'bought': 1825},\n {'bought': 1826},\n {'bought': 1828},\n {'bought': 1829},\n {'bought': 1831},\n {'bought': 1833},\n {'bought': 1834},\n {'bought': 1835},\n {'bought': 1837},\n {'bought': 1839},\n {'bought': 1840},\n {'bought': 1841},\n {'bought': 1842},\n {'bought': 1843},\n {'bought': 1845},\n {'bought': 1846},\n {'bought': 1849},\n {'bought': 1850},\n {'bought': 1851},\n {'bought': 1854},\n {'bought': 1855},\n {'bought': 1858},\n {'bought': 1862},\n {'bought': 1863},\n {'bought': 1864},\n {'bought': 1868},\n {'bought': 1869},\n {'bought': 1870},\n {'bought': 1871},\n {'bought': 1872},\n {'bought': 1873},\n {'bought': 1874},\n {'bought': 1875},\n {'bought': 1876},\n {'bought': 1877},\n {'bought': 1878},\n {'bought': 1879},\n {'bought': 1880},\n {'bought': 1881},\n {'bought': 1882},\n {'bought': 1883},\n {'bought': 1884},\n {'bought': 1885},\n {'bought': 1886},\n {'bought': 1887},\n {'bought': 1888},\n {'bought': 1889},\n {'bought': 1890},\n {'bought': 1891},\n {'bought': 1892},\n {'bought': 1893},\n {'bought': 1894},\n {'bought': 1895},\n {'bought': 1896},\n {'bought': 1897},\n {'bought': 1898},\n ...]"
     },
     "execution_count": 17,
     "metadata": {},
     "output_type": "execute_result"
    }
   ],
   "source": [
    "all_data_index_buy_sell[6]"
   ],
   "metadata": {
    "collapsed": false,
    "ExecuteTime": {
     "end_time": "2024-02-27T00:25:56.629374100Z",
     "start_time": "2024-02-27T00:25:56.612482100Z"
    }
   },
   "execution_count": 17
  },
  {
   "cell_type": "code",
   "outputs": [
    {
     "name": "stdout",
     "output_type": "stream",
     "text": [
      "All different period data len: 7 true: 6734 false: 14482\n"
     ]
    }
   ],
   "source": [
    "import pandas as pd\n",
    "\n",
    "all_new_data_buy = list()\n",
    "for data_index_buy_sell in all_data_index_buy_sell:\n",
    "    new_data_buy = list()\n",
    "    for i, data in enumerate(data_index_buy_sell):\n",
    "        if list(data_index_buy_sell[i].keys())[0] != \"sold\":\n",
    "            new_data_buy.append(data)\n",
    "    all_new_data_buy.append(new_data_buy)\n",
    "#all_new_data_buy = all_data_index_buy_sell\n",
    "\n",
    "all_df_data = list()\n",
    "for c_i, candles in enumerate(all_candles):\n",
    "    df_data = {\"index\": [], \"result\": [], \"close\": [],\n",
    "               \"open\": [], \"high\": [], \"low\": [],\n",
    "               \"volume\": []}\n",
    "    counter = 0\n",
    "    for i, candle in enumerate(list(candles)):\n",
    "        df_data[\"index\"].append(i)\n",
    "        df_data[\"close\"].append(float(quotation_to_decimal(candle.close)))\n",
    "        df_data[\"open\"].append(float(quotation_to_decimal(candle.open)))\n",
    "        df_data[\"high\"].append(float(quotation_to_decimal(candle.high)))\n",
    "        df_data[\"low\"].append(float(quotation_to_decimal(candle.low)))\n",
    "        df_data[\"volume\"].append(candle.volume)\n",
    "        \n",
    "        if list(all_new_data_buy[c_i][counter].keys())[0] == \"bought\" and i == all_new_data_buy[c_i][counter][\"bought\"]:\n",
    "            df_data[\"result\"].append(1)\n",
    "            counter += 1 if counter < len(all_new_data_buy[c_i]) - 1 else 0\n",
    "        # elif list(all_new_data_buy[c_i][counter].keys())[0] == \"sold\" and i == all_new_data_buy[c_i][counter][\"sold\"]:\n",
    "        #     df_data[\"result\"].append(1)\n",
    "        #     counter += 1 if counter < len(all_new_data_buy[c_i]) - 1 else 0\n",
    "        else:\n",
    "            df_data[\"result\"].append(0)\n",
    "    all_df_data.append(df_data)\n",
    "        \n",
    "print(f\"All different period data len: {len(all_df_data)}\", f\"true: {all_df_data[0]['result'].count(1)}\", f\"false: {all_df_data[0]['result'].count(0)}\")"
   ],
   "metadata": {
    "collapsed": false,
    "ExecuteTime": {
     "end_time": "2024-02-27T00:26:27.204120500Z",
     "start_time": "2024-02-27T00:26:26.385818100Z"
    }
   },
   "execution_count": 18
  },
  {
   "cell_type": "markdown",
   "source": [
    "# Add Strategy Signals To DF"
   ],
   "metadata": {
    "collapsed": false
   }
  },
  {
   "cell_type": "code",
   "outputs": [
    {
     "name": "stdout",
     "output_type": "stream",
     "text": [
      "Strategy blocks len: 8\n"
     ]
    }
   ],
   "source": [
    "from Strategies.StrategyAroon import StrategyAroon\n",
    "from Strategies.StrategyStochRSI import StrategyStochRSI\n",
    "from Strategies.StrategyEMA import StrategyEMA\n",
    "\n",
    "# candle interval init (for this case is always 1 min)\n",
    "candle_interval = CandleInterval.CANDLE_INTERVAL_1_MIN\n",
    "\n",
    "# init all strategies\n",
    "EMA_down = StrategyEMA()\n",
    "EMA_up = StrategyEMA()\n",
    "EMA_flat = StrategyEMA()\n",
    "EMA_short_up = StrategyEMA()\n",
    "EMA_short_down = StrategyEMA()\n",
    "EMA_7 = StrategyEMA()\n",
    "EMA_8 = StrategyEMA()\n",
    "\n",
    "RSI_down = StrategyRSI()\n",
    "RSI_up = StrategyRSI()\n",
    "RSI_flat = StrategyRSI()\n",
    "RSI_short_up = StrategyRSI()\n",
    "RSI_short_down = StrategyRSI()\n",
    "RSI_7 = StrategyRSI()\n",
    "RSI_8 = StrategyRSI()\n",
    "\n",
    "MACD_down = StrategyMACD()\n",
    "MACD_up = StrategyMACD()\n",
    "MACD_flat = StrategyMACD()\n",
    "MACD_short_up = StrategyMACD()\n",
    "MACD_short_down = StrategyMACD()\n",
    "MACD_7 = StrategyMACD()\n",
    "MACD_8 = StrategyMACD()\n",
    "\n",
    "BB_down = StrategyBB()\n",
    "BB_up = StrategyBB()\n",
    "BB_flat = StrategyBB()\n",
    "BB_short_up = StrategyBB()\n",
    "BB_short_down = StrategyBB()\n",
    "BB_7 = StrategyBB()\n",
    "BB_8 = StrategyBB()\n",
    "\n",
    "ST_down = StrategyST()\n",
    "ST_up = StrategyST()\n",
    "ST_flat = StrategyST()\n",
    "ST_short_up = StrategyST()\n",
    "ST_short_down = StrategyST()\n",
    "ST_7 = StrategyST()\n",
    "ST_8 = StrategyST()\n",
    "\n",
    "StochRSI_down = StrategyStochRSI()\n",
    "StochRSI_up = StrategyStochRSI()\n",
    "StochRSI_flat = StrategyStochRSI()\n",
    "StochRSI_short_up = StrategyStochRSI()\n",
    "StochRSI_short_down = StrategyStochRSI()\n",
    "StochRSI_7 = StrategyStochRSI()\n",
    "StochRSI_8 = StrategyStochRSI()\n",
    "\n",
    "Aroon_down = StrategyAroon()\n",
    "Aroon_up = StrategyAroon()\n",
    "Aroon_flat = StrategyAroon()\n",
    "Aroon_short_up = StrategyAroon()\n",
    "Aroon_short_down = StrategyAroon()\n",
    "Aroon_7 = StrategyAroon()\n",
    "Aroon_8 = StrategyAroon()\n",
    "\n",
    "OBV_down = StrategyOBV()\n",
    "OBV_up = StrategyOBV()\n",
    "OBV_flat = StrategyOBV()\n",
    "OBV_short_up = StrategyOBV()\n",
    "OBV_short_down = StrategyOBV()\n",
    "OBV_7 = StrategyOBV()\n",
    "OBV_8 = StrategyOBV()\n",
    "\n",
    "strategies_blocks = [[EMA_down, EMA_up, EMA_flat, EMA_short_up, EMA_short_down, EMA_7, EMA_8], \n",
    "                    [RSI_down, RSI_up, RSI_flat, RSI_short_up, RSI_short_down, RSI_7, RSI_8], \n",
    "                    [MACD_down, MACD_up, MACD_flat, MACD_short_up, MACD_short_down, MACD_7, MACD_8], \n",
    "                    [BB_down, BB_up, BB_flat, BB_short_up, BB_short_down, BB_7, BB_8],\n",
    "                    [StochRSI_down, StochRSI_up, StochRSI_flat, StochRSI_short_up, StochRSI_short_down, StochRSI_7, StochRSI_8],\n",
    "                    [ST_down, ST_up, ST_flat, ST_short_up, ST_short_down, ST_7, ST_8],\n",
    "                    [Aroon_down, Aroon_up, Aroon_flat, Aroon_short_up, Aroon_short_down, Aroon_7, Aroon_8],\n",
    "                    [OBV_down, OBV_up, OBV_flat, OBV_short_up, OBV_short_down, OBV_7, OBV_8]]\n",
    "\n",
    "for strategy_block in strategies_blocks:\n",
    "    strategy_block[0].initialize_moving_avg_container(candles_down[:strategy_block[0].history_candles_length])\n",
    "    strategy_block[1].initialize_moving_avg_container(candles_up[:strategy_block[1].history_candles_length])\n",
    "    strategy_block[2].initialize_moving_avg_container(candles_flat[:strategy_block[2].history_candles_length])\n",
    "    strategy_block[3].initialize_moving_avg_container(candles_flat[:strategy_block[3].history_candles_length])\n",
    "    strategy_block[4].initialize_moving_avg_container(candles_flat[:strategy_block[4].history_candles_length])\n",
    "    strategy_block[5].initialize_moving_avg_container(candles_flat[:strategy_block[5].history_candles_length])\n",
    "    strategy_block[6].initialize_moving_avg_container(candles_flat[:strategy_block[6].history_candles_length])\n",
    "\n",
    "print(f\"Strategy blocks len: {len(strategies_blocks)}\")     "
   ],
   "metadata": {
    "collapsed": false,
    "ExecuteTime": {
     "end_time": "2024-02-27T00:26:32.200840500Z",
     "start_time": "2024-02-27T00:26:32.191380800Z"
    }
   },
   "execution_count": 19
  },
  {
   "cell_type": "code",
   "outputs": [
    {
     "name": "stdout",
     "output_type": "stream",
     "text": [
      "Small length check should be the length of candles: 21047, candle len: 21047\n"
     ]
    }
   ],
   "source": [
    "all_df_data_st = [{} for i in range(len(strategies_blocks[0]))]\n",
    "\n",
    "for strategy_block in strategies_blocks:\n",
    "    for str_i, strategy_type in enumerate(strategy_block):\n",
    "        for candle_index in range(strategy_type.history_candles_length, len(all_candles[str_i])):\n",
    "            params = strategy_type.get_candle_param(all_candles[str_i][candle_index])\n",
    "            for param_name in params:\n",
    "                if candle_index == strategy_type.history_candles_length:\n",
    "                    all_df_data_st[str_i][param_name] = list()\n",
    "                    [all_df_data_st[str_i][param_name].append(None) for i in range(strategy_type.history_candles_length)]\n",
    "                all_df_data_st[str_i][param_name].append(params[param_name])\n",
    "            \n",
    "print(f\"Small length check should be the length of candles: {len(all_df_data_st[2]['BB_lower'])}, candle len: {len(all_candles[2])}\")"
   ],
   "metadata": {
    "collapsed": false,
    "ExecuteTime": {
     "end_time": "2024-02-27T00:26:58.955619700Z",
     "start_time": "2024-02-27T00:26:33.746450500Z"
    }
   },
   "execution_count": 20
  },
  {
   "cell_type": "code",
   "outputs": [
    {
     "data": {
      "text/plain": "       index  result   close    open    high     low  volume  EMA_prev_diff  \\\n200      200       1  269.90  269.90  269.90  269.89     998       0.046750   \n201      201       1  269.87  269.89  269.90  269.86     615       0.044920   \n202      202       1  269.90  269.87  269.90  269.86     206       0.045797   \n203      203       1  269.89  269.89  269.90  269.86     495       0.043981   \n204      204       1  269.90  269.90  269.90  269.86     307       0.043165   \n...      ...     ...     ...     ...     ...     ...     ...            ...   \n21211  21211       0  277.35  277.38  277.39  277.34     184      -0.117654   \n21212  21212       0  277.37  277.37  277.40  277.37     289      -0.113796   \n21213  21213       0  277.51  277.40  277.52  277.39    4965      -0.111937   \n21214  21214       0  277.43  277.51  277.52  277.42    2057      -0.122107   \n21215  21215       0  277.50  277.42  277.54  277.41    2761      -0.124277   \n\n       EMA_current_diff   prev_RSI  ...    BB_lower  StochRSI_K  StochRSI_D  \\\n200            0.044920  50.398933  ...  269.851297    4.761905   27.299193   \n201            0.045797  50.398933  ...  269.850239    1.904762   26.346812   \n202            0.043981  50.305377  ...  269.850488    4.761905   27.299193   \n203            0.043165  50.398378  ...  269.850660    3.809524   26.981733   \n204            0.041540  50.366643  ...  269.850660    4.761905   27.299193   \n...                 ...        ...  ...         ...         ...         ...   \n21211         -0.113796  50.711109  ...  277.241981    2.459016   26.531563   \n21212         -0.111937  50.922179  ...  277.263237    4.098361   27.078012   \n21213         -0.122107  51.133543  ...  277.276277   15.573770   30.903148   \n21214         -0.124277  52.577556  ...  277.295849    9.016393   28.717356   \n21215         -0.132074  51.695856  ...  277.299428   15.126050   30.753908   \n\n         ST_upper    ST_lower       ATR  aroon_up  aroon_low       OBV  \\\n200    272.763613  266.967420  1.028940      16.0       68.0  -42073.0   \n201    272.763613  266.967420  1.029678      12.0       64.0  -42688.0   \n202    272.763613  266.967420  1.030366       8.0       60.0  -42482.0   \n203    272.763613  266.967420  1.031008       4.0       56.0  -42977.0   \n204    272.763613  266.967420  1.031607       4.0       52.0  -42670.0   \n...           ...         ...       ...       ...        ...       ...   \n21211  271.266986  284.878411  1.086304      56.0        8.0 -955685.0   \n21212  271.266986  284.878411  1.082550      52.0        4.0 -955396.0   \n21213  271.266986  284.878411  1.085713      48.0        4.0 -950431.0   \n21214  271.266986  284.878411  1.086666      44.0        4.0 -952488.0   \n21215  271.266986  284.878411  1.089555      40.0        4.0 -949727.0   \n\n              OBV_MA  \n200    -45548.200000  \n201    -45433.266667  \n202    -45304.600000  \n203    -45208.933333  \n204    -45092.800000  \n...              ...  \n21211 -949459.466667  \n21212 -950347.800000  \n21213 -950905.133333  \n21214 -951562.200000  \n21215 -952061.200000  \n\n[21016 rows x 24 columns]",
      "text/html": "<div>\n<style scoped>\n    .dataframe tbody tr th:only-of-type {\n        vertical-align: middle;\n    }\n\n    .dataframe tbody tr th {\n        vertical-align: top;\n    }\n\n    .dataframe thead th {\n        text-align: right;\n    }\n</style>\n<table border=\"1\" class=\"dataframe\">\n  <thead>\n    <tr style=\"text-align: right;\">\n      <th></th>\n      <th>index</th>\n      <th>result</th>\n      <th>close</th>\n      <th>open</th>\n      <th>high</th>\n      <th>low</th>\n      <th>volume</th>\n      <th>EMA_prev_diff</th>\n      <th>EMA_current_diff</th>\n      <th>prev_RSI</th>\n      <th>...</th>\n      <th>BB_lower</th>\n      <th>StochRSI_K</th>\n      <th>StochRSI_D</th>\n      <th>ST_upper</th>\n      <th>ST_lower</th>\n      <th>ATR</th>\n      <th>aroon_up</th>\n      <th>aroon_low</th>\n      <th>OBV</th>\n      <th>OBV_MA</th>\n    </tr>\n  </thead>\n  <tbody>\n    <tr>\n      <th>200</th>\n      <td>200</td>\n      <td>1</td>\n      <td>269.90</td>\n      <td>269.90</td>\n      <td>269.90</td>\n      <td>269.89</td>\n      <td>998</td>\n      <td>0.046750</td>\n      <td>0.044920</td>\n      <td>50.398933</td>\n      <td>...</td>\n      <td>269.851297</td>\n      <td>4.761905</td>\n      <td>27.299193</td>\n      <td>272.763613</td>\n      <td>266.967420</td>\n      <td>1.028940</td>\n      <td>16.0</td>\n      <td>68.0</td>\n      <td>-42073.0</td>\n      <td>-45548.200000</td>\n    </tr>\n    <tr>\n      <th>201</th>\n      <td>201</td>\n      <td>1</td>\n      <td>269.87</td>\n      <td>269.89</td>\n      <td>269.90</td>\n      <td>269.86</td>\n      <td>615</td>\n      <td>0.044920</td>\n      <td>0.045797</td>\n      <td>50.398933</td>\n      <td>...</td>\n      <td>269.850239</td>\n      <td>1.904762</td>\n      <td>26.346812</td>\n      <td>272.763613</td>\n      <td>266.967420</td>\n      <td>1.029678</td>\n      <td>12.0</td>\n      <td>64.0</td>\n      <td>-42688.0</td>\n      <td>-45433.266667</td>\n    </tr>\n    <tr>\n      <th>202</th>\n      <td>202</td>\n      <td>1</td>\n      <td>269.90</td>\n      <td>269.87</td>\n      <td>269.90</td>\n      <td>269.86</td>\n      <td>206</td>\n      <td>0.045797</td>\n      <td>0.043981</td>\n      <td>50.305377</td>\n      <td>...</td>\n      <td>269.850488</td>\n      <td>4.761905</td>\n      <td>27.299193</td>\n      <td>272.763613</td>\n      <td>266.967420</td>\n      <td>1.030366</td>\n      <td>8.0</td>\n      <td>60.0</td>\n      <td>-42482.0</td>\n      <td>-45304.600000</td>\n    </tr>\n    <tr>\n      <th>203</th>\n      <td>203</td>\n      <td>1</td>\n      <td>269.89</td>\n      <td>269.89</td>\n      <td>269.90</td>\n      <td>269.86</td>\n      <td>495</td>\n      <td>0.043981</td>\n      <td>0.043165</td>\n      <td>50.398378</td>\n      <td>...</td>\n      <td>269.850660</td>\n      <td>3.809524</td>\n      <td>26.981733</td>\n      <td>272.763613</td>\n      <td>266.967420</td>\n      <td>1.031008</td>\n      <td>4.0</td>\n      <td>56.0</td>\n      <td>-42977.0</td>\n      <td>-45208.933333</td>\n    </tr>\n    <tr>\n      <th>204</th>\n      <td>204</td>\n      <td>1</td>\n      <td>269.90</td>\n      <td>269.90</td>\n      <td>269.90</td>\n      <td>269.86</td>\n      <td>307</td>\n      <td>0.043165</td>\n      <td>0.041540</td>\n      <td>50.366643</td>\n      <td>...</td>\n      <td>269.850660</td>\n      <td>4.761905</td>\n      <td>27.299193</td>\n      <td>272.763613</td>\n      <td>266.967420</td>\n      <td>1.031607</td>\n      <td>4.0</td>\n      <td>52.0</td>\n      <td>-42670.0</td>\n      <td>-45092.800000</td>\n    </tr>\n    <tr>\n      <th>...</th>\n      <td>...</td>\n      <td>...</td>\n      <td>...</td>\n      <td>...</td>\n      <td>...</td>\n      <td>...</td>\n      <td>...</td>\n      <td>...</td>\n      <td>...</td>\n      <td>...</td>\n      <td>...</td>\n      <td>...</td>\n      <td>...</td>\n      <td>...</td>\n      <td>...</td>\n      <td>...</td>\n      <td>...</td>\n      <td>...</td>\n      <td>...</td>\n      <td>...</td>\n      <td>...</td>\n    </tr>\n    <tr>\n      <th>21211</th>\n      <td>21211</td>\n      <td>0</td>\n      <td>277.35</td>\n      <td>277.38</td>\n      <td>277.39</td>\n      <td>277.34</td>\n      <td>184</td>\n      <td>-0.117654</td>\n      <td>-0.113796</td>\n      <td>50.711109</td>\n      <td>...</td>\n      <td>277.241981</td>\n      <td>2.459016</td>\n      <td>26.531563</td>\n      <td>271.266986</td>\n      <td>284.878411</td>\n      <td>1.086304</td>\n      <td>56.0</td>\n      <td>8.0</td>\n      <td>-955685.0</td>\n      <td>-949459.466667</td>\n    </tr>\n    <tr>\n      <th>21212</th>\n      <td>21212</td>\n      <td>0</td>\n      <td>277.37</td>\n      <td>277.37</td>\n      <td>277.40</td>\n      <td>277.37</td>\n      <td>289</td>\n      <td>-0.113796</td>\n      <td>-0.111937</td>\n      <td>50.922179</td>\n      <td>...</td>\n      <td>277.263237</td>\n      <td>4.098361</td>\n      <td>27.078012</td>\n      <td>271.266986</td>\n      <td>284.878411</td>\n      <td>1.082550</td>\n      <td>52.0</td>\n      <td>4.0</td>\n      <td>-955396.0</td>\n      <td>-950347.800000</td>\n    </tr>\n    <tr>\n      <th>21213</th>\n      <td>21213</td>\n      <td>0</td>\n      <td>277.51</td>\n      <td>277.40</td>\n      <td>277.52</td>\n      <td>277.39</td>\n      <td>4965</td>\n      <td>-0.111937</td>\n      <td>-0.122107</td>\n      <td>51.133543</td>\n      <td>...</td>\n      <td>277.276277</td>\n      <td>15.573770</td>\n      <td>30.903148</td>\n      <td>271.266986</td>\n      <td>284.878411</td>\n      <td>1.085713</td>\n      <td>48.0</td>\n      <td>4.0</td>\n      <td>-950431.0</td>\n      <td>-950905.133333</td>\n    </tr>\n    <tr>\n      <th>21214</th>\n      <td>21214</td>\n      <td>0</td>\n      <td>277.43</td>\n      <td>277.51</td>\n      <td>277.52</td>\n      <td>277.42</td>\n      <td>2057</td>\n      <td>-0.122107</td>\n      <td>-0.124277</td>\n      <td>52.577556</td>\n      <td>...</td>\n      <td>277.295849</td>\n      <td>9.016393</td>\n      <td>28.717356</td>\n      <td>271.266986</td>\n      <td>284.878411</td>\n      <td>1.086666</td>\n      <td>44.0</td>\n      <td>4.0</td>\n      <td>-952488.0</td>\n      <td>-951562.200000</td>\n    </tr>\n    <tr>\n      <th>21215</th>\n      <td>21215</td>\n      <td>0</td>\n      <td>277.50</td>\n      <td>277.42</td>\n      <td>277.54</td>\n      <td>277.41</td>\n      <td>2761</td>\n      <td>-0.124277</td>\n      <td>-0.132074</td>\n      <td>51.695856</td>\n      <td>...</td>\n      <td>277.299428</td>\n      <td>15.126050</td>\n      <td>30.753908</td>\n      <td>271.266986</td>\n      <td>284.878411</td>\n      <td>1.089555</td>\n      <td>40.0</td>\n      <td>4.0</td>\n      <td>-949727.0</td>\n      <td>-952061.200000</td>\n    </tr>\n  </tbody>\n</table>\n<p>21016 rows × 24 columns</p>\n</div>"
     },
     "execution_count": 21,
     "metadata": {},
     "output_type": "execute_result"
    }
   ],
   "source": [
    "# convert to df\n",
    "for i in range(len(all_df_data)):\n",
    "    all_df_data[i] = pd.DataFrame(all_df_data[i])\n",
    "\n",
    "for i in range(len(all_df_data)):\n",
    "    for name in all_df_data_st[i]:\n",
    "        all_df_data[i][name] = all_df_data_st[i][name]\n",
    "\n",
    "biggest_gap = 0\n",
    "for strategy_block in strategies_blocks:\n",
    "    for strategy_type in strategy_block:\n",
    "        if strategy_type.history_candles_length > biggest_gap:\n",
    "            biggest_gap = strategy_type.history_candles_length\n",
    "\n",
    "# delete first NaN elements\n",
    "for i, df in enumerate(all_df_data):\n",
    "    all_df_data[i] = df.drop(df.index[:biggest_gap])\n",
    "\n",
    "concatenated_df = pd.DataFrame()\n",
    "for i, data in enumerate(all_df_data):\n",
    "    data.to_csv(f\"./marked_data/result_with_parameters_{i}.csv\", index=False)\n",
    "    \n",
    "all_df_data[0]"
   ],
   "metadata": {
    "collapsed": false,
    "ExecuteTime": {
     "end_time": "2024-02-27T00:27:01.083597200Z",
     "start_time": "2024-02-27T00:26:58.954614300Z"
    }
   },
   "execution_count": 21
  }
 ],
 "metadata": {
  "kernelspec": {
   "display_name": "Python 3",
   "language": "python",
   "name": "python3"
  },
  "language_info": {
   "codemirror_mode": {
    "name": "ipython",
    "version": 2
   },
   "file_extension": ".py",
   "mimetype": "text/x-python",
   "name": "python",
   "nbconvert_exporter": "python",
   "pygments_lexer": "ipython2",
   "version": "2.7.6"
  }
 },
 "nbformat": 4,
 "nbformat_minor": 0
}
