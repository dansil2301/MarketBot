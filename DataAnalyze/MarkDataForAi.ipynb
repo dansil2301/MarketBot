{
 "cells": [
  {
   "cell_type": "code",
   "execution_count": 1,
   "metadata": {
    "collapsed": true,
    "ExecuteTime": {
     "end_time": "2024-02-22T21:18:59.300340500Z",
     "start_time": "2024-02-22T21:18:59.171325800Z"
    }
   },
   "outputs": [],
   "source": [
    "from Strategies.StrategyBB import StrategyBB\n",
    "from Strategies.StrategyMACD import StrategyMACD\n",
    "from Strategies.StrategyRSI import StrategyRSI\n",
    "from Strategies.StrategyST import StrategyST\n",
    "from historyData.HistoryData import HistoryData\n",
    "from tinkoff.invest.grpc.marketdata_pb2 import CandleInterval\n",
    "from datetime import datetime\n",
    "\n",
    "import asyncio"
   ]
  },
  {
   "cell_type": "code",
   "execution_count": 2,
   "outputs": [],
   "source": [
    "candle_interval = CandleInterval.CANDLE_INTERVAL_1_MIN\n",
    "data_set = HistoryData()"
   ],
   "metadata": {
    "collapsed": false,
    "ExecuteTime": {
     "end_time": "2024-02-22T21:19:03.016616900Z",
     "start_time": "2024-02-22T21:19:03.009099700Z"
    }
   }
  },
  {
   "cell_type": "code",
   "outputs": [],
   "source": [
    "candles_down = None\n",
    "candles_up = None\n",
    "candles_flat = None\n",
    "\n",
    "async def data_get():\n",
    "    global candles_down, candles_up, candles_flat\n",
    "    \n",
    "    candles_down = await (data_set.get_tinkoff_server_data(datetime(2022, 2, 1), datetime(2022, 3, 1), candle_interval))\n",
    "    candles_up = await (data_set.get_tinkoff_server_data(datetime(2023, 3, 1), datetime(2023, 4, 1), candle_interval))\n",
    "    candles_flat = await (data_set.get_tinkoff_server_data(datetime(2024, 1, 1), datetime(2024, 2, 1), candle_interval))\n",
    "\n",
    "# Run the event loop directly using await\n",
    "await data_get()"
   ],
   "metadata": {
    "collapsed": false,
    "ExecuteTime": {
     "end_time": "2024-02-22T21:19:18.523320100Z",
     "start_time": "2024-02-22T21:19:05.073730800Z"
    }
   },
   "execution_count": 3
  },
  {
   "cell_type": "markdown",
   "source": [
    "# Creates a Data Set For Future Model"
   ],
   "metadata": {
    "collapsed": false
   }
  },
  {
   "cell_type": "code",
   "outputs": [
    {
     "data": {
      "text/plain": "22663"
     },
     "execution_count": 4,
     "metadata": {},
     "output_type": "execute_result"
    }
   ],
   "source": [
    "all_candles = [candles_down, candles_up, candles_flat]\n",
    "len(all_candles[1])"
   ],
   "metadata": {
    "collapsed": false,
    "ExecuteTime": {
     "end_time": "2024-02-22T21:19:23.917776600Z",
     "start_time": "2024-02-22T21:19:23.910916600Z"
    }
   },
   "execution_count": 4
  },
  {
   "cell_type": "code",
   "outputs": [
    {
     "name": "stdout",
     "output_type": "stream",
     "text": [
      "Possible profit: 2350.619999999995 Length of the marked data: 12699 total length: 17378\n",
      "Possible profit: 1723.5199999999977 Length of the marked data: 15301 total length: 22663\n",
      "Possible profit: 462.9800000000014 Length of the marked data: 13520 total length: 21769\n"
     ]
    }
   ],
   "source": [
    "from AppLogic.Settings import Settings\n",
    "from tinkoff.invest.utils import quotation_to_decimal\n",
    "\n",
    "commission = 0.0005\n",
    "all_data_index_buy_sell = []\n",
    "\n",
    "for candles in all_candles:\n",
    "    data_index_buy_sell = []\n",
    "    total_earn = 0\n",
    "    total_sum_earned = 0\n",
    "    bought_at = -1\n",
    "    for i, candle in enumerate(list(candles)):\n",
    "        if i == 0:\n",
    "            continue\n",
    "        \n",
    "        current_price = float(quotation_to_decimal(candle.close))\n",
    "        if current_price > float(quotation_to_decimal(candles[i - 1].close)):\n",
    "            if len(data_index_buy_sell) == 0 or list(data_index_buy_sell[-1].keys())[0] == \"sold\":\n",
    "                bought_at = float(quotation_to_decimal(candles[i - 1].close))\n",
    "                data_index_buy_sell.append({\"bought\": i - 1})\n",
    "            total_earn += current_price - float(quotation_to_decimal(candles[i - 1].close))\n",
    "        elif current_price < float(quotation_to_decimal(candles[i - 1].close)):\n",
    "            data_index_buy_sell.append({\"sold\": i - 1})\n",
    "            if total_earn > bought_at * commission + current_price * commission:  #0.1 / 100 * bought_at: bought_at * commission + current_price * commission\n",
    "                total_sum_earned += total_earn\n",
    "            total_earn = 0\n",
    "            \n",
    "    all_data_index_buy_sell.append(data_index_buy_sell)\n",
    "    print(f\"Possible profit: {total_sum_earned}\", f\"Length of the marked data: {len(data_index_buy_sell)}\", f\"total length: {len(candles)}\")"
   ],
   "metadata": {
    "collapsed": false,
    "ExecuteTime": {
     "end_time": "2024-02-22T23:14:36.260200500Z",
     "start_time": "2024-02-22T23:14:36.055578500Z"
    }
   },
   "execution_count": 33
  },
  {
   "cell_type": "code",
   "outputs": [
    {
     "name": "stdout",
     "output_type": "stream",
     "text": [
      "All different period data len: 3 true: 4331 false: 13047\n"
     ]
    }
   ],
   "source": [
    "import pandas as pd\n",
    "\n",
    "all_new_data_buy = list()\n",
    "for data_index_buy_sell in all_data_index_buy_sell:\n",
    "    new_data_buy = list()\n",
    "    for i, data in enumerate(data_index_buy_sell):\n",
    "        if list(data_index_buy_sell[i].keys())[0] != \"sold\":\n",
    "            new_data_buy.append(data)\n",
    "    all_new_data_buy.append(new_data_buy)\n",
    "\n",
    "all_df_data = list()\n",
    "\n",
    "for c_i, candles in enumerate(all_candles):\n",
    "    df_data = {\"index\": [],\n",
    "               \"result\": [],\n",
    "               \"close\": []}\n",
    "    buy_counter = 0\n",
    "    for i, candle in enumerate(list(candles)):\n",
    "        df_data[\"index\"].append(i)\n",
    "        df_data[\"close\"].append(float(quotation_to_decimal(candle.close)))\n",
    "        \n",
    "        if i == all_new_data_buy[c_i][buy_counter][\"bought\"]:\n",
    "            df_data[\"result\"].append(1)\n",
    "            buy_counter += 1 if buy_counter < len(all_new_data_buy[c_i]) - 1 else 0\n",
    "        else:\n",
    "            df_data[\"result\"].append(0)\n",
    "    all_df_data.append(df_data)\n",
    "        \n",
    "print(f\"All different period data len: {len(all_df_data)}\", f\"true: {all_df_data[0]['result'].count(1)}\", f\"false: {all_df_data[0]['result'].count(0)}\")"
   ],
   "metadata": {
    "collapsed": false,
    "ExecuteTime": {
     "end_time": "2024-02-22T23:14:44.346934400Z",
     "start_time": "2024-02-22T23:14:44.280086900Z"
    }
   },
   "execution_count": 38
  },
  {
   "cell_type": "markdown",
   "source": [
    "# Add Strategy Signals To DF"
   ],
   "metadata": {
    "collapsed": false
   }
  },
  {
   "cell_type": "code",
   "outputs": [
    {
     "name": "stdout",
     "output_type": "stream",
     "text": [
      "Strategy blocks len: 6\n"
     ]
    }
   ],
   "source": [
    "from Strategies.StrategyStochRSI import StrategyStochRSI\n",
    "from Strategies.StrategyEMA import StrategyEMA\n",
    "\n",
    "# candle interval init (for this case is always 1 min)\n",
    "candle_interval = CandleInterval.CANDLE_INTERVAL_1_MIN\n",
    "\n",
    "# init all strategies\n",
    "EMA_down = StrategyEMA()\n",
    "EMA_up = StrategyEMA()\n",
    "EMA_flat = StrategyEMA()\n",
    "\n",
    "RSI_down = StrategyRSI()\n",
    "RSI_up = StrategyRSI()\n",
    "RSI_flat = StrategyRSI()\n",
    "\n",
    "MACD_down = StrategyMACD()\n",
    "MACD_up = StrategyMACD()\n",
    "MACD_flat = StrategyMACD()\n",
    "\n",
    "BB_down = StrategyBB()\n",
    "BB_up = StrategyBB()\n",
    "BB_flat = StrategyBB()\n",
    "\n",
    "ST_down = StrategyST()\n",
    "ST_up = StrategyST()\n",
    "ST_flat = StrategyST()\n",
    "\n",
    "StochRSI_down = StrategyStochRSI()\n",
    "StochRSI_up = StrategyStochRSI()\n",
    "StochRSI_flat = StrategyStochRSI()\n",
    "\n",
    "strategies_blocks = [[EMA_down, EMA_up, EMA_flat], \n",
    "                    [RSI_down, RSI_up, RSI_flat], \n",
    "                    [MACD_down, MACD_up, MACD_flat], \n",
    "                    [BB_down, BB_up, BB_flat],\n",
    "                    [StochRSI_down, StochRSI_up, StochRSI_flat],\n",
    "                    [ST_down, ST_up, ST_flat]]\n",
    "\n",
    "for strategy_block in strategies_blocks:\n",
    "    strategy_block[0].initialize_moving_avg_container(candles_down[:strategy_block[0].history_candles_length])\n",
    "    strategy_block[1].initialize_moving_avg_container(candles_up[:strategy_block[1].history_candles_length])\n",
    "    strategy_block[2].initialize_moving_avg_container(candles_flat[:strategy_block[2].history_candles_length])\n",
    "\n",
    "print(f\"Strategy blocks len: {len(strategies_blocks)}\")     "
   ],
   "metadata": {
    "collapsed": false,
    "ExecuteTime": {
     "end_time": "2024-02-22T21:19:35.881095900Z",
     "start_time": "2024-02-22T21:19:35.869459200Z"
    }
   },
   "execution_count": 7
  },
  {
   "cell_type": "code",
   "outputs": [
    {
     "name": "stdout",
     "output_type": "stream",
     "text": [
      "Small length check should be the length of candles: 21769, candle len: 21769\n"
     ]
    }
   ],
   "source": [
    "from Strategies import StrategyABS\n",
    "\n",
    "all_df_data_st = [{\"past_EMA\": [],\n",
    "                \"current_EMA\": [],\n",
    "                \"current_RSI\": [],\n",
    "                \"past_RSI\": [],\n",
    "                \"past_MACD\": [],\n",
    "                \"current_MACD\": [],\n",
    "                \"upper_BB\": [],\n",
    "                \"lower_BB\": [],\n",
    "                \"%K_StochRSI\": [],\n",
    "                \"upper_ST\": [],\n",
    "                \"lower_ST\": []} for i in range(len(strategies_blocks[0]))]\n",
    "\n",
    "def add_strategy_params(strategy_name: str, candle_index: int, history_candles_length: int, strategy: StrategyABS, current_layer: int) -> None:\n",
    "            global all_df_data_st\n",
    "            past = \"past_\" + strategy_name\n",
    "            current = \"current_\" + strategy_name\n",
    "            \n",
    "            if candle_index == history_candles_length:\n",
    "                [all_df_data_st[current_layer][past].append(None) for i in range(strategy.history_candles_length)]\n",
    "                [all_df_data_st[current_layer][current].append(None) for i in range(strategy.history_candles_length)]\n",
    "            params = strategy.get_candle_param(all_candles[str_i][candle_index])\n",
    "            all_df_data_st[current_layer][past].append(params[0])\n",
    "            all_df_data_st[current_layer][current].append(params[1])\n",
    "\n",
    "for strategy_block in strategies_blocks:\n",
    "    for str_i, strategy_type in enumerate(strategy_block):\n",
    "        for candle_index in range(strategy_type.history_candles_length, len(all_candles[str_i])):\n",
    "            if strategy_type.__class__.__name__ == \"StrategyEMA\":\n",
    "                add_strategy_params(\"EMA\", candle_index, strategy_type.history_candles_length, strategy_type, str_i)\n",
    "            elif strategy_type.__class__.__name__ == \"StrategyRSI\":\n",
    "                add_strategy_params(\"RSI\", candle_index, strategy_type.history_candles_length, strategy_type, str_i)\n",
    "            elif strategy_type.__class__.__name__ == \"StrategyMACD\":\n",
    "                add_strategy_params(\"MACD\", candle_index, strategy_type.history_candles_length, strategy_type, str_i)\n",
    "            elif strategy_type.__class__.__name__ == \"StrategyBB\":\n",
    "                if candle_index == strategy_type.history_candles_length:\n",
    "                    [all_df_data_st[str_i][\"upper_BB\"].append(None) for i in range(strategy_type.history_candles_length)]\n",
    "                    [all_df_data_st[str_i][\"lower_BB\"].append(None) for i in range(strategy_type.history_candles_length)]\n",
    "                c_params = strategy_type.get_candle_param(all_candles[str_i][candle_index])\n",
    "                all_df_data_st[str_i][\"upper_BB\"].append(c_params[1])\n",
    "                all_df_data_st[str_i][\"lower_BB\"].append(c_params[2])\n",
    "            elif strategy_type.__class__.__name__ == \"StrategyStochRSI\":\n",
    "                if candle_index == strategy_type.history_candles_length:\n",
    "                    [all_df_data_st[str_i][\"%K_StochRSI\"].append(None) for i in range(strategy_type.history_candles_length)]\n",
    "                c_params = strategy_type.get_candle_param(all_candles[str_i][candle_index])\n",
    "                all_df_data_st[str_i][\"%K_StochRSI\"].append(c_params[0])\n",
    "            elif strategy_type.__class__.__name__ == \"StrategyST\":\n",
    "                if candle_index == strategy_type.history_candles_length:\n",
    "                    [all_df_data_st[str_i][\"upper_ST\"].append(None) for i in range(strategy_type.history_candles_length)]\n",
    "                    [all_df_data_st[str_i][\"lower_ST\"].append(None) for i in range(strategy_type.history_candles_length)]\n",
    "                c_params = strategy_type.get_candle_param(all_candles[str_i][candle_index])\n",
    "                all_df_data_st[str_i][\"upper_ST\"].append(c_params[0])\n",
    "                all_df_data_st[str_i][\"lower_ST\"].append(c_params[1])\n",
    "\n",
    "print(f\"Small length check should be the length of candles: {len(all_df_data_st[2]['lower_BB'])}, candle len: {len(all_candles[2])}\")"
   ],
   "metadata": {
    "collapsed": false,
    "ExecuteTime": {
     "end_time": "2024-02-22T21:22:33.141950300Z",
     "start_time": "2024-02-22T21:22:24.078624Z"
    }
   },
   "execution_count": 8
  },
  {
   "cell_type": "code",
   "outputs": [
    {
     "data": {
      "text/plain": "       index  result   close  past_EMA  current_EMA  current_RSI   past_RSI  \\\n200      200       0  265.12  3.245200     3.409157    47.195712  47.078772   \n201      201       0  264.22  3.409157     3.629551    46.418695  47.195712   \n202      202       1  262.86  3.629551     3.939523    45.280853  46.418695   \n203      203       0  263.69  3.939523     4.142661    46.095365  45.280853   \n204      204       0  264.50  4.142661     4.251615    46.874850  46.095365   \n...      ...     ...     ...       ...          ...          ...        ...   \n17373  17373       0  130.70 -0.975887    -1.009690    53.147416  53.147416   \n17374  17374       0  130.80 -1.009690    -1.047542    53.347018  53.147416   \n17375  17375       0  130.95 -1.047542    -1.093248    53.646210  53.347018   \n17376  17376       0  131.30 -1.093248    -1.163004    54.336387  53.646210   \n17377  17377       0  131.12 -1.163004    -1.209035    53.919357  54.336387   \n\n       past_MACD  current_MACD    upper_BB    lower_BB  %K_StochRSI  \\\n200    -0.232983     -0.194795  271.441659  263.052341     2.558635   \n201    -0.194795     -0.211365  271.110899  262.786101     0.000000   \n202    -0.211365     -0.290263  270.537024  262.514976     0.000000   \n203    -0.290263     -0.263668  269.931718  262.442282    17.887931   \n204    -0.263668     -0.173022  269.336210  262.511790    35.344828   \n...          ...           ...         ...         ...          ...   \n17373  -0.016794     -0.002060  130.764206  129.736794    41.176471   \n17374  -0.002060      0.011432  130.849445  129.715555    44.444444   \n17375   0.011432      0.026602  130.871962  129.837038    48.717949   \n17376   0.026602      0.054731  131.071448  129.737552    56.521739   \n17377   0.054731      0.055561  131.177889  129.698111    48.695652   \n\n         upper_ST    lower_ST  \n200    272.525571  268.662816  \n201    272.525571  268.662816  \n202    272.415738  268.662816  \n203    271.724355  268.662816  \n204    270.683398  268.662816  \n...           ...         ...  \n17373  109.181222  276.175918  \n17374  109.181222  276.175918  \n17375  109.181222  276.175918  \n17376  109.181222  276.175918  \n17377  109.181222  276.175918  \n\n[17178 rows x 14 columns]",
      "text/html": "<div>\n<style scoped>\n    .dataframe tbody tr th:only-of-type {\n        vertical-align: middle;\n    }\n\n    .dataframe tbody tr th {\n        vertical-align: top;\n    }\n\n    .dataframe thead th {\n        text-align: right;\n    }\n</style>\n<table border=\"1\" class=\"dataframe\">\n  <thead>\n    <tr style=\"text-align: right;\">\n      <th></th>\n      <th>index</th>\n      <th>result</th>\n      <th>close</th>\n      <th>past_EMA</th>\n      <th>current_EMA</th>\n      <th>current_RSI</th>\n      <th>past_RSI</th>\n      <th>past_MACD</th>\n      <th>current_MACD</th>\n      <th>upper_BB</th>\n      <th>lower_BB</th>\n      <th>%K_StochRSI</th>\n      <th>upper_ST</th>\n      <th>lower_ST</th>\n    </tr>\n  </thead>\n  <tbody>\n    <tr>\n      <th>200</th>\n      <td>200</td>\n      <td>0</td>\n      <td>265.12</td>\n      <td>3.245200</td>\n      <td>3.409157</td>\n      <td>47.195712</td>\n      <td>47.078772</td>\n      <td>-0.232983</td>\n      <td>-0.194795</td>\n      <td>271.441659</td>\n      <td>263.052341</td>\n      <td>2.558635</td>\n      <td>272.525571</td>\n      <td>268.662816</td>\n    </tr>\n    <tr>\n      <th>201</th>\n      <td>201</td>\n      <td>0</td>\n      <td>264.22</td>\n      <td>3.409157</td>\n      <td>3.629551</td>\n      <td>46.418695</td>\n      <td>47.195712</td>\n      <td>-0.194795</td>\n      <td>-0.211365</td>\n      <td>271.110899</td>\n      <td>262.786101</td>\n      <td>0.000000</td>\n      <td>272.525571</td>\n      <td>268.662816</td>\n    </tr>\n    <tr>\n      <th>202</th>\n      <td>202</td>\n      <td>1</td>\n      <td>262.86</td>\n      <td>3.629551</td>\n      <td>3.939523</td>\n      <td>45.280853</td>\n      <td>46.418695</td>\n      <td>-0.211365</td>\n      <td>-0.290263</td>\n      <td>270.537024</td>\n      <td>262.514976</td>\n      <td>0.000000</td>\n      <td>272.415738</td>\n      <td>268.662816</td>\n    </tr>\n    <tr>\n      <th>203</th>\n      <td>203</td>\n      <td>0</td>\n      <td>263.69</td>\n      <td>3.939523</td>\n      <td>4.142661</td>\n      <td>46.095365</td>\n      <td>45.280853</td>\n      <td>-0.290263</td>\n      <td>-0.263668</td>\n      <td>269.931718</td>\n      <td>262.442282</td>\n      <td>17.887931</td>\n      <td>271.724355</td>\n      <td>268.662816</td>\n    </tr>\n    <tr>\n      <th>204</th>\n      <td>204</td>\n      <td>0</td>\n      <td>264.50</td>\n      <td>4.142661</td>\n      <td>4.251615</td>\n      <td>46.874850</td>\n      <td>46.095365</td>\n      <td>-0.263668</td>\n      <td>-0.173022</td>\n      <td>269.336210</td>\n      <td>262.511790</td>\n      <td>35.344828</td>\n      <td>270.683398</td>\n      <td>268.662816</td>\n    </tr>\n    <tr>\n      <th>...</th>\n      <td>...</td>\n      <td>...</td>\n      <td>...</td>\n      <td>...</td>\n      <td>...</td>\n      <td>...</td>\n      <td>...</td>\n      <td>...</td>\n      <td>...</td>\n      <td>...</td>\n      <td>...</td>\n      <td>...</td>\n      <td>...</td>\n      <td>...</td>\n    </tr>\n    <tr>\n      <th>17373</th>\n      <td>17373</td>\n      <td>0</td>\n      <td>130.70</td>\n      <td>-0.975887</td>\n      <td>-1.009690</td>\n      <td>53.147416</td>\n      <td>53.147416</td>\n      <td>-0.016794</td>\n      <td>-0.002060</td>\n      <td>130.764206</td>\n      <td>129.736794</td>\n      <td>41.176471</td>\n      <td>109.181222</td>\n      <td>276.175918</td>\n    </tr>\n    <tr>\n      <th>17374</th>\n      <td>17374</td>\n      <td>0</td>\n      <td>130.80</td>\n      <td>-1.009690</td>\n      <td>-1.047542</td>\n      <td>53.347018</td>\n      <td>53.147416</td>\n      <td>-0.002060</td>\n      <td>0.011432</td>\n      <td>130.849445</td>\n      <td>129.715555</td>\n      <td>44.444444</td>\n      <td>109.181222</td>\n      <td>276.175918</td>\n    </tr>\n    <tr>\n      <th>17375</th>\n      <td>17375</td>\n      <td>0</td>\n      <td>130.95</td>\n      <td>-1.047542</td>\n      <td>-1.093248</td>\n      <td>53.646210</td>\n      <td>53.347018</td>\n      <td>0.011432</td>\n      <td>0.026602</td>\n      <td>130.871962</td>\n      <td>129.837038</td>\n      <td>48.717949</td>\n      <td>109.181222</td>\n      <td>276.175918</td>\n    </tr>\n    <tr>\n      <th>17376</th>\n      <td>17376</td>\n      <td>0</td>\n      <td>131.30</td>\n      <td>-1.093248</td>\n      <td>-1.163004</td>\n      <td>54.336387</td>\n      <td>53.646210</td>\n      <td>0.026602</td>\n      <td>0.054731</td>\n      <td>131.071448</td>\n      <td>129.737552</td>\n      <td>56.521739</td>\n      <td>109.181222</td>\n      <td>276.175918</td>\n    </tr>\n    <tr>\n      <th>17377</th>\n      <td>17377</td>\n      <td>0</td>\n      <td>131.12</td>\n      <td>-1.163004</td>\n      <td>-1.209035</td>\n      <td>53.919357</td>\n      <td>54.336387</td>\n      <td>0.054731</td>\n      <td>0.055561</td>\n      <td>131.177889</td>\n      <td>129.698111</td>\n      <td>48.695652</td>\n      <td>109.181222</td>\n      <td>276.175918</td>\n    </tr>\n  </tbody>\n</table>\n<p>17178 rows × 14 columns</p>\n</div>"
     },
     "execution_count": 12,
     "metadata": {},
     "output_type": "execute_result"
    }
   ],
   "source": [
    "# convert to df\n",
    "for i in range(len(all_df_data)):\n",
    "    all_df_data[i] = pd.DataFrame(all_df_data[i])\n",
    "\n",
    "for i in range(len(all_df_data)):\n",
    "    for name in all_df_data_st[i]:\n",
    "        all_df_data[i][name] = all_df_data_st[i][name]\n",
    "\n",
    "biggest_gap = 0\n",
    "for strategy_block in strategies_blocks:\n",
    "    for strategy_type in strategy_block:\n",
    "        if strategy_type.history_candles_length > biggest_gap:\n",
    "            biggest_gap = strategy_type.history_candles_length\n",
    "\n",
    "# delete first NaN elements\n",
    "for i, df in enumerate(all_df_data):\n",
    "    all_df_data[i] = df.drop(df.index[:biggest_gap])\n",
    "\n",
    "concatenated_df = pd.DataFrame()\n",
    "for i, data in enumerate(all_df_data):\n",
    "    data.to_csv(f\"./marked_data/result_with_parameters_{i}.csv\", index=False)\n",
    "    \n",
    "all_df_data[0]"
   ],
   "metadata": {
    "collapsed": false,
    "ExecuteTime": {
     "end_time": "2024-02-22T21:31:56.512948500Z",
     "start_time": "2024-02-22T21:31:55.833972800Z"
    }
   },
   "execution_count": 12
  },
  {
   "cell_type": "code",
   "outputs": [
    {
     "data": {
      "text/plain": "       index  result  past_EMA  current_EMA  current_RSI   past_RSI  \\\n200      200       0  3.245200     3.409157    47.195712  47.078772   \n201      201       0  3.409157     3.629551    46.418695  47.195712   \n202      202       1  3.629551     3.939523    45.280853  46.418695   \n203      203       0  3.939523     4.142661    46.095365  45.280853   \n204      204       0  4.142661     4.251615    46.874850  46.095365   \n...      ...     ...       ...          ...          ...        ...   \n17373  17373       0 -0.975887    -1.009690    53.147416  53.147416   \n17374  17374       0 -1.009690    -1.047542    53.347018  53.147416   \n17375  17375       0 -1.047542    -1.093248    53.646210  53.347018   \n17376  17376       0 -1.093248    -1.163004    54.336387  53.646210   \n17377  17377       0 -1.163004    -1.209035    53.919357  54.336387   \n\n       past_MACD  current_MACD    upper_BB    lower_BB  %K_StochRSI  \n200    -0.232983     -0.194795  271.441659  263.052341     2.558635  \n201    -0.194795     -0.211365  271.110899  262.786101     0.000000  \n202    -0.211365     -0.290263  270.537024  262.514976     0.000000  \n203    -0.290263     -0.263668  269.931718  262.442282    17.887931  \n204    -0.263668     -0.173022  269.336210  262.511790    35.344828  \n...          ...           ...         ...         ...          ...  \n17373  -0.016794     -0.002060  130.764206  129.736794    41.176471  \n17374  -0.002060      0.011432  130.849445  129.715555    44.444444  \n17375   0.011432      0.026602  130.871962  129.837038    48.717949  \n17376   0.026602      0.054731  131.071448  129.737552    56.521739  \n17377   0.054731      0.055561  131.177889  129.698111    48.695652  \n\n[17178 rows x 11 columns]",
      "text/html": "<div>\n<style scoped>\n    .dataframe tbody tr th:only-of-type {\n        vertical-align: middle;\n    }\n\n    .dataframe tbody tr th {\n        vertical-align: top;\n    }\n\n    .dataframe thead th {\n        text-align: right;\n    }\n</style>\n<table border=\"1\" class=\"dataframe\">\n  <thead>\n    <tr style=\"text-align: right;\">\n      <th></th>\n      <th>index</th>\n      <th>result</th>\n      <th>past_EMA</th>\n      <th>current_EMA</th>\n      <th>current_RSI</th>\n      <th>past_RSI</th>\n      <th>past_MACD</th>\n      <th>current_MACD</th>\n      <th>upper_BB</th>\n      <th>lower_BB</th>\n      <th>%K_StochRSI</th>\n    </tr>\n  </thead>\n  <tbody>\n    <tr>\n      <th>200</th>\n      <td>200</td>\n      <td>0</td>\n      <td>3.245200</td>\n      <td>3.409157</td>\n      <td>47.195712</td>\n      <td>47.078772</td>\n      <td>-0.232983</td>\n      <td>-0.194795</td>\n      <td>271.441659</td>\n      <td>263.052341</td>\n      <td>2.558635</td>\n    </tr>\n    <tr>\n      <th>201</th>\n      <td>201</td>\n      <td>0</td>\n      <td>3.409157</td>\n      <td>3.629551</td>\n      <td>46.418695</td>\n      <td>47.195712</td>\n      <td>-0.194795</td>\n      <td>-0.211365</td>\n      <td>271.110899</td>\n      <td>262.786101</td>\n      <td>0.000000</td>\n    </tr>\n    <tr>\n      <th>202</th>\n      <td>202</td>\n      <td>1</td>\n      <td>3.629551</td>\n      <td>3.939523</td>\n      <td>45.280853</td>\n      <td>46.418695</td>\n      <td>-0.211365</td>\n      <td>-0.290263</td>\n      <td>270.537024</td>\n      <td>262.514976</td>\n      <td>0.000000</td>\n    </tr>\n    <tr>\n      <th>203</th>\n      <td>203</td>\n      <td>0</td>\n      <td>3.939523</td>\n      <td>4.142661</td>\n      <td>46.095365</td>\n      <td>45.280853</td>\n      <td>-0.290263</td>\n      <td>-0.263668</td>\n      <td>269.931718</td>\n      <td>262.442282</td>\n      <td>17.887931</td>\n    </tr>\n    <tr>\n      <th>204</th>\n      <td>204</td>\n      <td>0</td>\n      <td>4.142661</td>\n      <td>4.251615</td>\n      <td>46.874850</td>\n      <td>46.095365</td>\n      <td>-0.263668</td>\n      <td>-0.173022</td>\n      <td>269.336210</td>\n      <td>262.511790</td>\n      <td>35.344828</td>\n    </tr>\n    <tr>\n      <th>...</th>\n      <td>...</td>\n      <td>...</td>\n      <td>...</td>\n      <td>...</td>\n      <td>...</td>\n      <td>...</td>\n      <td>...</td>\n      <td>...</td>\n      <td>...</td>\n      <td>...</td>\n      <td>...</td>\n    </tr>\n    <tr>\n      <th>17373</th>\n      <td>17373</td>\n      <td>0</td>\n      <td>-0.975887</td>\n      <td>-1.009690</td>\n      <td>53.147416</td>\n      <td>53.147416</td>\n      <td>-0.016794</td>\n      <td>-0.002060</td>\n      <td>130.764206</td>\n      <td>129.736794</td>\n      <td>41.176471</td>\n    </tr>\n    <tr>\n      <th>17374</th>\n      <td>17374</td>\n      <td>0</td>\n      <td>-1.009690</td>\n      <td>-1.047542</td>\n      <td>53.347018</td>\n      <td>53.147416</td>\n      <td>-0.002060</td>\n      <td>0.011432</td>\n      <td>130.849445</td>\n      <td>129.715555</td>\n      <td>44.444444</td>\n    </tr>\n    <tr>\n      <th>17375</th>\n      <td>17375</td>\n      <td>0</td>\n      <td>-1.047542</td>\n      <td>-1.093248</td>\n      <td>53.646210</td>\n      <td>53.347018</td>\n      <td>0.011432</td>\n      <td>0.026602</td>\n      <td>130.871962</td>\n      <td>129.837038</td>\n      <td>48.717949</td>\n    </tr>\n    <tr>\n      <th>17376</th>\n      <td>17376</td>\n      <td>0</td>\n      <td>-1.093248</td>\n      <td>-1.163004</td>\n      <td>54.336387</td>\n      <td>53.646210</td>\n      <td>0.026602</td>\n      <td>0.054731</td>\n      <td>131.071448</td>\n      <td>129.737552</td>\n      <td>56.521739</td>\n    </tr>\n    <tr>\n      <th>17377</th>\n      <td>17377</td>\n      <td>0</td>\n      <td>-1.163004</td>\n      <td>-1.209035</td>\n      <td>53.919357</td>\n      <td>54.336387</td>\n      <td>0.054731</td>\n      <td>0.055561</td>\n      <td>131.177889</td>\n      <td>129.698111</td>\n      <td>48.695652</td>\n    </tr>\n  </tbody>\n</table>\n<p>17178 rows × 11 columns</p>\n</div>"
     },
     "execution_count": 11,
     "metadata": {},
     "output_type": "execute_result"
    }
   ],
   "source": [
    "# 1 DF usage\n",
    "index = 0\n",
    "\n",
    "all_df_data[index] = pd.DataFrame(all_df_data[index])\n",
    "\n",
    "for name in all_df_data_st[index]:\n",
    "    all_df_data[index][name] = all_df_data_st[index][name]\n",
    "\n",
    "biggest_gap = 0\n",
    "for strategy_block in strategies_blocks:\n",
    "    for strategy_type in strategy_block:\n",
    "        if strategy_type.history_candles_length > biggest_gap:\n",
    "            biggest_gap = strategy_type.history_candles_length\n",
    "            \n",
    "all_df_data[index] = all_df_data[index].drop(all_df_data[index].index[:biggest_gap])\n",
    "\n",
    "concatenated_df = all_df_data[index]\n",
    "concatenated_df"
   ],
   "metadata": {
    "collapsed": false,
    "ExecuteTime": {
     "end_time": "2024-02-21T19:58:30.022633500Z",
     "start_time": "2024-02-21T19:58:29.995061700Z"
    }
   },
   "execution_count": 11
  },
  {
   "cell_type": "code",
   "outputs": [],
   "source": [
    "concatenated_df.to_csv(\"./marked_data/result_with_parameters.csv\", index=False)"
   ],
   "metadata": {
    "collapsed": false,
    "ExecuteTime": {
     "end_time": "2024-02-21T19:58:35.778561400Z",
     "start_time": "2024-02-21T19:58:35.671557500Z"
    }
   },
   "execution_count": 13
  }
 ],
 "metadata": {
  "kernelspec": {
   "display_name": "Python 3",
   "language": "python",
   "name": "python3"
  },
  "language_info": {
   "codemirror_mode": {
    "name": "ipython",
    "version": 2
   },
   "file_extension": ".py",
   "mimetype": "text/x-python",
   "name": "python",
   "nbconvert_exporter": "python",
   "pygments_lexer": "ipython2",
   "version": "2.7.6"
  }
 },
 "nbformat": 4,
 "nbformat_minor": 0
}
