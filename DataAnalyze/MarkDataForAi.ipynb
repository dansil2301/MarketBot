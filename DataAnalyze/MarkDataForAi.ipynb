{
 "cells": [
  {
   "cell_type": "code",
   "execution_count": 35,
   "metadata": {
    "collapsed": true,
    "ExecuteTime": {
     "end_time": "2024-02-20T21:55:49.159700200Z",
     "start_time": "2024-02-20T21:55:49.158707Z"
    }
   },
   "outputs": [],
   "source": [
    "from Strategies.StrategyBB import StrategyBB\n",
    "from Strategies.StrategyMACD import StrategyMACD\n",
    "from Strategies.StrategyRSI import StrategyRSI\n",
    "from historyData.HistoryData import HistoryData\n",
    "from tinkoff.invest.grpc.marketdata_pb2 import CandleInterval\n",
    "from datetime import datetime\n",
    "\n",
    "import asyncio"
   ]
  },
  {
   "cell_type": "code",
   "execution_count": 36,
   "outputs": [],
   "source": [
    "candle_interval = CandleInterval.CANDLE_INTERVAL_1_MIN\n",
    "data_set = HistoryData()"
   ],
   "metadata": {
    "collapsed": false,
    "ExecuteTime": {
     "end_time": "2024-02-20T21:55:50.653646700Z",
     "start_time": "2024-02-20T21:55:50.650130700Z"
    }
   }
  },
  {
   "cell_type": "code",
   "outputs": [],
   "source": [
    "candles_down = None\n",
    "candles_up = None\n",
    "candles_flat = None\n",
    "\n",
    "async def data_get():\n",
    "    global candles_down, candles_up, candles_flat\n",
    "    \n",
    "    candles_down = await (data_set.get_tinkoff_server_data(datetime(2022, 2, 1), datetime(2022, 3, 1), candle_interval))\n",
    "    candles_up = await (data_set.get_tinkoff_server_data(datetime(2023, 3, 1), datetime(2023, 4, 1), candle_interval))\n",
    "    candles_flat = await (data_set.get_tinkoff_server_data(datetime(2024, 1, 1), datetime(2024, 2, 1), candle_interval))\n",
    "\n",
    "# Run the event loop directly using await\n",
    "await data_get()"
   ],
   "metadata": {
    "collapsed": false,
    "ExecuteTime": {
     "end_time": "2024-02-20T21:56:05.323860200Z",
     "start_time": "2024-02-20T21:55:52.605766300Z"
    }
   },
   "execution_count": 37
  },
  {
   "cell_type": "markdown",
   "source": [
    "# Creates a Data Set For Future Model"
   ],
   "metadata": {
    "collapsed": false
   }
  },
  {
   "cell_type": "code",
   "outputs": [
    {
     "data": {
      "text/plain": "22663"
     },
     "execution_count": 38,
     "metadata": {},
     "output_type": "execute_result"
    }
   ],
   "source": [
    "all_candles = [candles_down, candles_up, candles_flat]\n",
    "len(all_candles[1])"
   ],
   "metadata": {
    "collapsed": false,
    "ExecuteTime": {
     "end_time": "2024-02-20T21:56:06.410611900Z",
     "start_time": "2024-02-20T21:56:06.405101900Z"
    }
   },
   "execution_count": 38
  },
  {
   "cell_type": "code",
   "outputs": [
    {
     "name": "stdout",
     "output_type": "stream",
     "text": [
      "Possible profit: 2350.619999999995 Length of the marked data: 12699\n",
      "Possible profit: 1723.6899999999978 Length of the marked data: 15301\n",
      "Possible profit: 462.9800000000014 Length of the marked data: 13520\n"
     ]
    }
   ],
   "source": [
    "from AppLogic.Settings import Settings\n",
    "from tinkoff.invest.utils import quotation_to_decimal\n",
    "\n",
    "commission = 0.0005\n",
    "all_data_index_buy_sell = []\n",
    "\n",
    "for candles in all_candles:\n",
    "    data_index_buy_sell = []\n",
    "    total_earn = 0\n",
    "    total_sum_earned = 0\n",
    "    bought_at = -1\n",
    "    for i, candle in enumerate(list(candles)):\n",
    "        if i == 0:\n",
    "            continue\n",
    "        \n",
    "        current_price = float(quotation_to_decimal(candle.close))\n",
    "        if current_price > float(quotation_to_decimal(candles[i - 1].close)):\n",
    "            if len(data_index_buy_sell) == 0 or list(data_index_buy_sell[-1].keys())[0] == \"sold\":\n",
    "                bought_at = float(quotation_to_decimal(candles[i - 1].close))\n",
    "                data_index_buy_sell.append({\"bought\": i - 1})\n",
    "            total_earn += current_price - float(quotation_to_decimal(candles[i - 1].close))\n",
    "        elif current_price < float(quotation_to_decimal(candles[i - 1].close)):\n",
    "            data_index_buy_sell.append({\"sold\": i - 1})\n",
    "            if total_earn > 0.1 / 100 * bought_at:\n",
    "                total_sum_earned += total_earn\n",
    "            total_earn = 0\n",
    "            \n",
    "    all_data_index_buy_sell.append(data_index_buy_sell)\n",
    "    print(f\"Possible profit: {total_sum_earned}\", f\"Length of the marked data: {len(data_index_buy_sell)}\")"
   ],
   "metadata": {
    "collapsed": false,
    "ExecuteTime": {
     "end_time": "2024-02-20T21:56:09.535503900Z",
     "start_time": "2024-02-20T21:56:09.327546800Z"
    }
   },
   "execution_count": 39
  },
  {
   "cell_type": "code",
   "outputs": [
    {
     "name": "stdout",
     "output_type": "stream",
     "text": [
      "All different period data len: 3\n"
     ]
    }
   ],
   "source": [
    "import pandas as pd\n",
    "\n",
    "all_new_data_buy = list()\n",
    "for data_index_buy_sell in all_data_index_buy_sell:\n",
    "    new_data_buy = list()\n",
    "    for i, data in enumerate(data_index_buy_sell):\n",
    "        if list(data_index_buy_sell[i].keys())[0] != \"sold\":\n",
    "            new_data_buy.append(data)\n",
    "    all_new_data_buy.append(new_data_buy)\n",
    "\n",
    "all_df_data = list()\n",
    "\n",
    "for c_i, candles in enumerate(all_candles):\n",
    "    df_data = {\"index\": [],\n",
    "               \"result\": []}\n",
    "    buy_counter = 0\n",
    "    for i, candle in enumerate(list(candles)):\n",
    "        df_data[\"index\"].append(i)\n",
    "        \n",
    "        if i == all_new_data_buy[c_i][buy_counter][\"bought\"]:\n",
    "            df_data[\"result\"].append(1)\n",
    "            buy_counter += 1 if buy_counter < len(all_new_data_buy[c_i]) - 1 else 0\n",
    "        else:\n",
    "            df_data[\"result\"].append(0)\n",
    "    all_df_data.append(df_data)\n",
    "        \n",
    "print(f\"All different period data len: {len(all_df_data)}\")"
   ],
   "metadata": {
    "collapsed": false,
    "ExecuteTime": {
     "end_time": "2024-02-20T22:10:08.587474600Z",
     "start_time": "2024-02-20T22:10:08.583476800Z"
    }
   },
   "execution_count": 59
  },
  {
   "cell_type": "markdown",
   "source": [
    "# Add Strategy Signals To DF"
   ],
   "metadata": {
    "collapsed": false
   }
  },
  {
   "cell_type": "code",
   "outputs": [
    {
     "name": "stdout",
     "output_type": "stream",
     "text": [
      "Strategy blocks len: 4\n"
     ]
    }
   ],
   "source": [
    "from Strategies.StrategyEMA import StrategyEMA\n",
    "\n",
    "# candle interval init (for this case is always 1 min)\n",
    "candle_interval = CandleInterval.CANDLE_INTERVAL_1_MIN\n",
    "\n",
    "# init all strategies\n",
    "EMA_down = StrategyEMA()\n",
    "EMA_up = StrategyEMA()\n",
    "EMA_flat = StrategyEMA()\n",
    "\n",
    "RSI_down = StrategyRSI()\n",
    "RSI_up = StrategyRSI()\n",
    "RSI_flat = StrategyRSI()\n",
    "\n",
    "MACD_down = StrategyMACD()\n",
    "MACD_up = StrategyMACD()\n",
    "MACD_flat = StrategyMACD()\n",
    "\n",
    "BB_down = StrategyBB()\n",
    "BB_up = StrategyBB()\n",
    "BB_flat = StrategyBB()\n",
    "\n",
    "strategies_blocks = [[EMA_down, EMA_up, EMA_flat], \n",
    "                    [RSI_down, RSI_up, RSI_flat], \n",
    "                    [MACD_down, MACD_up, MACD_flat], \n",
    "                    [BB_down, BB_up, BB_flat]]\n",
    "\n",
    "for strategy_block in strategies_blocks:\n",
    "    strategy_block[0].initialize_moving_avg_container(candles_down[:strategy_block[0].history_candles_length])\n",
    "    strategy_block[1].initialize_moving_avg_container(candles_up[:strategy_block[1].history_candles_length])\n",
    "    strategy_block[2].initialize_moving_avg_container(candles_flat[:strategy_block[2].history_candles_length])\n",
    "\n",
    "print(f\"Strategy blocks len: {len(strategies_blocks)}\")     "
   ],
   "metadata": {
    "collapsed": false,
    "ExecuteTime": {
     "end_time": "2024-02-20T21:53:17.759686500Z",
     "start_time": "2024-02-20T21:53:17.750484800Z"
    }
   },
   "execution_count": 32
  },
  {
   "cell_type": "code",
   "outputs": [
    {
     "name": "stdout",
     "output_type": "stream",
     "text": [
      "Small length check should be the length of candles: 21769, candle len: 21769\n"
     ]
    }
   ],
   "source": [
    "from Strategies import StrategyABS\n",
    "\n",
    "all_df_data_st = [{\"past_EMA\": [],\n",
    "                \"current_EMA\": [],\n",
    "                \"past_RSI\": [],\n",
    "                \"current_RSI\": [],\n",
    "                \"past_MACD\": [],\n",
    "                \"current_MACD\": [],\n",
    "                \"upper_BB\": [],\n",
    "                \"lower_BB\": []} for i in range(len(strategies_blocks[0]))]\n",
    "\n",
    "def add_strategy_params(strategy_name: str, candle_index: int, history_candles_length: int, strategy: StrategyABS, current_layer: int) -> None:\n",
    "            global all_df_data_st\n",
    "            past = \"past_\" + strategy_name\n",
    "            current = \"current_\" + strategy_name\n",
    "            \n",
    "            if candle_index == history_candles_length:\n",
    "                [all_df_data_st[current_layer][past].append(None) for i in range(strategy.history_candles_length)]\n",
    "                [all_df_data_st[current_layer][current].append(None) for i in range(strategy.history_candles_length)]\n",
    "            params = strategy.get_candle_param(all_candles[str_i][candle_index])\n",
    "            all_df_data_st[current_layer][past].append(params[0])\n",
    "            all_df_data_st[current_layer][current].append(params[1])\n",
    "\n",
    "for strategy_block in strategies_blocks:\n",
    "    for str_i, strategy_type in enumerate(strategy_block):\n",
    "        for candle_index in range(strategy_type.history_candles_length, len(all_candles[str_i])):\n",
    "            if strategy_type.__class__.__name__ == \"StrategyEMA\":\n",
    "                add_strategy_params(\"EMA\", candle_index, strategy_type.history_candles_length, strategy_type, str_i)\n",
    "            elif strategy_type.__class__.__name__ == \"StrategyRSI\":\n",
    "                add_strategy_params(\"RSI\", candle_index, strategy_type.history_candles_length, strategy_type, str_i)\n",
    "            elif strategy_type.__class__.__name__ == \"StrategyMACD\":\n",
    "                add_strategy_params(\"MACD\", candle_index, strategy_type.history_candles_length, strategy_type, str_i)\n",
    "            elif strategy_type.__class__.__name__ == \"StrategyBB\":\n",
    "                if candle_index == strategy_type.history_candles_length:\n",
    "                    [all_df_data_st[str_i][\"upper_BB\"].append(None) for i in range(strategy_type.history_candles_length)]\n",
    "                    [all_df_data_st[str_i][\"lower_BB\"].append(None) for i in range(strategy_type.history_candles_length)]\n",
    "                c_params = strategy_type.get_candle_param(all_candles[str_i][candle_index])\n",
    "                all_df_data_st[str_i][\"upper_BB\"].append(c_params[1])\n",
    "                all_df_data_st[str_i][\"lower_BB\"].append(c_params[2])\n",
    "\n",
    "print(f\"Small length check should be the length of candles: {len(all_df_data_st[2][\"lower_BB\"])}, candle len: {len(all_candles[2])}\")"
   ],
   "metadata": {
    "collapsed": false,
    "ExecuteTime": {
     "end_time": "2024-02-20T22:09:10.206133200Z",
     "start_time": "2024-02-20T22:09:06.221458900Z"
    }
   },
   "execution_count": 56
  },
  {
   "cell_type": "code",
   "outputs": [
    {
     "data": {
      "text/plain": "       index  result   past_EMA  current_EMA   past_RSI  current_RSI  \\\n0        200       0  -1.209035   -12.677693  53.919357    93.194427   \n1        201       0 -12.677693   -22.862078  93.194427    92.658673   \n2        202       1 -22.862078   -31.847178  92.658673    91.852726   \n3        203       0 -31.847178   -39.936275  91.852726    91.896176   \n4        204       0 -39.936275   -47.213396  91.896176    91.938554   \n...      ...     ...        ...          ...        ...          ...   \n61205  21764       0  -0.077712    -0.074969  51.094821    51.333664   \n61206  21765       1  -0.074969    -0.071588  51.333664    51.081684   \n61207  21766       0  -0.071588    -0.071903  51.081684    52.032965   \n61208  21767       0  -0.071903    -0.072117  52.032965    52.032965   \n61209  21768       0  -0.072117    -0.063712  52.032965    49.574189   \n\n       past_MACD  current_MACD    upper_BB    lower_BB  \n0      -0.233084     -0.194889  271.441659  263.052341  \n1      -0.194889     -0.211452  271.110899  262.786101  \n2      -0.211452     -0.290344  270.537024  262.514976  \n3      -0.290344     -0.263743  269.931718  262.442282  \n4      -0.263743     -0.173091  269.336210  262.511790  \n...          ...           ...         ...         ...  \n61205  -0.010906     -0.009423  276.205463  276.010537  \n61206  -0.009423     -0.008656  276.206069  276.007931  \n61207  -0.008656     -0.005167  276.206108  276.010892  \n61208  -0.005167     -0.002696  276.206026  276.013974  \n61209  -0.002696     -0.007368  276.212899  275.997101  \n\n[61210 rows x 10 columns]",
      "text/html": "<div>\n<style scoped>\n    .dataframe tbody tr th:only-of-type {\n        vertical-align: middle;\n    }\n\n    .dataframe tbody tr th {\n        vertical-align: top;\n    }\n\n    .dataframe thead th {\n        text-align: right;\n    }\n</style>\n<table border=\"1\" class=\"dataframe\">\n  <thead>\n    <tr style=\"text-align: right;\">\n      <th></th>\n      <th>index</th>\n      <th>result</th>\n      <th>past_EMA</th>\n      <th>current_EMA</th>\n      <th>past_RSI</th>\n      <th>current_RSI</th>\n      <th>past_MACD</th>\n      <th>current_MACD</th>\n      <th>upper_BB</th>\n      <th>lower_BB</th>\n    </tr>\n  </thead>\n  <tbody>\n    <tr>\n      <th>0</th>\n      <td>200</td>\n      <td>0</td>\n      <td>-1.209035</td>\n      <td>-12.677693</td>\n      <td>53.919357</td>\n      <td>93.194427</td>\n      <td>-0.233084</td>\n      <td>-0.194889</td>\n      <td>271.441659</td>\n      <td>263.052341</td>\n    </tr>\n    <tr>\n      <th>1</th>\n      <td>201</td>\n      <td>0</td>\n      <td>-12.677693</td>\n      <td>-22.862078</td>\n      <td>93.194427</td>\n      <td>92.658673</td>\n      <td>-0.194889</td>\n      <td>-0.211452</td>\n      <td>271.110899</td>\n      <td>262.786101</td>\n    </tr>\n    <tr>\n      <th>2</th>\n      <td>202</td>\n      <td>1</td>\n      <td>-22.862078</td>\n      <td>-31.847178</td>\n      <td>92.658673</td>\n      <td>91.852726</td>\n      <td>-0.211452</td>\n      <td>-0.290344</td>\n      <td>270.537024</td>\n      <td>262.514976</td>\n    </tr>\n    <tr>\n      <th>3</th>\n      <td>203</td>\n      <td>0</td>\n      <td>-31.847178</td>\n      <td>-39.936275</td>\n      <td>91.852726</td>\n      <td>91.896176</td>\n      <td>-0.290344</td>\n      <td>-0.263743</td>\n      <td>269.931718</td>\n      <td>262.442282</td>\n    </tr>\n    <tr>\n      <th>4</th>\n      <td>204</td>\n      <td>0</td>\n      <td>-39.936275</td>\n      <td>-47.213396</td>\n      <td>91.896176</td>\n      <td>91.938554</td>\n      <td>-0.263743</td>\n      <td>-0.173091</td>\n      <td>269.336210</td>\n      <td>262.511790</td>\n    </tr>\n    <tr>\n      <th>...</th>\n      <td>...</td>\n      <td>...</td>\n      <td>...</td>\n      <td>...</td>\n      <td>...</td>\n      <td>...</td>\n      <td>...</td>\n      <td>...</td>\n      <td>...</td>\n      <td>...</td>\n    </tr>\n    <tr>\n      <th>61205</th>\n      <td>21764</td>\n      <td>0</td>\n      <td>-0.077712</td>\n      <td>-0.074969</td>\n      <td>51.094821</td>\n      <td>51.333664</td>\n      <td>-0.010906</td>\n      <td>-0.009423</td>\n      <td>276.205463</td>\n      <td>276.010537</td>\n    </tr>\n    <tr>\n      <th>61206</th>\n      <td>21765</td>\n      <td>1</td>\n      <td>-0.074969</td>\n      <td>-0.071588</td>\n      <td>51.333664</td>\n      <td>51.081684</td>\n      <td>-0.009423</td>\n      <td>-0.008656</td>\n      <td>276.206069</td>\n      <td>276.007931</td>\n    </tr>\n    <tr>\n      <th>61207</th>\n      <td>21766</td>\n      <td>0</td>\n      <td>-0.071588</td>\n      <td>-0.071903</td>\n      <td>51.081684</td>\n      <td>52.032965</td>\n      <td>-0.008656</td>\n      <td>-0.005167</td>\n      <td>276.206108</td>\n      <td>276.010892</td>\n    </tr>\n    <tr>\n      <th>61208</th>\n      <td>21767</td>\n      <td>0</td>\n      <td>-0.071903</td>\n      <td>-0.072117</td>\n      <td>52.032965</td>\n      <td>52.032965</td>\n      <td>-0.005167</td>\n      <td>-0.002696</td>\n      <td>276.206026</td>\n      <td>276.013974</td>\n    </tr>\n    <tr>\n      <th>61209</th>\n      <td>21768</td>\n      <td>0</td>\n      <td>-0.072117</td>\n      <td>-0.063712</td>\n      <td>52.032965</td>\n      <td>49.574189</td>\n      <td>-0.002696</td>\n      <td>-0.007368</td>\n      <td>276.212899</td>\n      <td>275.997101</td>\n    </tr>\n  </tbody>\n</table>\n<p>61210 rows × 10 columns</p>\n</div>"
     },
     "execution_count": 60,
     "metadata": {},
     "output_type": "execute_result"
    }
   ],
   "source": [
    "# convert to df\n",
    "for i in range(len(all_df_data)):\n",
    "    all_df_data[i] = pd.DataFrame(all_df_data[i])\n",
    "\n",
    "for i in range(len(all_df_data)):\n",
    "    for name in all_df_data_st[i]:\n",
    "        all_df_data[i][name] = all_df_data_st[i][name]\n",
    " \n",
    "biggest_gap = 0\n",
    "for strategy_block in strategies_blocks:\n",
    "    for strategy_type in strategy_block:\n",
    "        if strategy_type.history_candles_length > biggest_gap:\n",
    "            biggest_gap = strategy_type.history_candles_length\n",
    "\n",
    "# delete first NaN elements\n",
    "for i, df in enumerate(all_df_data):\n",
    "    all_df_data[i] = df.drop(df.index[:biggest_gap])\n",
    "\n",
    "# concatenate all DF\n",
    "concatenated_df = pd.DataFrame()\n",
    "for data in all_df_data:\n",
    "    concatenated_df = pd.concat([concatenated_df, data], ignore_index=True)\n",
    "    \n",
    "concatenated_df"
   ],
   "metadata": {
    "collapsed": false,
    "ExecuteTime": {
     "end_time": "2024-02-20T22:10:17.884155300Z",
     "start_time": "2024-02-20T22:10:17.835032200Z"
    }
   },
   "execution_count": 60
  },
  {
   "cell_type": "code",
   "outputs": [],
   "source": [
    "concatenated_df.to_csv(\"./marked_data/result_with_parameters.csv\", index=False)"
   ],
   "metadata": {
    "collapsed": false,
    "ExecuteTime": {
     "end_time": "2024-02-20T22:12:12.202891200Z",
     "start_time": "2024-02-20T22:12:11.609112200Z"
    }
   },
   "execution_count": 61
  }
 ],
 "metadata": {
  "kernelspec": {
   "display_name": "Python 3",
   "language": "python",
   "name": "python3"
  },
  "language_info": {
   "codemirror_mode": {
    "name": "ipython",
    "version": 2
   },
   "file_extension": ".py",
   "mimetype": "text/x-python",
   "name": "python",
   "nbconvert_exporter": "python",
   "pygments_lexer": "ipython2",
   "version": "2.7.6"
  }
 },
 "nbformat": 4,
 "nbformat_minor": 0
}
