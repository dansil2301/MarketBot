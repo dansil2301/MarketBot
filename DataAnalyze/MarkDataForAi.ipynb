{
 "cells": [
  {
   "cell_type": "code",
   "execution_count": 46,
   "metadata": {
    "collapsed": true,
    "ExecuteTime": {
     "end_time": "2024-02-27T17:53:37.050174600Z",
     "start_time": "2024-02-27T17:53:37.045235100Z"
    }
   },
   "outputs": [],
   "source": [
    "from Strategies.StrategyBB import StrategyBB\n",
    "from Strategies.StrategyMACD import StrategyMACD\n",
    "from Strategies.StrategyOBV import StrategyOBV\n",
    "from Strategies.StrategyRSI import StrategyRSI\n",
    "from Strategies.StrategyST import StrategyST\n",
    "from historyData.HistoryData import HistoryData\n",
    "from tinkoff.invest.grpc.marketdata_pb2 import CandleInterval\n",
    "from datetime import datetime\n",
    "\n",
    "import asyncio"
   ]
  },
  {
   "cell_type": "code",
   "execution_count": 47,
   "outputs": [],
   "source": [
    "candle_interval = CandleInterval.CANDLE_INTERVAL_5_MIN\n",
    "data_set = HistoryData()"
   ],
   "metadata": {
    "collapsed": false,
    "ExecuteTime": {
     "end_time": "2024-02-27T17:53:38.547740500Z",
     "start_time": "2024-02-27T17:53:38.541141600Z"
    }
   }
  },
  {
   "cell_type": "code",
   "outputs": [],
   "source": [
    "from time import sleep\n",
    "\n",
    "candles_down = list()\n",
    "candles_up = list()\n",
    "candles_flat = list()\n",
    "candles_short_up = list()\n",
    "candles_short_down = list()\n",
    "candles_7_period = list()\n",
    "candles_6_period = list()\n",
    "candles_5_period = list()\n",
    "candles_4_period = list()\n",
    "candles_3_period = list()\n",
    "\n",
    "async def data_get():\n",
    "    global candles_down, candles_up, candles_flat, candles_short_up, candles_short_down, candles_7_period, candles_6_period, candles_5_period, candles_4_period, candles_3_period\n",
    "    \n",
    "    candles_short_up = await (data_set.get_tinkoff_server_data(datetime(2023, 12, 1), datetime(2024, 1, 1), candle_interval))\n",
    "    candles_short_down = await (data_set.get_tinkoff_server_data(datetime(2023, 12, 2), datetime(2024, 1, 1), candle_interval))\n",
    "    candles_down = await (data_set.get_tinkoff_server_data(datetime(2023, 11, 2), datetime(2023, 12, 1), candle_interval))\n",
    "    candles_up = await (data_set.get_tinkoff_server_data(datetime(2023, 8, 2), datetime(2023, 9, 1), candle_interval))\n",
    "    candles_flat = await (data_set.get_tinkoff_server_data(datetime(2023, 9, 2), datetime(2023, 10, 1), candle_interval))\n",
    "    candles_7_period = await (data_set.get_tinkoff_server_data(datetime(2023, 7, 2), datetime(2023, 8, 1), candle_interval))\n",
    "    candles_6_period = await (data_set.get_tinkoff_server_data(datetime(2023, 6, 2), datetime(2023, 7, 1), candle_interval))\n",
    "    candles_5_period = await (data_set.get_tinkoff_server_data(datetime(2023, 5, 2), datetime(2023, 6, 1), candle_interval))\n",
    "    candles_4_period = await (data_set.get_tinkoff_server_data(datetime(2023, 4, 2), datetime(2023, 5, 1), candle_interval))\n",
    "    candles_3_period = await (data_set.get_tinkoff_server_data(datetime(2023, 3, 2), datetime(2023, 4, 1), candle_interval))\n",
    "\n",
    "# Run the event loop directly using await\n",
    "await data_get()"
   ],
   "metadata": {
    "collapsed": false,
    "ExecuteTime": {
     "end_time": "2024-02-27T17:54:09.184942700Z",
     "start_time": "2024-02-27T17:53:41.165539200Z"
    }
   },
   "execution_count": 48
  },
  {
   "cell_type": "markdown",
   "source": [
    "# Creates a Data Set For Future Model"
   ],
   "metadata": {
    "collapsed": false
   }
  },
  {
   "cell_type": "code",
   "outputs": [
    {
     "data": {
      "text/plain": "3444"
     },
     "execution_count": 61,
     "metadata": {},
     "output_type": "execute_result"
    }
   ],
   "source": [
    "all_candles = [candles_down, candles_up, candles_flat, candles_short_up, candles_short_down, candles_7_period, candles_6_period, candles_5_period, candles_4_period, candles_3_period]\n",
    "\n",
    "for i, candles in enumerate(all_candles):\n",
    "    saver = list()\n",
    "    for candle in candles:\n",
    "        if datetime.strptime(str(candle.time).replace('+00:00', ''), '%Y-%m-%d %H:%M:%S').weekday() in [5, 6]:\n",
    "            continue\n",
    "        saver.append(candle)\n",
    "    all_candles[i] = saver\n",
    "\n",
    "len(all_candles[0])"
   ],
   "metadata": {
    "collapsed": false,
    "ExecuteTime": {
     "end_time": "2024-02-27T18:13:39.331911600Z",
     "start_time": "2024-02-27T18:13:39.099068800Z"
    }
   },
   "execution_count": 61
  },
  {
   "cell_type": "code",
   "outputs": [
    {
     "name": "stdout",
     "output_type": "stream",
     "text": [
      "Length of the marked data: 669 total length: 3444\n",
      "Length of the marked data: 1003 total length: 3608\n",
      "Length of the marked data: 1218 total length: 3280\n",
      "Length of the marked data: 882 total length: 3444\n",
      "Length of the marked data: 785 total length: 3280\n",
      "Length of the marked data: 814 total length: 3444\n",
      "Length of the marked data: 1451 total length: 3388\n",
      "Length of the marked data: 914 total length: 3444\n",
      "Length of the marked data: 367 total length: 3280\n",
      "Length of the marked data: 689 total length: 3550\n"
     ]
    }
   ],
   "source": [
    "import numpy as np\n",
    "from AppLogic.Settings import Settings\n",
    "from tinkoff.invest.utils import quotation_to_decimal\n",
    "\n",
    "commission = 0.0005\n",
    "all_data_index_buy_sell = []\n",
    "\n",
    "for candles in all_candles:\n",
    "    data_index_buy_sell = []\n",
    "    total_earn = 0\n",
    "    total_sum_earned = 0\n",
    "    bought_at = -1\n",
    "    for i in range(len(list(candles))):\n",
    "        bought_at = float(quotation_to_decimal(candles[i].close))\n",
    "        this_candle_earned = 0\n",
    "        for j in range(i + 1, len(candles)):\n",
    "            further_candle_price = float(quotation_to_decimal(candles[j].close))\n",
    "            this_candle_earned = bought_at - further_candle_price\n",
    "\n",
    "            if this_candle_earned > 1.5 / 100 * bought_at:  # 0.1 is stop loss\n",
    "                data_index_buy_sell.append({\"bought\": i})\n",
    "                break\n",
    "            elif this_candle_earned < -0.75 / 100 * bought_at:  # 0.05 is stop loss\n",
    "                break\n",
    "    all_data_index_buy_sell.append(data_index_buy_sell)\n",
    "    print(f\"Length of the marked data: {len(data_index_buy_sell)}\", f\"total length: {len(candles)}\")\n",
    "                \n",
    "# for candles in all_candles:\n",
    "#     data_index_buy_sell = []\n",
    "#     total_earn = 0\n",
    "#     total_sum_earned = 0\n",
    "#     bought_at = -1\n",
    "#     counter = 0\n",
    "#     i = 13\n",
    "#     up = 0.1\n",
    "#     down = -0.05\n",
    "# \n",
    "#     while i < len(list(candles)) - 2:\n",
    "#         i += 1\n",
    "# \n",
    "#         current_candle_price = float(quotation_to_decimal(candles[i].close))\n",
    "#         next_candle_price = float(quotation_to_decimal(candles[i + 1].close))\n",
    "# \n",
    "#         if current_candle_price < next_candle_price and bought_at == -1:\n",
    "#             data_index_buy_sell.append({\"bought\": i})\n",
    "#             bought_at = current_candle_price\n",
    "#             counter = i  \n",
    "#         elif bought_at != -1 and bought_at - current_candle_price < down / 100 * bought_at:\n",
    "#             data_index_buy_sell.pop(-1)\n",
    "#             i = counter + 1\n",
    "#             bought_at = -1    \n",
    "#         elif bought_at != -1 and bought_at - current_candle_price > up / 100 * bought_at:  # 0.1 is stop loss\n",
    "#             data_index_buy_sell.append({\"sold\": i})\n",
    "#             bought_at = -1"
   ],
   "metadata": {
    "collapsed": false,
    "ExecuteTime": {
     "end_time": "2024-02-27T18:31:54.726378900Z",
     "start_time": "2024-02-27T18:31:48.287625Z"
    }
   },
   "execution_count": 68
  },
  {
   "cell_type": "code",
   "outputs": [
    {
     "name": "stdout",
     "output_type": "stream",
     "text": [
      "All different period data len: 10 true: 669 false: 2775\n"
     ]
    }
   ],
   "source": [
    "import pandas as pd\n",
    "\n",
    "all_new_data_buy = list()\n",
    "for data_index_buy_sell in all_data_index_buy_sell:\n",
    "    new_data_buy = list()\n",
    "    for i, data in enumerate(data_index_buy_sell):\n",
    "        if list(data_index_buy_sell[i].keys())[0] != \"sold\":\n",
    "            new_data_buy.append(data)\n",
    "    all_new_data_buy.append(new_data_buy)\n",
    "#all_new_data_buy = all_data_index_buy_sell\n",
    "\n",
    "all_df_data = list()\n",
    "for c_i, candles in enumerate(all_candles):\n",
    "    df_data = {\"index\": [], \"result\": [], \"close\": [],\n",
    "               \"open\": [], \"high\": [], \"low\": [],\n",
    "               \"volume\": []}\n",
    "    counter = 0\n",
    "    for i, candle in enumerate(list(candles)):\n",
    "        df_data[\"index\"].append(i)\n",
    "        df_data[\"close\"].append(float(quotation_to_decimal(candle.close)))\n",
    "        df_data[\"open\"].append(float(quotation_to_decimal(candle.open)))\n",
    "        df_data[\"high\"].append(float(quotation_to_decimal(candle.high)))\n",
    "        df_data[\"low\"].append(float(quotation_to_decimal(candle.low)))\n",
    "        df_data[\"volume\"].append(candle.volume)\n",
    "        \n",
    "        if list(all_new_data_buy[c_i][counter].keys())[0] == \"bought\" and i == all_new_data_buy[c_i][counter][\"bought\"]:\n",
    "            df_data[\"result\"].append(1)\n",
    "            counter += 1 if counter < len(all_new_data_buy[c_i]) - 1 else 0\n",
    "        # elif list(all_new_data_buy[c_i][counter].keys())[0] == \"sold\" and i == all_new_data_buy[c_i][counter][\"sold\"]:\n",
    "        #     df_data[\"result\"].append(1)\n",
    "        #     counter += 1 if counter < len(all_new_data_buy[c_i]) - 1 else 0\n",
    "        else:\n",
    "            df_data[\"result\"].append(0)\n",
    "    all_df_data.append(df_data)\n",
    "        \n",
    "print(f\"All different period data len: {len(all_df_data)}\", f\"true: {all_df_data[0]['result'].count(1)}\", f\"false: {all_df_data[0]['result'].count(0)}\")"
   ],
   "metadata": {
    "collapsed": false,
    "ExecuteTime": {
     "end_time": "2024-02-27T18:32:00.006682700Z",
     "start_time": "2024-02-27T18:31:59.928762700Z"
    }
   },
   "execution_count": 69
  },
  {
   "cell_type": "markdown",
   "source": [
    "# Add Strategy Signals To DF"
   ],
   "metadata": {
    "collapsed": false
   }
  },
  {
   "cell_type": "code",
   "outputs": [
    {
     "name": "stdout",
     "output_type": "stream",
     "text": [
      "Strategy blocks len: 8\n"
     ]
    }
   ],
   "source": [
    "from Strategies.StrategyAroon import StrategyAroon\n",
    "from Strategies.StrategyStochRSI import StrategyStochRSI\n",
    "from Strategies.StrategyEMA import StrategyEMA\n",
    "\n",
    "# Define strategy classes\n",
    "strategy_classes = {\n",
    "    \"EMA\": StrategyEMA,\n",
    "    \"RSI\": StrategyRSI,\n",
    "    \"MACD\": StrategyMACD,\n",
    "    \"BB\": StrategyBB,\n",
    "    \"ST\": StrategyST,\n",
    "    \"StochRSI\": StrategyStochRSI,\n",
    "    \"Aroon\": StrategyAroon,\n",
    "    \"OBV\": StrategyOBV\n",
    "}\n",
    "\n",
    "# candle interval init (for this case is always 1 min)\n",
    "candle_interval = CandleInterval.CANDLE_INTERVAL_1_MIN\n",
    "\n",
    "# Initialize all strategies\n",
    "strategies_blocks = []\n",
    "for strategy_name, strategy_class in strategy_classes.items():\n",
    "    strategies = [strategy_class() for _ in range(len(all_candles))]  # Create 7 instances of each strategy\n",
    "    strategies_blocks.append(strategies)\n",
    "\n",
    "# Initialize moving average containers\n",
    "for strategy_block in strategies_blocks:\n",
    "    for i, strategy in enumerate(strategy_block):\n",
    "        put_in_candles = all_candles[i]\n",
    "        strategy.initialize_moving_avg_container(put_in_candles[:strategy.history_candles_length])\n",
    "    \n",
    "print(f\"Strategy blocks len: {len(strategies_blocks)}\")    "
   ],
   "metadata": {
    "collapsed": false,
    "ExecuteTime": {
     "end_time": "2024-02-27T18:32:02.115700800Z",
     "start_time": "2024-02-27T18:32:02.096902100Z"
    }
   },
   "execution_count": 70
  },
  {
   "cell_type": "code",
   "outputs": [
    {
     "name": "stdout",
     "output_type": "stream",
     "text": [
      "Small length check should be the length of candles: 3280, candle len: 3280\n"
     ]
    }
   ],
   "source": [
    "all_df_data_st = [{} for i in range(len(strategies_blocks[0]))]\n",
    "\n",
    "for strategy_block in strategies_blocks:\n",
    "    for str_i, strategy_type in enumerate(strategy_block):\n",
    "        for candle_index in range(strategy_type.history_candles_length, len(all_candles[str_i])):\n",
    "            params = strategy_type.get_candle_param(all_candles[str_i][candle_index])\n",
    "            for param_name in params:\n",
    "                if candle_index == strategy_type.history_candles_length:\n",
    "                    all_df_data_st[str_i][param_name] = list()\n",
    "                    [all_df_data_st[str_i][param_name].append(None) for i in range(strategy_type.history_candles_length)]\n",
    "                all_df_data_st[str_i][param_name].append(params[param_name])\n",
    "            \n",
    "print(f\"Small length check should be the length of candles: {len(all_df_data_st[2]['BB_lower'])}, candle len: {len(all_candles[2])}\")"
   ],
   "metadata": {
    "collapsed": false,
    "ExecuteTime": {
     "end_time": "2024-02-27T18:32:10.527431400Z",
     "start_time": "2024-02-27T18:32:04.393582400Z"
    }
   },
   "execution_count": 71
  },
  {
   "cell_type": "code",
   "outputs": [
    {
     "data": {
      "text/plain": "      index  result   close    open    high     low  volume  EMA_prev_diff  \\\n200     200       0  268.49  268.37  268.50  268.37    4941       1.232250   \n201     201       0  268.52  268.50  268.72  268.43   11064       1.192782   \n202     202       0  268.47  268.53  268.55  268.46    6896       1.153739   \n203     203       0  268.45  268.50  268.51  268.43   12438       1.121937   \n204     204       0  268.44  268.45  268.53  268.43    7620       1.094093   \n...     ...     ...     ...     ...     ...     ...     ...            ...   \n3439   3439       0  277.37  277.18  277.39  277.18    5145      -0.862271   \n3440   3440       0  277.54  277.38  277.55  277.37    2374      -0.847275   \n3441   3441       0  277.40  277.56  277.75  277.40   10999      -0.847539   \n3442   3442       0  277.33  277.40  277.55  277.30    9562      -0.835031   \n3443   3443       0  277.50  277.38  277.54  277.34   10256      -0.817066   \n\n      EMA_current_diff   prev_RSI  ...    BB_lower    ST_upper    ST_lower  \\\n200           1.192782  46.354635  ...  267.682235  272.205881  266.882279   \n201           1.153739  46.762067  ...  267.674966  272.198489  266.882279   \n202           1.121937  46.830047  ...  267.671207  272.151590  266.882279   \n203           1.094093  46.729598  ...  267.762186  272.105817  266.882279   \n204           1.068967  46.689137  ...  267.836687  272.067096  266.882279   \n...                ...        ...  ...         ...         ...         ...   \n3439         -0.847275  51.690001  ...  277.154747  271.975127  284.287148   \n3440         -0.847539  52.239975  ...  277.169895  271.975127  284.287148   \n3441         -0.835031  52.702258  ...  277.194850  271.975127  284.287148   \n3442         -0.817066  52.281326  ...  277.219059  271.975127  284.287148   \n3443         -0.814698  52.071290  ...  277.218933  271.975127  284.287148   \n\n           ATR  StochRSI_K  StochRSI_D  aroon_up  aroon_low        OBV  \\\n200   1.326960   37.297297   21.986264      12.0       32.0    39873.0   \n201   1.324496   38.918919   22.526804       8.0       28.0    50937.0   \n202   1.308863   36.216216   21.625904       4.0       24.0    44041.0   \n203   1.293606   35.135135   21.265543       4.0       20.0    31603.0   \n204   1.280699   34.594595   21.085363      60.0       16.0    23983.0   \n...        ...         ...         ...       ...        ...        ...   \n3439  1.182107   13.333333   13.998276      28.0       96.0  2251212.0   \n3440  1.181966   24.666667   17.776054      24.0       92.0  2253586.0   \n3441  1.193169   15.333333   14.664943      20.0       88.0  2242587.0   \n3442  1.196957   10.666667   13.109387      16.0       84.0  2233025.0   \n3443  1.197160   22.000000   16.887165      12.0       80.0  2243281.0   \n\n            OBV_MA  \n200   3.696633e+04  \n201   3.759467e+04  \n202   3.927073e+04  \n203   4.133033e+04  \n204   4.161473e+04  \n...            ...  \n3439  2.267610e+06  \n3440  2.265855e+06  \n3441  2.263139e+06  \n3442  2.259981e+06  \n3443  2.258002e+06  \n\n[3244 rows x 24 columns]",
      "text/html": "<div>\n<style scoped>\n    .dataframe tbody tr th:only-of-type {\n        vertical-align: middle;\n    }\n\n    .dataframe tbody tr th {\n        vertical-align: top;\n    }\n\n    .dataframe thead th {\n        text-align: right;\n    }\n</style>\n<table border=\"1\" class=\"dataframe\">\n  <thead>\n    <tr style=\"text-align: right;\">\n      <th></th>\n      <th>index</th>\n      <th>result</th>\n      <th>close</th>\n      <th>open</th>\n      <th>high</th>\n      <th>low</th>\n      <th>volume</th>\n      <th>EMA_prev_diff</th>\n      <th>EMA_current_diff</th>\n      <th>prev_RSI</th>\n      <th>...</th>\n      <th>BB_lower</th>\n      <th>ST_upper</th>\n      <th>ST_lower</th>\n      <th>ATR</th>\n      <th>StochRSI_K</th>\n      <th>StochRSI_D</th>\n      <th>aroon_up</th>\n      <th>aroon_low</th>\n      <th>OBV</th>\n      <th>OBV_MA</th>\n    </tr>\n  </thead>\n  <tbody>\n    <tr>\n      <th>200</th>\n      <td>200</td>\n      <td>0</td>\n      <td>268.49</td>\n      <td>268.37</td>\n      <td>268.50</td>\n      <td>268.37</td>\n      <td>4941</td>\n      <td>1.232250</td>\n      <td>1.192782</td>\n      <td>46.354635</td>\n      <td>...</td>\n      <td>267.682235</td>\n      <td>272.205881</td>\n      <td>266.882279</td>\n      <td>1.326960</td>\n      <td>37.297297</td>\n      <td>21.986264</td>\n      <td>12.0</td>\n      <td>32.0</td>\n      <td>39873.0</td>\n      <td>3.696633e+04</td>\n    </tr>\n    <tr>\n      <th>201</th>\n      <td>201</td>\n      <td>0</td>\n      <td>268.52</td>\n      <td>268.50</td>\n      <td>268.72</td>\n      <td>268.43</td>\n      <td>11064</td>\n      <td>1.192782</td>\n      <td>1.153739</td>\n      <td>46.762067</td>\n      <td>...</td>\n      <td>267.674966</td>\n      <td>272.198489</td>\n      <td>266.882279</td>\n      <td>1.324496</td>\n      <td>38.918919</td>\n      <td>22.526804</td>\n      <td>8.0</td>\n      <td>28.0</td>\n      <td>50937.0</td>\n      <td>3.759467e+04</td>\n    </tr>\n    <tr>\n      <th>202</th>\n      <td>202</td>\n      <td>0</td>\n      <td>268.47</td>\n      <td>268.53</td>\n      <td>268.55</td>\n      <td>268.46</td>\n      <td>6896</td>\n      <td>1.153739</td>\n      <td>1.121937</td>\n      <td>46.830047</td>\n      <td>...</td>\n      <td>267.671207</td>\n      <td>272.151590</td>\n      <td>266.882279</td>\n      <td>1.308863</td>\n      <td>36.216216</td>\n      <td>21.625904</td>\n      <td>4.0</td>\n      <td>24.0</td>\n      <td>44041.0</td>\n      <td>3.927073e+04</td>\n    </tr>\n    <tr>\n      <th>203</th>\n      <td>203</td>\n      <td>0</td>\n      <td>268.45</td>\n      <td>268.50</td>\n      <td>268.51</td>\n      <td>268.43</td>\n      <td>12438</td>\n      <td>1.121937</td>\n      <td>1.094093</td>\n      <td>46.729598</td>\n      <td>...</td>\n      <td>267.762186</td>\n      <td>272.105817</td>\n      <td>266.882279</td>\n      <td>1.293606</td>\n      <td>35.135135</td>\n      <td>21.265543</td>\n      <td>4.0</td>\n      <td>20.0</td>\n      <td>31603.0</td>\n      <td>4.133033e+04</td>\n    </tr>\n    <tr>\n      <th>204</th>\n      <td>204</td>\n      <td>0</td>\n      <td>268.44</td>\n      <td>268.45</td>\n      <td>268.53</td>\n      <td>268.43</td>\n      <td>7620</td>\n      <td>1.094093</td>\n      <td>1.068967</td>\n      <td>46.689137</td>\n      <td>...</td>\n      <td>267.836687</td>\n      <td>272.067096</td>\n      <td>266.882279</td>\n      <td>1.280699</td>\n      <td>34.594595</td>\n      <td>21.085363</td>\n      <td>60.0</td>\n      <td>16.0</td>\n      <td>23983.0</td>\n      <td>4.161473e+04</td>\n    </tr>\n    <tr>\n      <th>...</th>\n      <td>...</td>\n      <td>...</td>\n      <td>...</td>\n      <td>...</td>\n      <td>...</td>\n      <td>...</td>\n      <td>...</td>\n      <td>...</td>\n      <td>...</td>\n      <td>...</td>\n      <td>...</td>\n      <td>...</td>\n      <td>...</td>\n      <td>...</td>\n      <td>...</td>\n      <td>...</td>\n      <td>...</td>\n      <td>...</td>\n      <td>...</td>\n      <td>...</td>\n      <td>...</td>\n    </tr>\n    <tr>\n      <th>3439</th>\n      <td>3439</td>\n      <td>0</td>\n      <td>277.37</td>\n      <td>277.18</td>\n      <td>277.39</td>\n      <td>277.18</td>\n      <td>5145</td>\n      <td>-0.862271</td>\n      <td>-0.847275</td>\n      <td>51.690001</td>\n      <td>...</td>\n      <td>277.154747</td>\n      <td>271.975127</td>\n      <td>284.287148</td>\n      <td>1.182107</td>\n      <td>13.333333</td>\n      <td>13.998276</td>\n      <td>28.0</td>\n      <td>96.0</td>\n      <td>2251212.0</td>\n      <td>2.267610e+06</td>\n    </tr>\n    <tr>\n      <th>3440</th>\n      <td>3440</td>\n      <td>0</td>\n      <td>277.54</td>\n      <td>277.38</td>\n      <td>277.55</td>\n      <td>277.37</td>\n      <td>2374</td>\n      <td>-0.847275</td>\n      <td>-0.847539</td>\n      <td>52.239975</td>\n      <td>...</td>\n      <td>277.169895</td>\n      <td>271.975127</td>\n      <td>284.287148</td>\n      <td>1.181966</td>\n      <td>24.666667</td>\n      <td>17.776054</td>\n      <td>24.0</td>\n      <td>92.0</td>\n      <td>2253586.0</td>\n      <td>2.265855e+06</td>\n    </tr>\n    <tr>\n      <th>3441</th>\n      <td>3441</td>\n      <td>0</td>\n      <td>277.40</td>\n      <td>277.56</td>\n      <td>277.75</td>\n      <td>277.40</td>\n      <td>10999</td>\n      <td>-0.847539</td>\n      <td>-0.835031</td>\n      <td>52.702258</td>\n      <td>...</td>\n      <td>277.194850</td>\n      <td>271.975127</td>\n      <td>284.287148</td>\n      <td>1.193169</td>\n      <td>15.333333</td>\n      <td>14.664943</td>\n      <td>20.0</td>\n      <td>88.0</td>\n      <td>2242587.0</td>\n      <td>2.263139e+06</td>\n    </tr>\n    <tr>\n      <th>3442</th>\n      <td>3442</td>\n      <td>0</td>\n      <td>277.33</td>\n      <td>277.40</td>\n      <td>277.55</td>\n      <td>277.30</td>\n      <td>9562</td>\n      <td>-0.835031</td>\n      <td>-0.817066</td>\n      <td>52.281326</td>\n      <td>...</td>\n      <td>277.219059</td>\n      <td>271.975127</td>\n      <td>284.287148</td>\n      <td>1.196957</td>\n      <td>10.666667</td>\n      <td>13.109387</td>\n      <td>16.0</td>\n      <td>84.0</td>\n      <td>2233025.0</td>\n      <td>2.259981e+06</td>\n    </tr>\n    <tr>\n      <th>3443</th>\n      <td>3443</td>\n      <td>0</td>\n      <td>277.50</td>\n      <td>277.38</td>\n      <td>277.54</td>\n      <td>277.34</td>\n      <td>10256</td>\n      <td>-0.817066</td>\n      <td>-0.814698</td>\n      <td>52.071290</td>\n      <td>...</td>\n      <td>277.218933</td>\n      <td>271.975127</td>\n      <td>284.287148</td>\n      <td>1.197160</td>\n      <td>22.000000</td>\n      <td>16.887165</td>\n      <td>12.0</td>\n      <td>80.0</td>\n      <td>2243281.0</td>\n      <td>2.258002e+06</td>\n    </tr>\n  </tbody>\n</table>\n<p>3244 rows × 24 columns</p>\n</div>"
     },
     "execution_count": 72,
     "metadata": {},
     "output_type": "execute_result"
    }
   ],
   "source": [
    "# convert to df\n",
    "for i in range(len(all_df_data)):\n",
    "    all_df_data[i] = pd.DataFrame(all_df_data[i])\n",
    "\n",
    "for i in range(len(all_df_data)):\n",
    "    for name in all_df_data_st[i]:\n",
    "        all_df_data[i][name] = all_df_data_st[i][name]\n",
    "\n",
    "biggest_gap = 0\n",
    "for strategy_block in strategies_blocks:\n",
    "    for strategy_type in strategy_block:\n",
    "        if strategy_type.history_candles_length > biggest_gap:\n",
    "            biggest_gap = strategy_type.history_candles_length\n",
    "\n",
    "# delete first NaN elements\n",
    "for i, df in enumerate(all_df_data):\n",
    "    all_df_data[i] = df.drop(df.index[:biggest_gap])\n",
    "\n",
    "concatenated_df = pd.DataFrame()\n",
    "for i, data in enumerate(all_df_data):\n",
    "    data.to_csv(f\"./marked_data/result_with_parameters_{i}.csv\", index=False)\n",
    "    \n",
    "all_df_data[0]"
   ],
   "metadata": {
    "collapsed": false,
    "ExecuteTime": {
     "end_time": "2024-02-27T18:32:11.035473700Z",
     "start_time": "2024-02-27T18:32:10.526432600Z"
    }
   },
   "execution_count": 72
  }
 ],
 "metadata": {
  "kernelspec": {
   "display_name": "Python 3",
   "language": "python",
   "name": "python3"
  },
  "language_info": {
   "codemirror_mode": {
    "name": "ipython",
    "version": 2
   },
   "file_extension": ".py",
   "mimetype": "text/x-python",
   "name": "python",
   "nbconvert_exporter": "python",
   "pygments_lexer": "ipython2",
   "version": "2.7.6"
  }
 },
 "nbformat": 4,
 "nbformat_minor": 0
}
