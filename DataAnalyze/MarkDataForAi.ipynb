{
 "cells": [
  {
   "cell_type": "code",
   "execution_count": 53,
   "metadata": {
    "collapsed": true,
    "ExecuteTime": {
     "end_time": "2024-02-24T21:30:53.797600300Z",
     "start_time": "2024-02-24T21:30:53.794602100Z"
    }
   },
   "outputs": [],
   "source": [
    "from Strategies.StrategyBB import StrategyBB\n",
    "from Strategies.StrategyMACD import StrategyMACD\n",
    "from Strategies.StrategyOBV import StrategyOBV\n",
    "from Strategies.StrategyRSI import StrategyRSI\n",
    "from Strategies.StrategyST import StrategyST\n",
    "from historyData.HistoryData import HistoryData\n",
    "from tinkoff.invest.grpc.marketdata_pb2 import CandleInterval\n",
    "from datetime import datetime\n",
    "\n",
    "import asyncio"
   ]
  },
  {
   "cell_type": "code",
   "execution_count": 54,
   "outputs": [],
   "source": [
    "candle_interval = CandleInterval.CANDLE_INTERVAL_1_MIN\n",
    "data_set = HistoryData()"
   ],
   "metadata": {
    "collapsed": false,
    "ExecuteTime": {
     "end_time": "2024-02-24T21:30:55.716838100Z",
     "start_time": "2024-02-24T21:30:55.713317800Z"
    }
   }
  },
  {
   "cell_type": "code",
   "outputs": [],
   "source": [
    "from time import sleep\n",
    "\n",
    "candles_down = None\n",
    "candles_up = None\n",
    "candles_flat = None\n",
    "candles_short_up = None\n",
    "candles_short_down = None\n",
    "\n",
    "async def data_get():\n",
    "    global candles_down, candles_up, candles_flat, candles_short_up, candles_short_down\n",
    "    \n",
    "    candles_short_up = await (data_set.get_tinkoff_server_data(datetime(2023, 1, 1), datetime(2023, 2, 1), candle_interval))\n",
    "    candles_short_down = await (data_set.get_tinkoff_server_data(datetime(2021, 1, 1), datetime(2021, 2, 1), candle_interval))\n",
    "    candles_down = await (data_set.get_tinkoff_server_data(datetime(2022, 2, 1), datetime(2022, 3, 1), candle_interval))\n",
    "    candles_up = await (data_set.get_tinkoff_server_data(datetime(2023, 3, 1), datetime(2023, 4, 1), candle_interval))\n",
    "    candles_flat = await (data_set.get_tinkoff_server_data(datetime(2024, 1, 1), datetime(2024, 2, 1), candle_interval))\n",
    "\n",
    "# Run the event loop directly using await\n",
    "await data_get()"
   ],
   "metadata": {
    "collapsed": false,
    "ExecuteTime": {
     "end_time": "2024-02-24T21:44:47.025075300Z",
     "start_time": "2024-02-24T21:44:25.085776700Z"
    }
   },
   "execution_count": 66
  },
  {
   "cell_type": "markdown",
   "source": [
    "# Creates a Data Set For Future Model"
   ],
   "metadata": {
    "collapsed": false
   }
  },
  {
   "cell_type": "code",
   "outputs": [
    {
     "data": {
      "text/plain": "21830"
     },
     "execution_count": 71,
     "metadata": {},
     "output_type": "execute_result"
    }
   ],
   "source": [
    "all_candles = [candles_down, candles_up, candles_flat, candles_short_up, candles_short_down]\n",
    "len(all_candles[3])"
   ],
   "metadata": {
    "collapsed": false,
    "ExecuteTime": {
     "end_time": "2024-02-24T21:45:04.780865100Z",
     "start_time": "2024-02-24T21:45:04.771701300Z"
    }
   },
   "execution_count": 71
  },
  {
   "cell_type": "code",
   "outputs": [
    {
     "name": "stdout",
     "output_type": "stream",
     "text": [
      "Length of the marked data: 7335 total length: 17378\n",
      "Length of the marked data: 8953 total length: 22663\n",
      "Length of the marked data: 8672 total length: 21769\n",
      "Length of the marked data: 8530 total length: 21830\n",
      "Length of the marked data: 5902 total length: 15422\n"
     ]
    }
   ],
   "source": [
    "from AppLogic.Settings import Settings\n",
    "from tinkoff.invest.utils import quotation_to_decimal\n",
    "\n",
    "commission = 0.0005\n",
    "all_data_index_buy_sell = []\n",
    "\n",
    "for candles in all_candles:\n",
    "    data_index_buy_sell = []\n",
    "    total_earn = 0\n",
    "    total_sum_earned = 0\n",
    "    bought_at = -1\n",
    "    for i, candle in enumerate(list(candles)):\n",
    "        bought_at = float(quotation_to_decimal(candle.close))\n",
    "        this_candle_earned = 0\n",
    "        for j in range(i + 1, len(candles)):\n",
    "            further_candle_price = float(quotation_to_decimal(candles[j].close))\n",
    "            this_candle_earned = bought_at - further_candle_price\n",
    "            if this_candle_earned > 0.1 / 100 * bought_at:  # 0.1 is stop loss\n",
    "                data_index_buy_sell.append({\"bought\": i})\n",
    "                break\n",
    "            elif this_candle_earned < -0.05 / 100 * bought_at:  # 0.05 is stop loss\n",
    "                break\n",
    "            \n",
    "    all_data_index_buy_sell.append(data_index_buy_sell)\n",
    "    print(f\"Length of the marked data: {len(data_index_buy_sell)}\", f\"total length: {len(candles)}\")"
   ],
   "metadata": {
    "collapsed": false,
    "ExecuteTime": {
     "end_time": "2024-02-24T21:45:11.540682300Z",
     "start_time": "2024-02-24T21:45:09.979303Z"
    }
   },
   "execution_count": 72
  },
  {
   "cell_type": "code",
   "outputs": [],
   "source": [
    "        # current_price = float(quotation_to_decimal(candle.close))\n",
    "        # if current_price > float(quotation_to_decimal(candles[i - 1].close)):\n",
    "        #     if len(data_index_buy_sell) == 0 or list(data_index_buy_sell[-1].keys())[0] == \"sold\":\n",
    "        #         bought_at = float(quotation_to_decimal(candles[i - 1].close))\n",
    "        #         data_index_buy_sell.append({\"bought\": i - 1})\n",
    "        #     total_earn += current_price - float(quotation_to_decimal(candles[i - 1].close))\n",
    "        # elif current_price < float(quotation_to_decimal(candles[i - 1].close)):\n",
    "        #     data_index_buy_sell.append({\"sold\": i - 1})\n",
    "        #     if total_earn > 0.1 / 100 * bought_at:  #0.1 / 100 * bought_at: bought_at * commission + current_price * commission\n",
    "        #         total_sum_earned += total_earn\n",
    "        #     else:\n",
    "        #        data_index_buy_sell.pop(len(data_index_buy_sell) - 1)\n",
    "        #     total_earn = 0"
   ],
   "metadata": {
    "collapsed": false,
    "ExecuteTime": {
     "end_time": "2024-02-24T20:39:38.267721600Z",
     "start_time": "2024-02-24T20:39:38.265725500Z"
    }
   },
   "execution_count": 44
  },
  {
   "cell_type": "code",
   "outputs": [
    {
     "name": "stdout",
     "output_type": "stream",
     "text": [
      "All different period data len: 5 true: 8672 false: 13097\n"
     ]
    }
   ],
   "source": [
    "import pandas as pd\n",
    "\n",
    "all_new_data_buy = list()\n",
    "for data_index_buy_sell in all_data_index_buy_sell:\n",
    "    new_data_buy = list()\n",
    "    for i, data in enumerate(data_index_buy_sell):\n",
    "        if list(data_index_buy_sell[i].keys())[0] != \"sold\":\n",
    "            new_data_buy.append(data)\n",
    "    all_new_data_buy.append(new_data_buy)\n",
    "\n",
    "all_df_data = list()\n",
    "\n",
    "for c_i, candles in enumerate(all_candles):\n",
    "    df_data = {\"index\": [], \"result\": [], \"close\": [],\n",
    "               \"open\": [], \"high\": [], \"low\": [],\n",
    "               \"volume\": []}\n",
    "    buy_counter = 0\n",
    "    for i, candle in enumerate(list(candles)):\n",
    "        df_data[\"index\"].append(i)\n",
    "        df_data[\"close\"].append(float(quotation_to_decimal(candle.close)))\n",
    "        df_data[\"open\"].append(float(quotation_to_decimal(candle.open)))\n",
    "        df_data[\"high\"].append(float(quotation_to_decimal(candle.high)))\n",
    "        df_data[\"low\"].append(float(quotation_to_decimal(candle.low)))\n",
    "        df_data[\"volume\"].append(candle.volume)\n",
    "        \n",
    "        if i == all_new_data_buy[c_i][buy_counter][\"bought\"]:\n",
    "            df_data[\"result\"].append(1)\n",
    "            buy_counter += 1 if buy_counter < len(all_new_data_buy[c_i]) - 1 else 0\n",
    "        else:\n",
    "            df_data[\"result\"].append(0)\n",
    "    all_df_data.append(df_data)\n",
    "        \n",
    "print(f\"All different period data len: {len(all_df_data)}\", f\"true: {all_df_data[2]['result'].count(1)}\", f\"false: {all_df_data[2]['result'].count(0)}\")"
   ],
   "metadata": {
    "collapsed": false,
    "ExecuteTime": {
     "end_time": "2024-02-24T21:45:22.377219Z",
     "start_time": "2024-02-24T21:45:21.874910600Z"
    }
   },
   "execution_count": 73
  },
  {
   "cell_type": "markdown",
   "source": [
    "# Add Strategy Signals To DF"
   ],
   "metadata": {
    "collapsed": false
   }
  },
  {
   "cell_type": "code",
   "outputs": [
    {
     "name": "stdout",
     "output_type": "stream",
     "text": [
      "Strategy blocks len: 8\n"
     ]
    }
   ],
   "source": [
    "from Strategies.StrategyAroon import StrategyAroon\n",
    "from Strategies.StrategyStochRSI import StrategyStochRSI\n",
    "from Strategies.StrategyEMA import StrategyEMA\n",
    "\n",
    "# candle interval init (for this case is always 1 min)\n",
    "candle_interval = CandleInterval.CANDLE_INTERVAL_1_MIN\n",
    "\n",
    "# init all strategies\n",
    "EMA_down = StrategyEMA()\n",
    "EMA_up = StrategyEMA()\n",
    "EMA_flat = StrategyEMA()\n",
    "EMA_short_up = StrategyEMA()\n",
    "EMA_short_down = StrategyEMA()\n",
    "\n",
    "RSI_down = StrategyRSI()\n",
    "RSI_up = StrategyRSI()\n",
    "RSI_flat = StrategyRSI()\n",
    "RSI_short_up = StrategyRSI()\n",
    "RSI_short_down = StrategyRSI()\n",
    "\n",
    "MACD_down = StrategyMACD()\n",
    "MACD_up = StrategyMACD()\n",
    "MACD_flat = StrategyMACD()\n",
    "MACD_short_up = StrategyMACD()\n",
    "MACD_short_down = StrategyMACD()\n",
    "\n",
    "BB_down = StrategyBB()\n",
    "BB_up = StrategyBB()\n",
    "BB_flat = StrategyBB()\n",
    "BB_short_up = StrategyBB()\n",
    "BB_short_down = StrategyBB()\n",
    "\n",
    "ST_down = StrategyST()\n",
    "ST_up = StrategyST()\n",
    "ST_flat = StrategyST()\n",
    "ST_short_up = StrategyST()\n",
    "ST_short_down = StrategyST()\n",
    "\n",
    "StochRSI_down = StrategyStochRSI()\n",
    "StochRSI_up = StrategyStochRSI()\n",
    "StochRSI_flat = StrategyStochRSI()\n",
    "StochRSI_short_up = StrategyStochRSI()\n",
    "StochRSI_short_down = StrategyStochRSI()\n",
    "\n",
    "Aroon_down = StrategyAroon()\n",
    "Aroon_up = StrategyAroon()\n",
    "Aroon_flat = StrategyAroon()\n",
    "Aroon_short_up = StrategyAroon()\n",
    "Aroon_short_down = StrategyAroon()\n",
    "\n",
    "OBV_down = StrategyOBV()\n",
    "OBV_up = StrategyOBV()\n",
    "OBV_flat = StrategyOBV()\n",
    "OBV_short_up = StrategyOBV()\n",
    "OBV_short_down = StrategyOBV()\n",
    "\n",
    "strategies_blocks = [[EMA_down, EMA_up, EMA_flat, EMA_short_up, EMA_short_down], \n",
    "                    [RSI_down, RSI_up, RSI_flat, RSI_short_up, RSI_short_down], \n",
    "                    [MACD_down, MACD_up, MACD_flat, MACD_short_up, MACD_short_down], \n",
    "                    [BB_down, BB_up, BB_flat, BB_short_up, BB_short_down],\n",
    "                    [StochRSI_down, StochRSI_up, StochRSI_flat, StochRSI_short_up, StochRSI_short_down],\n",
    "                    [ST_down, ST_up, ST_flat, ST_short_up, ST_short_down],\n",
    "                    [Aroon_down, Aroon_up, Aroon_flat, Aroon_short_up, Aroon_short_down],\n",
    "                    [OBV_down, OBV_up, OBV_flat, OBV_short_up, OBV_short_down]]\n",
    "\n",
    "for strategy_block in strategies_blocks:\n",
    "    strategy_block[0].initialize_moving_avg_container(candles_down[:strategy_block[0].history_candles_length])\n",
    "    strategy_block[1].initialize_moving_avg_container(candles_up[:strategy_block[1].history_candles_length])\n",
    "    strategy_block[2].initialize_moving_avg_container(candles_flat[:strategy_block[2].history_candles_length])\n",
    "    strategy_block[3].initialize_moving_avg_container(candles_flat[:strategy_block[3].history_candles_length])\n",
    "    strategy_block[4].initialize_moving_avg_container(candles_flat[:strategy_block[4].history_candles_length])\n",
    "\n",
    "print(f\"Strategy blocks len: {len(strategies_blocks)}\")     "
   ],
   "metadata": {
    "collapsed": false,
    "ExecuteTime": {
     "end_time": "2024-02-24T21:48:51.228962700Z",
     "start_time": "2024-02-24T21:48:51.211092500Z"
    }
   },
   "execution_count": 74
  },
  {
   "cell_type": "code",
   "outputs": [
    {
     "name": "stdout",
     "output_type": "stream",
     "text": [
      "Small length check should be the length of candles: 21769, candle len: 21769\n"
     ]
    }
   ],
   "source": [
    "from Strategies import StrategyABS\n",
    "\n",
    "all_df_data_st = [{\"past_EMA\": [],\n",
    "                \"current_EMA\": [],\n",
    "                \"current_RSI\": [],\n",
    "                \"past_RSI\": [],\n",
    "                \"past_MACD\": [],\n",
    "                \"current_MACD\": [],\n",
    "                \"current_OBV\": [],\n",
    "                \"past_OBV\": [],\n",
    "                \"upper_BB\": [],\n",
    "                \"lower_BB\": [],\n",
    "                \"%K_StochRSI\": [],\n",
    "                \"upper_ST\": [],\n",
    "                \"lower_ST\": [],\n",
    "                \"ATR\": [],\n",
    "                \"up_Aroon\": [],\n",
    "                \"low_Aroon\": []} for i in range(len(strategies_blocks[0]))]\n",
    "\n",
    "def add_strategy_params(strategy_name: str, candle_index: int, history_candles_length: int, strategy: StrategyABS, current_layer: int) -> None:\n",
    "            global all_df_data_st\n",
    "            past = \"past_\" + strategy_name\n",
    "            current = \"current_\" + strategy_name\n",
    "            \n",
    "            if candle_index == history_candles_length:\n",
    "                [all_df_data_st[current_layer][past].append(None) for i in range(strategy.history_candles_length)]\n",
    "                [all_df_data_st[current_layer][current].append(None) for i in range(strategy.history_candles_length)]\n",
    "            params = strategy.get_candle_param(all_candles[str_i][candle_index])\n",
    "            all_df_data_st[current_layer][past].append(params[0])\n",
    "            all_df_data_st[current_layer][current].append(params[1])\n",
    "\n",
    "for strategy_block in strategies_blocks:\n",
    "    for str_i, strategy_type in enumerate(strategy_block):\n",
    "        for candle_index in range(strategy_type.history_candles_length, len(all_candles[str_i])):\n",
    "            if strategy_type.__class__.__name__ == \"StrategyEMA\":\n",
    "                add_strategy_params(\"EMA\", candle_index, strategy_type.history_candles_length, strategy_type, str_i)\n",
    "            elif strategy_type.__class__.__name__ == \"StrategyRSI\":\n",
    "                add_strategy_params(\"RSI\", candle_index, strategy_type.history_candles_length, strategy_type, str_i)\n",
    "            elif strategy_type.__class__.__name__ == \"StrategyMACD\":\n",
    "                add_strategy_params(\"MACD\", candle_index, strategy_type.history_candles_length, strategy_type, str_i)\n",
    "            elif strategy_type.__class__.__name__ == \"StrategyOBV\":\n",
    "                add_strategy_params(\"OBV\", candle_index, strategy_type.history_candles_length, strategy_type, str_i)\n",
    "            elif strategy_type.__class__.__name__ == \"StrategyBB\":\n",
    "                if candle_index == strategy_type.history_candles_length:\n",
    "                    [all_df_data_st[str_i][\"upper_BB\"].append(None) for i in range(strategy_type.history_candles_length)]\n",
    "                    [all_df_data_st[str_i][\"lower_BB\"].append(None) for i in range(strategy_type.history_candles_length)]\n",
    "                c_params = strategy_type.get_candle_param(all_candles[str_i][candle_index])\n",
    "                all_df_data_st[str_i][\"upper_BB\"].append(c_params[1])\n",
    "                all_df_data_st[str_i][\"lower_BB\"].append(c_params[2])\n",
    "            elif strategy_type.__class__.__name__ == \"StrategyStochRSI\":\n",
    "                if candle_index == strategy_type.history_candles_length:\n",
    "                    [all_df_data_st[str_i][\"%K_StochRSI\"].append(None) for i in range(strategy_type.history_candles_length)]\n",
    "                c_params = strategy_type.get_candle_param(all_candles[str_i][candle_index])\n",
    "                all_df_data_st[str_i][\"%K_StochRSI\"].append(c_params[0])\n",
    "            elif strategy_type.__class__.__name__ == \"StrategyST\":\n",
    "                if candle_index == strategy_type.history_candles_length:\n",
    "                    [all_df_data_st[str_i][\"upper_ST\"].append(None) for i in range(strategy_type.history_candles_length)]\n",
    "                    [all_df_data_st[str_i][\"lower_ST\"].append(None) for i in range(strategy_type.history_candles_length)]\n",
    "                    [all_df_data_st[str_i][\"ATR\"].append(None) for i in range(strategy_type.history_candles_length)]\n",
    "                c_params = strategy_type.get_candle_param(all_candles[str_i][candle_index])\n",
    "                all_df_data_st[str_i][\"upper_ST\"].append(c_params[0])\n",
    "                all_df_data_st[str_i][\"lower_ST\"].append(c_params[1])\n",
    "                all_df_data_st[str_i][\"ATR\"].append(c_params[2])\n",
    "            elif strategy_type.__class__.__name__ == \"StrategyAroon\":\n",
    "                if candle_index == strategy_type.history_candles_length:\n",
    "                    [all_df_data_st[str_i][\"up_Aroon\"].append(None) for i in range(strategy_type.history_candles_length)]\n",
    "                    [all_df_data_st[str_i][\"low_Aroon\"].append(None) for i in range(strategy_type.history_candles_length)]\n",
    "                c_params = strategy_type.get_candle_param(all_candles[str_i][candle_index])\n",
    "                all_df_data_st[str_i][\"up_Aroon\"].append(c_params[0])\n",
    "                all_df_data_st[str_i][\"low_Aroon\"].append(c_params[1])\n",
    "\n",
    "print(f\"Small length check should be the length of candles: {len(all_df_data_st[2]['lower_BB'])}, candle len: {len(all_candles[2])}\")"
   ],
   "metadata": {
    "collapsed": false,
    "ExecuteTime": {
     "end_time": "2024-02-24T21:49:21.732727100Z",
     "start_time": "2024-02-24T21:49:05.042171200Z"
    }
   },
   "execution_count": 75
  },
  {
   "cell_type": "code",
   "outputs": [
    {
     "data": {
      "text/plain": "       index  result   close    open    high     low  volume  past_EMA  \\\n200      200       1  265.12  265.00  265.34  264.62   65474  3.245200   \n201      201       1  264.22  265.11  265.23  264.14   83902  3.409157   \n202      202       0  262.86  264.22  264.48  262.53  200461  3.629551   \n203      203       0  263.69  262.86  263.85  262.82   77133  3.939523   \n204      204       0  264.50  263.69  264.74  263.58   71947  4.142661   \n...      ...     ...     ...     ...     ...     ...     ...       ...   \n17373  17373       0  130.70  130.75  130.87  130.50   13611 -0.975887   \n17374  17374       0  130.80  130.70  130.98  130.61   17154 -1.009690   \n17375  17375       0  130.95  130.85  131.00  130.80   11660 -1.047542   \n17376  17376       1  131.30  130.85  131.50  130.74   37603 -1.093248   \n17377  17377       0  131.12  131.30  131.70  130.85   22223 -1.163004   \n\n       current_EMA  current_RSI  ...   current_OBV  past_OBV    upper_BB  \\\n200       3.409157    47.195712  ... -20408.066667   65474.0  271.441659   \n201       3.629551    46.418695  ... -22386.066667  -83902.0  271.110899   \n202       3.939523    45.280853  ... -40083.133333 -200461.0  270.537024   \n203       4.142661    46.095365  ... -31488.066667   77133.0  269.931718   \n204       4.251615    46.874850  ... -14430.200000   71947.0  269.336210   \n...            ...          ...  ...           ...       ...         ...   \n17373    -1.009690    53.147416  ...    643.600000       0.0  130.764206   \n17374    -1.047542    53.347018  ...   1410.466667   17154.0  130.849445   \n17375    -1.093248    53.646210  ...   2514.133333   11660.0  130.871962   \n17376    -1.163004    54.336387  ...   5900.133333   37603.0  131.071448   \n17377    -1.209035    53.919357  ...   5408.000000  -22223.0  131.177889   \n\n         lower_BB  %K_StochRSI    upper_ST    lower_ST       ATR  up_Aroon  \\\n200    263.052341     2.558635  272.525571  268.662816  1.905844      28.0   \n201    262.786101     0.000000  272.525571  268.662816  1.918121      24.0   \n202    262.514976     0.000000  272.415738  268.662816  1.986913      20.0   \n203    262.442282    17.887931  271.724355  268.662816  1.989785      16.0   \n204    262.511790    35.344828  270.683398  268.662816  2.001133      12.0   \n...           ...          ...         ...         ...       ...       ...   \n17373  129.736794    41.176471  109.181222  276.175918  1.557147      16.0   \n17374  129.715555    44.444444  109.181222  276.175918  1.544670      12.0   \n17375  129.837038    48.717949  109.181222  276.175918  1.521692     100.0   \n17376  129.737552    56.521739  109.181222  276.175918  1.537579     100.0   \n17377  129.698111    48.695652  109.181222  276.175918  1.558407      96.0   \n\n       low_Aroon  \n200         92.0  \n201        100.0  \n202        100.0  \n203         96.0  \n204         92.0  \n...          ...  \n17373       28.0  \n17374       24.0  \n17375       20.0  \n17376       16.0  \n17377       12.0  \n\n[17178 rows x 23 columns]",
      "text/html": "<div>\n<style scoped>\n    .dataframe tbody tr th:only-of-type {\n        vertical-align: middle;\n    }\n\n    .dataframe tbody tr th {\n        vertical-align: top;\n    }\n\n    .dataframe thead th {\n        text-align: right;\n    }\n</style>\n<table border=\"1\" class=\"dataframe\">\n  <thead>\n    <tr style=\"text-align: right;\">\n      <th></th>\n      <th>index</th>\n      <th>result</th>\n      <th>close</th>\n      <th>open</th>\n      <th>high</th>\n      <th>low</th>\n      <th>volume</th>\n      <th>past_EMA</th>\n      <th>current_EMA</th>\n      <th>current_RSI</th>\n      <th>...</th>\n      <th>current_OBV</th>\n      <th>past_OBV</th>\n      <th>upper_BB</th>\n      <th>lower_BB</th>\n      <th>%K_StochRSI</th>\n      <th>upper_ST</th>\n      <th>lower_ST</th>\n      <th>ATR</th>\n      <th>up_Aroon</th>\n      <th>low_Aroon</th>\n    </tr>\n  </thead>\n  <tbody>\n    <tr>\n      <th>200</th>\n      <td>200</td>\n      <td>1</td>\n      <td>265.12</td>\n      <td>265.00</td>\n      <td>265.34</td>\n      <td>264.62</td>\n      <td>65474</td>\n      <td>3.245200</td>\n      <td>3.409157</td>\n      <td>47.195712</td>\n      <td>...</td>\n      <td>-20408.066667</td>\n      <td>65474.0</td>\n      <td>271.441659</td>\n      <td>263.052341</td>\n      <td>2.558635</td>\n      <td>272.525571</td>\n      <td>268.662816</td>\n      <td>1.905844</td>\n      <td>28.0</td>\n      <td>92.0</td>\n    </tr>\n    <tr>\n      <th>201</th>\n      <td>201</td>\n      <td>1</td>\n      <td>264.22</td>\n      <td>265.11</td>\n      <td>265.23</td>\n      <td>264.14</td>\n      <td>83902</td>\n      <td>3.409157</td>\n      <td>3.629551</td>\n      <td>46.418695</td>\n      <td>...</td>\n      <td>-22386.066667</td>\n      <td>-83902.0</td>\n      <td>271.110899</td>\n      <td>262.786101</td>\n      <td>0.000000</td>\n      <td>272.525571</td>\n      <td>268.662816</td>\n      <td>1.918121</td>\n      <td>24.0</td>\n      <td>100.0</td>\n    </tr>\n    <tr>\n      <th>202</th>\n      <td>202</td>\n      <td>0</td>\n      <td>262.86</td>\n      <td>264.22</td>\n      <td>264.48</td>\n      <td>262.53</td>\n      <td>200461</td>\n      <td>3.629551</td>\n      <td>3.939523</td>\n      <td>45.280853</td>\n      <td>...</td>\n      <td>-40083.133333</td>\n      <td>-200461.0</td>\n      <td>270.537024</td>\n      <td>262.514976</td>\n      <td>0.000000</td>\n      <td>272.415738</td>\n      <td>268.662816</td>\n      <td>1.986913</td>\n      <td>20.0</td>\n      <td>100.0</td>\n    </tr>\n    <tr>\n      <th>203</th>\n      <td>203</td>\n      <td>0</td>\n      <td>263.69</td>\n      <td>262.86</td>\n      <td>263.85</td>\n      <td>262.82</td>\n      <td>77133</td>\n      <td>3.939523</td>\n      <td>4.142661</td>\n      <td>46.095365</td>\n      <td>...</td>\n      <td>-31488.066667</td>\n      <td>77133.0</td>\n      <td>269.931718</td>\n      <td>262.442282</td>\n      <td>17.887931</td>\n      <td>271.724355</td>\n      <td>268.662816</td>\n      <td>1.989785</td>\n      <td>16.0</td>\n      <td>96.0</td>\n    </tr>\n    <tr>\n      <th>204</th>\n      <td>204</td>\n      <td>0</td>\n      <td>264.50</td>\n      <td>263.69</td>\n      <td>264.74</td>\n      <td>263.58</td>\n      <td>71947</td>\n      <td>4.142661</td>\n      <td>4.251615</td>\n      <td>46.874850</td>\n      <td>...</td>\n      <td>-14430.200000</td>\n      <td>71947.0</td>\n      <td>269.336210</td>\n      <td>262.511790</td>\n      <td>35.344828</td>\n      <td>270.683398</td>\n      <td>268.662816</td>\n      <td>2.001133</td>\n      <td>12.0</td>\n      <td>92.0</td>\n    </tr>\n    <tr>\n      <th>...</th>\n      <td>...</td>\n      <td>...</td>\n      <td>...</td>\n      <td>...</td>\n      <td>...</td>\n      <td>...</td>\n      <td>...</td>\n      <td>...</td>\n      <td>...</td>\n      <td>...</td>\n      <td>...</td>\n      <td>...</td>\n      <td>...</td>\n      <td>...</td>\n      <td>...</td>\n      <td>...</td>\n      <td>...</td>\n      <td>...</td>\n      <td>...</td>\n      <td>...</td>\n      <td>...</td>\n    </tr>\n    <tr>\n      <th>17373</th>\n      <td>17373</td>\n      <td>0</td>\n      <td>130.70</td>\n      <td>130.75</td>\n      <td>130.87</td>\n      <td>130.50</td>\n      <td>13611</td>\n      <td>-0.975887</td>\n      <td>-1.009690</td>\n      <td>53.147416</td>\n      <td>...</td>\n      <td>643.600000</td>\n      <td>0.0</td>\n      <td>130.764206</td>\n      <td>129.736794</td>\n      <td>41.176471</td>\n      <td>109.181222</td>\n      <td>276.175918</td>\n      <td>1.557147</td>\n      <td>16.0</td>\n      <td>28.0</td>\n    </tr>\n    <tr>\n      <th>17374</th>\n      <td>17374</td>\n      <td>0</td>\n      <td>130.80</td>\n      <td>130.70</td>\n      <td>130.98</td>\n      <td>130.61</td>\n      <td>17154</td>\n      <td>-1.009690</td>\n      <td>-1.047542</td>\n      <td>53.347018</td>\n      <td>...</td>\n      <td>1410.466667</td>\n      <td>17154.0</td>\n      <td>130.849445</td>\n      <td>129.715555</td>\n      <td>44.444444</td>\n      <td>109.181222</td>\n      <td>276.175918</td>\n      <td>1.544670</td>\n      <td>12.0</td>\n      <td>24.0</td>\n    </tr>\n    <tr>\n      <th>17375</th>\n      <td>17375</td>\n      <td>0</td>\n      <td>130.95</td>\n      <td>130.85</td>\n      <td>131.00</td>\n      <td>130.80</td>\n      <td>11660</td>\n      <td>-1.047542</td>\n      <td>-1.093248</td>\n      <td>53.646210</td>\n      <td>...</td>\n      <td>2514.133333</td>\n      <td>11660.0</td>\n      <td>130.871962</td>\n      <td>129.837038</td>\n      <td>48.717949</td>\n      <td>109.181222</td>\n      <td>276.175918</td>\n      <td>1.521692</td>\n      <td>100.0</td>\n      <td>20.0</td>\n    </tr>\n    <tr>\n      <th>17376</th>\n      <td>17376</td>\n      <td>1</td>\n      <td>131.30</td>\n      <td>130.85</td>\n      <td>131.50</td>\n      <td>130.74</td>\n      <td>37603</td>\n      <td>-1.093248</td>\n      <td>-1.163004</td>\n      <td>54.336387</td>\n      <td>...</td>\n      <td>5900.133333</td>\n      <td>37603.0</td>\n      <td>131.071448</td>\n      <td>129.737552</td>\n      <td>56.521739</td>\n      <td>109.181222</td>\n      <td>276.175918</td>\n      <td>1.537579</td>\n      <td>100.0</td>\n      <td>16.0</td>\n    </tr>\n    <tr>\n      <th>17377</th>\n      <td>17377</td>\n      <td>0</td>\n      <td>131.12</td>\n      <td>131.30</td>\n      <td>131.70</td>\n      <td>130.85</td>\n      <td>22223</td>\n      <td>-1.163004</td>\n      <td>-1.209035</td>\n      <td>53.919357</td>\n      <td>...</td>\n      <td>5408.000000</td>\n      <td>-22223.0</td>\n      <td>131.177889</td>\n      <td>129.698111</td>\n      <td>48.695652</td>\n      <td>109.181222</td>\n      <td>276.175918</td>\n      <td>1.558407</td>\n      <td>96.0</td>\n      <td>12.0</td>\n    </tr>\n  </tbody>\n</table>\n<p>17178 rows × 23 columns</p>\n</div>"
     },
     "execution_count": 76,
     "metadata": {},
     "output_type": "execute_result"
    }
   ],
   "source": [
    "# convert to df\n",
    "for i in range(len(all_df_data)):\n",
    "    all_df_data[i] = pd.DataFrame(all_df_data[i])\n",
    "\n",
    "for i in range(len(all_df_data)):\n",
    "    for name in all_df_data_st[i]:\n",
    "        all_df_data[i][name] = all_df_data_st[i][name]\n",
    "\n",
    "biggest_gap = 0\n",
    "for strategy_block in strategies_blocks:\n",
    "    for strategy_type in strategy_block:\n",
    "        if strategy_type.history_candles_length > biggest_gap:\n",
    "            biggest_gap = strategy_type.history_candles_length\n",
    "\n",
    "# delete first NaN elements\n",
    "for i, df in enumerate(all_df_data):\n",
    "    all_df_data[i] = df.drop(df.index[:biggest_gap])\n",
    "\n",
    "concatenated_df = pd.DataFrame()\n",
    "for i, data in enumerate(all_df_data):\n",
    "    data.to_csv(f\"./marked_data/result_with_parameters_{i}.csv\", index=False)\n",
    "    \n",
    "all_df_data[0]"
   ],
   "metadata": {
    "collapsed": false,
    "ExecuteTime": {
     "end_time": "2024-02-24T21:49:34.229534100Z",
     "start_time": "2024-02-24T21:49:32.739524900Z"
    }
   },
   "execution_count": 76
  }
 ],
 "metadata": {
  "kernelspec": {
   "display_name": "Python 3",
   "language": "python",
   "name": "python3"
  },
  "language_info": {
   "codemirror_mode": {
    "name": "ipython",
    "version": 2
   },
   "file_extension": ".py",
   "mimetype": "text/x-python",
   "name": "python",
   "nbconvert_exporter": "python",
   "pygments_lexer": "ipython2",
   "version": "2.7.6"
  }
 },
 "nbformat": 4,
 "nbformat_minor": 0
}
