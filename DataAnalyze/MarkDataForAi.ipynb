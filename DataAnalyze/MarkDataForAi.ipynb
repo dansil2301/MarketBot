{
 "cells": [
  {
   "cell_type": "code",
   "execution_count": 1,
   "metadata": {
    "collapsed": true,
    "ExecuteTime": {
     "end_time": "2024-02-26T23:33:17.952193700Z",
     "start_time": "2024-02-26T23:33:17.820185300Z"
    }
   },
   "outputs": [],
   "source": [
    "from Strategies.StrategyBB import StrategyBB\n",
    "from Strategies.StrategyMACD import StrategyMACD\n",
    "from Strategies.StrategyOBV import StrategyOBV\n",
    "from Strategies.StrategyRSI import StrategyRSI\n",
    "from Strategies.StrategyST import StrategyST\n",
    "from historyData.HistoryData import HistoryData\n",
    "from tinkoff.invest.grpc.marketdata_pb2 import CandleInterval\n",
    "from datetime import datetime\n",
    "\n",
    "import asyncio"
   ]
  },
  {
   "cell_type": "code",
   "execution_count": 2,
   "outputs": [],
   "source": [
    "candle_interval = CandleInterval.CANDLE_INTERVAL_1_MIN\n",
    "data_set = HistoryData()"
   ],
   "metadata": {
    "collapsed": false,
    "ExecuteTime": {
     "end_time": "2024-02-26T23:33:17.958224700Z",
     "start_time": "2024-02-26T23:33:17.952193700Z"
    }
   }
  },
  {
   "cell_type": "code",
   "outputs": [],
   "source": [
    "from time import sleep\n",
    "\n",
    "candles_down = list()\n",
    "candles_up = list()\n",
    "candles_flat = list()\n",
    "candles_short_up = list()\n",
    "candles_short_down = list()\n",
    "candles_7_period = list()\n",
    "candles_6_period = list()\n",
    "\n",
    "async def data_get():\n",
    "    global candles_down, candles_up, candles_flat, candles_short_up, candles_short_down, candles_7_period, candles_6_period\n",
    "    \n",
    "    candles_short_up = await (data_set.get_tinkoff_server_data(datetime(2023, 12, 1), datetime(2024, 1, 1), candle_interval))\n",
    "    candles_short_down = await (data_set.get_tinkoff_server_data(datetime(2023, 12, 2), datetime(2024, 1, 1), candle_interval))\n",
    "    candles_down = await (data_set.get_tinkoff_server_data(datetime(2023, 11, 2), datetime(2023, 12, 1), candle_interval))\n",
    "    candles_up = await (data_set.get_tinkoff_server_data(datetime(2023, 8, 2), datetime(2023, 9, 1), candle_interval))\n",
    "    candles_flat = await (data_set.get_tinkoff_server_data(datetime(2023, 9, 2), datetime(2023, 10, 1), candle_interval))\n",
    "    candles_7_period = await (data_set.get_tinkoff_server_data(datetime(2023, 7, 2), datetime(2023, 8, 1), candle_interval))\n",
    "    candles_6_period = await (data_set.get_tinkoff_server_data(datetime(2023, 6, 2), datetime(2023, 7, 1), candle_interval))\n",
    "\n",
    "# Run the event loop directly using await\n",
    "await data_get()"
   ],
   "metadata": {
    "collapsed": false,
    "ExecuteTime": {
     "end_time": "2024-02-26T23:33:47.937352500Z",
     "start_time": "2024-02-26T23:33:17.958224700Z"
    }
   },
   "execution_count": 3
  },
  {
   "cell_type": "markdown",
   "source": [
    "# Creates a Data Set For Future Model"
   ],
   "metadata": {
    "collapsed": false
   }
  },
  {
   "cell_type": "code",
   "outputs": [
    {
     "data": {
      "text/plain": "21216"
     },
     "execution_count": 4,
     "metadata": {},
     "output_type": "execute_result"
    }
   ],
   "source": [
    "all_candles = [candles_down, candles_up, candles_flat, candles_short_up, candles_short_down, candles_7_period, candles_6_period]\n",
    "len(all_candles[0])"
   ],
   "metadata": {
    "collapsed": false,
    "ExecuteTime": {
     "end_time": "2024-02-26T23:33:47.947378500Z",
     "start_time": "2024-02-26T23:33:47.937352500Z"
    }
   },
   "execution_count": 4
  },
  {
   "cell_type": "code",
   "outputs": [
    {
     "name": "stdout",
     "output_type": "stream",
     "text": [
      "Length of the marked data: 8843 total length: 21216\n",
      "Length of the marked data: 9035 total length: 22142\n",
      "Length of the marked data: 9247 total length: 21047\n",
      "Length of the marked data: 9763 total length: 22264\n",
      "Length of the marked data: 9434 total length: 21452\n",
      "Length of the marked data: 8751 total length: 21795\n",
      "Length of the marked data: 8352 total length: 20045\n"
     ]
    }
   ],
   "source": [
    "import numpy as np\n",
    "from AppLogic.Settings import Settings\n",
    "from tinkoff.invest.utils import quotation_to_decimal\n",
    "\n",
    "commission = 0.0005\n",
    "all_data_index_buy_sell = []\n",
    "\n",
    "for candles in all_candles:\n",
    "    data_index_buy_sell = []\n",
    "    total_earn = 0\n",
    "    total_sum_earned = 0\n",
    "    bought_at = -1\n",
    "    for i in range(len(list(candles))):\n",
    "        bought_at = float(quotation_to_decimal(candles[i].close))\n",
    "        this_candle_earned = 0\n",
    "        for j in range(i + 1, len(candles)):\n",
    "            further_candle_price = float(quotation_to_decimal(candles[j].close))\n",
    "            this_candle_earned = bought_at - further_candle_price\n",
    "\n",
    "            if this_candle_earned > 0.1 / 100 * bought_at:  # 0.1 is stop loss\n",
    "                data_index_buy_sell.append({\"bought\": i})\n",
    "                break\n",
    "            elif this_candle_earned < -0.05 / 100 * bought_at:  # 0.05 is stop loss\n",
    "                break\n",
    "    all_data_index_buy_sell.append(data_index_buy_sell)\n",
    "    print(f\"Length of the marked data: {len(data_index_buy_sell)}\", f\"total length: {len(candles)}\")\n",
    "                \n",
    "# for candles in all_candles:\n",
    "#     data_index_buy_sell = []\n",
    "#     total_earn = 0\n",
    "#     total_sum_earned = 0\n",
    "#     bought_at = -1\n",
    "#     counter = 0\n",
    "#     i = 13\n",
    "#     up = 0.1\n",
    "#     down = -0.05\n",
    "# \n",
    "#     while i < len(list(candles)) - 2:\n",
    "#         i += 1\n",
    "# \n",
    "#         current_candle_price = float(quotation_to_decimal(candles[i].close))\n",
    "#         next_candle_price = float(quotation_to_decimal(candles[i + 1].close))\n",
    "# \n",
    "#         if current_candle_price < next_candle_price and bought_at == -1:\n",
    "#             data_index_buy_sell.append({\"bought\": i})\n",
    "#             bought_at = current_candle_price\n",
    "#             counter = i  \n",
    "#         elif bought_at != -1 and bought_at - current_candle_price < down / 100 * bought_at:\n",
    "#             data_index_buy_sell.pop(-1)\n",
    "#             i = counter + 1\n",
    "#             bought_at = -1    \n",
    "#         elif bought_at != -1 and bought_at - current_candle_price > up / 100 * bought_at:  # 0.1 is stop loss\n",
    "#             data_index_buy_sell.append({\"sold\": i})\n",
    "#             bought_at = -1"
   ],
   "metadata": {
    "collapsed": false,
    "ExecuteTime": {
     "end_time": "2024-02-26T23:33:50.150270400Z",
     "start_time": "2024-02-26T23:33:47.944378400Z"
    }
   },
   "execution_count": 5
  },
  {
   "cell_type": "code",
   "outputs": [
    {
     "data": {
      "text/plain": "[{'bought': 1},\n {'bought': 2},\n {'bought': 6},\n {'bought': 7},\n {'bought': 8},\n {'bought': 13},\n {'bought': 14},\n {'bought': 15},\n {'bought': 16},\n {'bought': 17},\n {'bought': 18},\n {'bought': 19},\n {'bought': 22},\n {'bought': 37},\n {'bought': 38},\n {'bought': 39},\n {'bought': 43},\n {'bought': 45},\n {'bought': 46},\n {'bought': 48},\n {'bought': 49},\n {'bought': 50},\n {'bought': 54},\n {'bought': 55},\n {'bought': 56},\n {'bought': 57},\n {'bought': 58},\n {'bought': 59},\n {'bought': 60},\n {'bought': 62},\n {'bought': 63},\n {'bought': 64},\n {'bought': 78},\n {'bought': 79},\n {'bought': 80},\n {'bought': 81},\n {'bought': 82},\n {'bought': 83},\n {'bought': 84},\n {'bought': 85},\n {'bought': 86},\n {'bought': 117},\n {'bought': 119},\n {'bought': 120},\n {'bought': 121},\n {'bought': 122},\n {'bought': 123},\n {'bought': 124},\n {'bought': 125},\n {'bought': 126},\n {'bought': 127},\n {'bought': 129},\n {'bought': 130},\n {'bought': 144},\n {'bought': 145},\n {'bought': 146},\n {'bought': 148},\n {'bought': 149},\n {'bought': 150},\n {'bought': 151},\n {'bought': 152},\n {'bought': 154},\n {'bought': 155},\n {'bought': 156},\n {'bought': 157},\n {'bought': 158},\n {'bought': 223},\n {'bought': 224},\n {'bought': 225},\n {'bought': 226},\n {'bought': 227},\n {'bought': 228},\n {'bought': 229},\n {'bought': 235},\n {'bought': 236},\n {'bought': 237},\n {'bought': 238},\n {'bought': 239},\n {'bought': 240},\n {'bought': 242},\n {'bought': 243},\n {'bought': 244},\n {'bought': 245},\n {'bought': 246},\n {'bought': 247},\n {'bought': 248},\n {'bought': 249},\n {'bought': 250},\n {'bought': 251},\n {'bought': 252},\n {'bought': 253},\n {'bought': 257},\n {'bought': 258},\n {'bought': 259},\n {'bought': 262},\n {'bought': 263},\n {'bought': 264},\n {'bought': 277},\n {'bought': 278},\n {'bought': 279},\n {'bought': 280},\n {'bought': 281},\n {'bought': 282},\n {'bought': 283},\n {'bought': 284},\n {'bought': 285},\n {'bought': 286},\n {'bought': 287},\n {'bought': 288},\n {'bought': 289},\n {'bought': 290},\n {'bought': 291},\n {'bought': 295},\n {'bought': 296},\n {'bought': 297},\n {'bought': 298},\n {'bought': 300},\n {'bought': 301},\n {'bought': 302},\n {'bought': 303},\n {'bought': 304},\n {'bought': 305},\n {'bought': 306},\n {'bought': 307},\n {'bought': 308},\n {'bought': 309},\n {'bought': 310},\n {'bought': 311},\n {'bought': 312},\n {'bought': 313},\n {'bought': 314},\n {'bought': 315},\n {'bought': 316},\n {'bought': 317},\n {'bought': 318},\n {'bought': 319},\n {'bought': 320},\n {'bought': 321},\n {'bought': 322},\n {'bought': 323},\n {'bought': 324},\n {'bought': 325},\n {'bought': 326},\n {'bought': 327},\n {'bought': 328},\n {'bought': 330},\n {'bought': 331},\n {'bought': 332},\n {'bought': 333},\n {'bought': 334},\n {'bought': 335},\n {'bought': 336},\n {'bought': 337},\n {'bought': 338},\n {'bought': 339},\n {'bought': 340},\n {'bought': 341},\n {'bought': 342},\n {'bought': 343},\n {'bought': 344},\n {'bought': 345},\n {'bought': 346},\n {'bought': 347},\n {'bought': 348},\n {'bought': 349},\n {'bought': 350},\n {'bought': 351},\n {'bought': 352},\n {'bought': 353},\n {'bought': 354},\n {'bought': 355},\n {'bought': 356},\n {'bought': 357},\n {'bought': 358},\n {'bought': 359},\n {'bought': 360},\n {'bought': 361},\n {'bought': 362},\n {'bought': 363},\n {'bought': 364},\n {'bought': 365},\n {'bought': 366},\n {'bought': 367},\n {'bought': 368},\n {'bought': 369},\n {'bought': 370},\n {'bought': 371},\n {'bought': 372},\n {'bought': 373},\n {'bought': 374},\n {'bought': 375},\n {'bought': 376},\n {'bought': 377},\n {'bought': 378},\n {'bought': 379},\n {'bought': 380},\n {'bought': 381},\n {'bought': 384},\n {'bought': 416},\n {'bought': 417},\n {'bought': 418},\n {'bought': 419},\n {'bought': 420},\n {'bought': 421},\n {'bought': 422},\n {'bought': 423},\n {'bought': 424},\n {'bought': 425},\n {'bought': 426},\n {'bought': 427},\n {'bought': 428},\n {'bought': 429},\n {'bought': 430},\n {'bought': 431},\n {'bought': 432},\n {'bought': 433},\n {'bought': 442},\n {'bought': 443},\n {'bought': 444},\n {'bought': 445},\n {'bought': 446},\n {'bought': 447},\n {'bought': 448},\n {'bought': 449},\n {'bought': 450},\n {'bought': 451},\n {'bought': 452},\n {'bought': 453},\n {'bought': 454},\n {'bought': 455},\n {'bought': 456},\n {'bought': 457},\n {'bought': 458},\n {'bought': 459},\n {'bought': 461},\n {'bought': 463},\n {'bought': 474},\n {'bought': 475},\n {'bought': 476},\n {'bought': 477},\n {'bought': 478},\n {'bought': 480},\n {'bought': 481},\n {'bought': 482},\n {'bought': 490},\n {'bought': 492},\n {'bought': 493},\n {'bought': 494},\n {'bought': 495},\n {'bought': 496},\n {'bought': 497},\n {'bought': 498},\n {'bought': 499},\n {'bought': 500},\n {'bought': 501},\n {'bought': 502},\n {'bought': 503},\n {'bought': 504},\n {'bought': 505},\n {'bought': 506},\n {'bought': 507},\n {'bought': 508},\n {'bought': 509},\n {'bought': 510},\n {'bought': 511},\n {'bought': 512},\n {'bought': 670},\n {'bought': 672},\n {'bought': 675},\n {'bought': 720},\n {'bought': 722},\n {'bought': 723},\n {'bought': 724},\n {'bought': 725},\n {'bought': 726},\n {'bought': 727},\n {'bought': 728},\n {'bought': 729},\n {'bought': 730},\n {'bought': 731},\n {'bought': 732},\n {'bought': 733},\n {'bought': 734},\n {'bought': 735},\n {'bought': 736},\n {'bought': 737},\n {'bought': 738},\n {'bought': 739},\n {'bought': 740},\n {'bought': 741},\n {'bought': 742},\n {'bought': 743},\n {'bought': 744},\n {'bought': 745},\n {'bought': 746},\n {'bought': 747},\n {'bought': 748},\n {'bought': 749},\n {'bought': 750},\n {'bought': 751},\n {'bought': 752},\n {'bought': 753},\n {'bought': 754},\n {'bought': 755},\n {'bought': 756},\n {'bought': 757},\n {'bought': 758},\n {'bought': 759},\n {'bought': 814},\n {'bought': 815},\n {'bought': 817},\n {'bought': 842},\n {'bought': 843},\n {'bought': 844},\n {'bought': 845},\n {'bought': 846},\n {'bought': 847},\n {'bought': 848},\n {'bought': 849},\n {'bought': 851},\n {'bought': 852},\n {'bought': 853},\n {'bought': 854},\n {'bought': 855},\n {'bought': 857},\n {'bought': 858},\n {'bought': 859},\n {'bought': 860},\n {'bought': 861},\n {'bought': 862},\n {'bought': 877},\n {'bought': 878},\n {'bought': 881},\n {'bought': 882},\n {'bought': 884},\n {'bought': 885},\n {'bought': 887},\n {'bought': 888},\n {'bought': 889},\n {'bought': 891},\n {'bought': 892},\n {'bought': 893},\n {'bought': 894},\n {'bought': 899},\n {'bought': 900},\n {'bought': 901},\n {'bought': 902},\n {'bought': 903},\n {'bought': 904},\n {'bought': 905},\n {'bought': 923},\n {'bought': 929},\n {'bought': 930},\n {'bought': 931},\n {'bought': 936},\n {'bought': 938},\n {'bought': 943},\n {'bought': 944},\n {'bought': 945},\n {'bought': 946},\n {'bought': 947},\n {'bought': 948},\n {'bought': 962},\n {'bought': 993},\n {'bought': 994},\n {'bought': 995},\n {'bought': 996},\n {'bought': 997},\n {'bought': 998},\n {'bought': 999},\n {'bought': 1000},\n {'bought': 1001},\n {'bought': 1002},\n {'bought': 1003},\n {'bought': 1004},\n {'bought': 1005},\n {'bought': 1006},\n {'bought': 1007},\n {'bought': 1008},\n {'bought': 1009},\n {'bought': 1010},\n {'bought': 1011},\n {'bought': 1012},\n {'bought': 1013},\n {'bought': 1014},\n {'bought': 1015},\n {'bought': 1016},\n {'bought': 1017},\n {'bought': 1018},\n {'bought': 1019},\n {'bought': 1020},\n {'bought': 1021},\n {'bought': 1022},\n {'bought': 1023},\n {'bought': 1024},\n {'bought': 1035},\n {'bought': 1037},\n {'bought': 1039},\n {'bought': 1040},\n {'bought': 1041},\n {'bought': 1042},\n {'bought': 1043},\n {'bought': 1044},\n {'bought': 1045},\n {'bought': 1046},\n {'bought': 1047},\n {'bought': 1048},\n {'bought': 1049},\n {'bought': 1050},\n {'bought': 1051},\n {'bought': 1052},\n {'bought': 1053},\n {'bought': 1054},\n {'bought': 1055},\n {'bought': 1099},\n {'bought': 1100},\n {'bought': 1101},\n {'bought': 1103},\n {'bought': 1104},\n {'bought': 1105},\n {'bought': 1106},\n {'bought': 1107},\n {'bought': 1108},\n {'bought': 1109},\n {'bought': 1113},\n {'bought': 1133},\n {'bought': 1145},\n {'bought': 1146},\n {'bought': 1147},\n {'bought': 1148},\n {'bought': 1149},\n {'bought': 1150},\n {'bought': 1151},\n {'bought': 1152},\n {'bought': 1154},\n {'bought': 1155},\n {'bought': 1156},\n {'bought': 1157},\n {'bought': 1170},\n {'bought': 1171},\n {'bought': 1172},\n {'bought': 1173},\n {'bought': 1174},\n {'bought': 1175},\n {'bought': 1176},\n {'bought': 1177},\n {'bought': 1178},\n {'bought': 1179},\n {'bought': 1180},\n {'bought': 1181},\n {'bought': 1182},\n {'bought': 1192},\n {'bought': 1193},\n {'bought': 1194},\n {'bought': 1195},\n {'bought': 1196},\n {'bought': 1197},\n {'bought': 1198},\n {'bought': 1233},\n {'bought': 1234},\n {'bought': 1235},\n {'bought': 1236},\n {'bought': 1238},\n {'bought': 1239},\n {'bought': 1241},\n {'bought': 1252},\n {'bought': 1253},\n {'bought': 1269},\n {'bought': 1274},\n {'bought': 1275},\n {'bought': 1276},\n {'bought': 1277},\n {'bought': 1278},\n {'bought': 1279},\n {'bought': 1280},\n {'bought': 1282},\n {'bought': 1288},\n {'bought': 1338},\n {'bought': 1339},\n {'bought': 1340},\n {'bought': 1341},\n {'bought': 1342},\n {'bought': 1343},\n {'bought': 1344},\n {'bought': 1345},\n {'bought': 1346},\n {'bought': 1347},\n {'bought': 1348},\n {'bought': 1349},\n {'bought': 1350},\n {'bought': 1351},\n {'bought': 1352},\n {'bought': 1353},\n {'bought': 1354},\n {'bought': 1355},\n {'bought': 1356},\n {'bought': 1357},\n {'bought': 1358},\n {'bought': 1359},\n {'bought': 1360},\n {'bought': 1361},\n {'bought': 1362},\n {'bought': 1363},\n {'bought': 1364},\n {'bought': 1365},\n {'bought': 1366},\n {'bought': 1367},\n {'bought': 1368},\n {'bought': 1369},\n {'bought': 1370},\n {'bought': 1371},\n {'bought': 1372},\n {'bought': 1373},\n {'bought': 1374},\n {'bought': 1375},\n {'bought': 1376},\n {'bought': 1377},\n {'bought': 1378},\n {'bought': 1379},\n {'bought': 1380},\n {'bought': 1381},\n {'bought': 1382},\n {'bought': 1383},\n {'bought': 1384},\n {'bought': 1385},\n {'bought': 1386},\n {'bought': 1387},\n {'bought': 1388},\n {'bought': 1389},\n {'bought': 1390},\n {'bought': 1391},\n {'bought': 1392},\n {'bought': 1393},\n {'bought': 1394},\n {'bought': 1395},\n {'bought': 1408},\n {'bought': 1409},\n {'bought': 1410},\n {'bought': 1411},\n {'bought': 1412},\n {'bought': 1413},\n {'bought': 1414},\n {'bought': 1415},\n {'bought': 1416},\n {'bought': 1417},\n {'bought': 1418},\n {'bought': 1419},\n {'bought': 1420},\n {'bought': 1421},\n {'bought': 1422},\n {'bought': 1423},\n {'bought': 1424},\n {'bought': 1425},\n {'bought': 1426},\n {'bought': 1427},\n {'bought': 1428},\n {'bought': 1429},\n {'bought': 1430},\n {'bought': 1431},\n {'bought': 1432},\n {'bought': 1433},\n {'bought': 1434},\n {'bought': 1435},\n {'bought': 1436},\n {'bought': 1437},\n {'bought': 1438},\n {'bought': 1439},\n {'bought': 1440},\n {'bought': 1441},\n {'bought': 1442},\n {'bought': 1443},\n {'bought': 1444},\n {'bought': 1445},\n {'bought': 1446},\n {'bought': 1447},\n {'bought': 1448},\n {'bought': 1449},\n {'bought': 1450},\n {'bought': 1451},\n {'bought': 1452},\n {'bought': 1453},\n {'bought': 1455},\n {'bought': 1456},\n {'bought': 1457},\n {'bought': 1458},\n {'bought': 1459},\n {'bought': 1460},\n {'bought': 1461},\n {'bought': 1462},\n {'bought': 1463},\n {'bought': 1464},\n {'bought': 1465},\n {'bought': 1466},\n {'bought': 1467},\n {'bought': 1468},\n {'bought': 1469},\n {'bought': 1470},\n {'bought': 1471},\n {'bought': 1472},\n {'bought': 1473},\n {'bought': 1474},\n {'bought': 1475},\n {'bought': 1476},\n {'bought': 1477},\n {'bought': 1478},\n {'bought': 1479},\n {'bought': 1480},\n {'bought': 1481},\n {'bought': 1482},\n {'bought': 1484},\n {'bought': 1485},\n {'bought': 1486},\n {'bought': 1487},\n {'bought': 1488},\n {'bought': 1489},\n {'bought': 1490},\n {'bought': 1491},\n {'bought': 1492},\n {'bought': 1493},\n {'bought': 1494},\n {'bought': 1495},\n {'bought': 1497},\n {'bought': 1499},\n {'bought': 1503},\n {'bought': 1507},\n {'bought': 1508},\n {'bought': 1509},\n {'bought': 1510},\n {'bought': 1513},\n {'bought': 1515},\n {'bought': 1517},\n {'bought': 1518},\n {'bought': 1520},\n {'bought': 1523},\n {'bought': 1524},\n {'bought': 1525},\n {'bought': 1527},\n {'bought': 1528},\n {'bought': 1529},\n {'bought': 1530},\n {'bought': 1531},\n {'bought': 1532},\n {'bought': 1533},\n {'bought': 1534},\n {'bought': 1535},\n {'bought': 1536},\n {'bought': 1537},\n {'bought': 1538},\n {'bought': 1539},\n {'bought': 1540},\n {'bought': 1541},\n {'bought': 1542},\n {'bought': 1543},\n {'bought': 1544},\n {'bought': 1545},\n {'bought': 1546},\n {'bought': 1547},\n {'bought': 1548},\n {'bought': 1549},\n {'bought': 1550},\n {'bought': 1551},\n {'bought': 1552},\n {'bought': 1553},\n {'bought': 1554},\n {'bought': 1555},\n {'bought': 1556},\n {'bought': 1558},\n {'bought': 1559},\n {'bought': 1560},\n {'bought': 1561},\n {'bought': 1562},\n {'bought': 1567},\n {'bought': 1568},\n {'bought': 1582},\n {'bought': 1583},\n {'bought': 1584},\n {'bought': 1585},\n {'bought': 1586},\n {'bought': 1587},\n {'bought': 1588},\n {'bought': 1589},\n {'bought': 1590},\n {'bought': 1591},\n {'bought': 1592},\n {'bought': 1593},\n {'bought': 1594},\n {'bought': 1595},\n {'bought': 1596},\n {'bought': 1597},\n {'bought': 1598},\n {'bought': 1599},\n {'bought': 1600},\n {'bought': 1601},\n {'bought': 1602},\n {'bought': 1603},\n {'bought': 1604},\n {'bought': 1624},\n {'bought': 1625},\n {'bought': 1627},\n {'bought': 1629},\n {'bought': 1630},\n {'bought': 1631},\n {'bought': 1633},\n {'bought': 1634},\n {'bought': 1635},\n {'bought': 1636},\n {'bought': 1638},\n {'bought': 1639},\n {'bought': 1640},\n {'bought': 1642},\n {'bought': 1643},\n {'bought': 1645},\n {'bought': 1649},\n {'bought': 1651},\n {'bought': 1652},\n {'bought': 1656},\n {'bought': 1657},\n {'bought': 1658},\n {'bought': 1659},\n {'bought': 1661},\n {'bought': 1663},\n {'bought': 1664},\n {'bought': 1665},\n {'bought': 1668},\n {'bought': 1670},\n {'bought': 1671},\n {'bought': 1672},\n {'bought': 1673},\n {'bought': 1674},\n {'bought': 1675},\n {'bought': 1677},\n {'bought': 1678},\n {'bought': 1681},\n {'bought': 1683},\n {'bought': 1684},\n {'bought': 1685},\n {'bought': 1686},\n {'bought': 1687},\n {'bought': 1688},\n {'bought': 1689},\n {'bought': 1690},\n {'bought': 1692},\n {'bought': 1693},\n {'bought': 1697},\n {'bought': 1698},\n {'bought': 1699},\n {'bought': 1700},\n {'bought': 1701},\n {'bought': 1703},\n {'bought': 1707},\n {'bought': 1709},\n {'bought': 1713},\n {'bought': 1714},\n {'bought': 1715},\n {'bought': 1717},\n {'bought': 1719},\n {'bought': 1720},\n {'bought': 1721},\n {'bought': 1723},\n {'bought': 1724},\n {'bought': 1730},\n {'bought': 1732},\n {'bought': 1735},\n {'bought': 1737},\n {'bought': 1739},\n {'bought': 1740},\n {'bought': 1743},\n {'bought': 1745},\n {'bought': 1746},\n {'bought': 1748},\n {'bought': 1751},\n {'bought': 1754},\n {'bought': 1757},\n {'bought': 1759},\n {'bought': 1760},\n {'bought': 1762},\n {'bought': 1765},\n {'bought': 1766},\n {'bought': 1767},\n {'bought': 1768},\n {'bought': 1771},\n {'bought': 1773},\n {'bought': 1774},\n {'bought': 1775},\n {'bought': 1776},\n {'bought': 1777},\n {'bought': 1778},\n {'bought': 1779},\n {'bought': 1781},\n {'bought': 1782},\n {'bought': 1784},\n {'bought': 1788},\n {'bought': 1789},\n {'bought': 1790},\n {'bought': 1791},\n {'bought': 1793},\n {'bought': 1797},\n {'bought': 1799},\n {'bought': 1801},\n {'bought': 1802},\n {'bought': 1804},\n {'bought': 1806},\n {'bought': 1807},\n {'bought': 1808},\n {'bought': 1813},\n {'bought': 1815},\n {'bought': 1816},\n {'bought': 1817},\n {'bought': 1820},\n {'bought': 1821},\n {'bought': 1822},\n {'bought': 1826},\n {'bought': 1827},\n {'bought': 1833},\n {'bought': 1834},\n {'bought': 1835},\n {'bought': 1836},\n {'bought': 1837},\n {'bought': 1840},\n {'bought': 1842},\n {'bought': 1843},\n {'bought': 1844},\n {'bought': 1846},\n {'bought': 1847},\n {'bought': 1849},\n {'bought': 1850},\n {'bought': 1853},\n {'bought': 1854},\n {'bought': 1855},\n {'bought': 1856},\n {'bought': 1859},\n {'bought': 1860},\n {'bought': 1862},\n {'bought': 1863},\n {'bought': 1865},\n {'bought': 1870},\n {'bought': 1872},\n {'bought': 1873},\n {'bought': 1876},\n {'bought': 1877},\n {'bought': 1878},\n {'bought': 1881},\n {'bought': 1882},\n {'bought': 1883},\n {'bought': 1884},\n {'bought': 1885},\n {'bought': 1886},\n {'bought': 1887},\n {'bought': 1888},\n {'bought': 1889},\n {'bought': 1891},\n {'bought': 1892},\n {'bought': 1895},\n {'bought': 1896},\n {'bought': 1897},\n {'bought': 1898},\n {'bought': 1900},\n {'bought': 1902},\n {'bought': 1903},\n {'bought': 1905},\n {'bought': 1906},\n {'bought': 1908},\n {'bought': 1909},\n {'bought': 1910},\n {'bought': 1911},\n {'bought': 1912},\n {'bought': 1913},\n {'bought': 1914},\n {'bought': 1917},\n {'bought': 1920},\n {'bought': 1921},\n {'bought': 1924},\n {'bought': 1926},\n {'bought': 1927},\n {'bought': 1928},\n {'bought': 1930},\n {'bought': 1931},\n {'bought': 1932},\n {'bought': 1933},\n {'bought': 1934},\n {'bought': 1939},\n {'bought': 1940},\n {'bought': 1941},\n {'bought': 1942},\n {'bought': 1943},\n {'bought': 1945},\n {'bought': 1946},\n {'bought': 1947},\n {'bought': 1949},\n {'bought': 1951},\n {'bought': 1953},\n {'bought': 1954},\n {'bought': 1955},\n {'bought': 1956},\n {'bought': 1957},\n {'bought': 1958},\n {'bought': 1961},\n {'bought': 1962},\n {'bought': 1963},\n {'bought': 1964},\n {'bought': 1965},\n {'bought': 1966},\n {'bought': 1969},\n {'bought': 1971},\n {'bought': 1974},\n {'bought': 1976},\n {'bought': 1980},\n {'bought': 1981},\n {'bought': 1982},\n {'bought': 1984},\n {'bought': 1985},\n {'bought': 1986},\n {'bought': 1987},\n {'bought': 1988},\n {'bought': 1990},\n {'bought': 1991},\n {'bought': 1995},\n {'bought': 1997},\n {'bought': 1998},\n {'bought': 2000},\n {'bought': 2001},\n {'bought': 2002},\n {'bought': 2004},\n {'bought': 2005},\n {'bought': 2006},\n {'bought': 2007},\n {'bought': 2009},\n {'bought': 2013},\n {'bought': 2015},\n {'bought': 2016},\n {'bought': 2017},\n {'bought': 2018},\n {'bought': 2020},\n {'bought': 2021},\n {'bought': 2024},\n {'bought': 2025},\n {'bought': 2027},\n {'bought': 2029},\n {'bought': 2032},\n {'bought': 2034},\n {'bought': 2036},\n {'bought': 2037},\n {'bought': 2039},\n {'bought': 2040},\n {'bought': 2045},\n {'bought': 2046},\n {'bought': 2047},\n {'bought': 2054},\n {'bought': 2056},\n {'bought': 2057},\n {'bought': 2058},\n {'bought': 2059},\n {'bought': 2060},\n {'bought': 2061},\n {'bought': 2062},\n {'bought': 2063},\n {'bought': 2064},\n {'bought': 2065},\n {'bought': 2066},\n {'bought': 2068},\n {'bought': 2069},\n {'bought': 2072},\n {'bought': 2073},\n {'bought': 2074},\n {'bought': 2075},\n {'bought': 2077},\n {'bought': 2078},\n {'bought': 2079},\n {'bought': 2081},\n {'bought': 2083},\n {'bought': 2084},\n {'bought': 2085},\n {'bought': 2086},\n {'bought': 2089},\n {'bought': 2094},\n {'bought': 2098},\n {'bought': 2099},\n {'bought': 2102},\n {'bought': 2104},\n {'bought': 2108},\n {'bought': 2113},\n {'bought': 2114},\n {'bought': 2115},\n {'bought': 2116},\n {'bought': 2118},\n {'bought': 2119},\n {'bought': 2121},\n {'bought': 2124},\n {'bought': 2128},\n {'bought': 2129},\n {'bought': 2132},\n {'bought': 2135},\n {'bought': 2136},\n {'bought': 2140},\n {'bought': 2141},\n {'bought': 2143},\n {'bought': 2144},\n {'bought': 2147},\n {'bought': 2148},\n {'bought': 2149},\n ...]"
     },
     "execution_count": 6,
     "metadata": {},
     "output_type": "execute_result"
    }
   ],
   "source": [
    "all_data_index_buy_sell[0]"
   ],
   "metadata": {
    "collapsed": false,
    "ExecuteTime": {
     "end_time": "2024-02-26T23:33:50.168258700Z",
     "start_time": "2024-02-26T23:33:50.149270900Z"
    }
   },
   "execution_count": 6
  },
  {
   "cell_type": "code",
   "outputs": [
    {
     "name": "stdout",
     "output_type": "stream",
     "text": [
      "All different period data len: 7 true: 8843 false: 12373\n"
     ]
    }
   ],
   "source": [
    "import pandas as pd\n",
    "\n",
    "all_new_data_buy = list()\n",
    "for data_index_buy_sell in all_data_index_buy_sell:\n",
    "    new_data_buy = list()\n",
    "    for i, data in enumerate(data_index_buy_sell):\n",
    "        if list(data_index_buy_sell[i].keys())[0] != \"sold\":\n",
    "            new_data_buy.append(data)\n",
    "    all_new_data_buy.append(new_data_buy)\n",
    "#all_new_data_buy = all_data_index_buy_sell\n",
    "\n",
    "all_df_data = list()\n",
    "for c_i, candles in enumerate(all_candles):\n",
    "    df_data = {\"index\": [], \"result\": [], \"close\": [],\n",
    "               \"open\": [], \"high\": [], \"low\": [],\n",
    "               \"volume\": []}\n",
    "    counter = 0\n",
    "    for i, candle in enumerate(list(candles)):\n",
    "        df_data[\"index\"].append(i)\n",
    "        df_data[\"close\"].append(float(quotation_to_decimal(candle.close)))\n",
    "        df_data[\"open\"].append(float(quotation_to_decimal(candle.open)))\n",
    "        df_data[\"high\"].append(float(quotation_to_decimal(candle.high)))\n",
    "        df_data[\"low\"].append(float(quotation_to_decimal(candle.low)))\n",
    "        df_data[\"volume\"].append(candle.volume)\n",
    "        \n",
    "        if list(all_new_data_buy[c_i][counter].keys())[0] == \"bought\" and i == all_new_data_buy[c_i][counter][\"bought\"]:\n",
    "            df_data[\"result\"].append(1)\n",
    "            counter += 1 if counter < len(all_new_data_buy[c_i]) - 1 else 0\n",
    "        # elif list(all_new_data_buy[c_i][counter].keys())[0] == \"sold\" and i == all_new_data_buy[c_i][counter][\"sold\"]:\n",
    "        #     df_data[\"result\"].append(1)\n",
    "        #     counter += 1 if counter < len(all_new_data_buy[c_i]) - 1 else 0\n",
    "        else:\n",
    "            df_data[\"result\"].append(0)\n",
    "    all_df_data.append(df_data)\n",
    "        \n",
    "print(f\"All different period data len: {len(all_df_data)}\", f\"true: {all_df_data[0]['result'].count(1)}\", f\"false: {all_df_data[0]['result'].count(0)}\")"
   ],
   "metadata": {
    "collapsed": false,
    "ExecuteTime": {
     "end_time": "2024-02-26T23:33:50.816749600Z",
     "start_time": "2024-02-26T23:33:50.166257Z"
    }
   },
   "execution_count": 7
  },
  {
   "cell_type": "markdown",
   "source": [
    "# Add Strategy Signals To DF"
   ],
   "metadata": {
    "collapsed": false
   }
  },
  {
   "cell_type": "code",
   "outputs": [
    {
     "name": "stdout",
     "output_type": "stream",
     "text": [
      "Strategy blocks len: 8\n"
     ]
    }
   ],
   "source": [
    "from Strategies.StrategyAroon import StrategyAroon\n",
    "from Strategies.StrategyStochRSI import StrategyStochRSI\n",
    "from Strategies.StrategyEMA import StrategyEMA\n",
    "\n",
    "# candle interval init (for this case is always 1 min)\n",
    "candle_interval = CandleInterval.CANDLE_INTERVAL_1_MIN\n",
    "\n",
    "# init all strategies\n",
    "EMA_down = StrategyEMA()\n",
    "EMA_up = StrategyEMA()\n",
    "EMA_flat = StrategyEMA()\n",
    "EMA_short_up = StrategyEMA()\n",
    "EMA_short_down = StrategyEMA()\n",
    "EMA_7 = StrategyEMA()\n",
    "EMA_8 = StrategyEMA()\n",
    "\n",
    "RSI_down = StrategyRSI()\n",
    "RSI_up = StrategyRSI()\n",
    "RSI_flat = StrategyRSI()\n",
    "RSI_short_up = StrategyRSI()\n",
    "RSI_short_down = StrategyRSI()\n",
    "RSI_7 = StrategyRSI()\n",
    "RSI_8 = StrategyRSI()\n",
    "\n",
    "MACD_down = StrategyMACD()\n",
    "MACD_up = StrategyMACD()\n",
    "MACD_flat = StrategyMACD()\n",
    "MACD_short_up = StrategyMACD()\n",
    "MACD_short_down = StrategyMACD()\n",
    "MACD_7 = StrategyMACD()\n",
    "MACD_8 = StrategyMACD()\n",
    "\n",
    "BB_down = StrategyBB()\n",
    "BB_up = StrategyBB()\n",
    "BB_flat = StrategyBB()\n",
    "BB_short_up = StrategyBB()\n",
    "BB_short_down = StrategyBB()\n",
    "BB_7 = StrategyBB()\n",
    "BB_8 = StrategyBB()\n",
    "\n",
    "ST_down = StrategyST()\n",
    "ST_up = StrategyST()\n",
    "ST_flat = StrategyST()\n",
    "ST_short_up = StrategyST()\n",
    "ST_short_down = StrategyST()\n",
    "ST_7 = StrategyST()\n",
    "ST_8 = StrategyST()\n",
    "\n",
    "StochRSI_down = StrategyStochRSI()\n",
    "StochRSI_up = StrategyStochRSI()\n",
    "StochRSI_flat = StrategyStochRSI()\n",
    "StochRSI_short_up = StrategyStochRSI()\n",
    "StochRSI_short_down = StrategyStochRSI()\n",
    "StochRSI_7 = StrategyStochRSI()\n",
    "StochRSI_8 = StrategyStochRSI()\n",
    "\n",
    "Aroon_down = StrategyAroon()\n",
    "Aroon_up = StrategyAroon()\n",
    "Aroon_flat = StrategyAroon()\n",
    "Aroon_short_up = StrategyAroon()\n",
    "Aroon_short_down = StrategyAroon()\n",
    "Aroon_7 = StrategyAroon()\n",
    "Aroon_8 = StrategyAroon()\n",
    "\n",
    "OBV_down = StrategyOBV()\n",
    "OBV_up = StrategyOBV()\n",
    "OBV_flat = StrategyOBV()\n",
    "OBV_short_up = StrategyOBV()\n",
    "OBV_short_down = StrategyOBV()\n",
    "OBV_7 = StrategyOBV()\n",
    "OBV_8 = StrategyOBV()\n",
    "\n",
    "strategies_blocks = [[EMA_down, EMA_up, EMA_flat, EMA_short_up, EMA_short_down, EMA_7, EMA_8], \n",
    "                    [RSI_down, RSI_up, RSI_flat, RSI_short_up, RSI_short_down, RSI_7, RSI_8], \n",
    "                    [MACD_down, MACD_up, MACD_flat, MACD_short_up, MACD_short_down, MACD_7, MACD_8], \n",
    "                    [BB_down, BB_up, BB_flat, BB_short_up, BB_short_down, BB_7, BB_8],\n",
    "                    [StochRSI_down, StochRSI_up, StochRSI_flat, StochRSI_short_up, StochRSI_short_down, StochRSI_7, StochRSI_8],\n",
    "                    [ST_down, ST_up, ST_flat, ST_short_up, ST_short_down, ST_7, ST_8],\n",
    "                    [Aroon_down, Aroon_up, Aroon_flat, Aroon_short_up, Aroon_short_down, Aroon_7, Aroon_8],\n",
    "                    [OBV_down, OBV_up, OBV_flat, OBV_short_up, OBV_short_down, OBV_7, OBV_8]]\n",
    "\n",
    "for strategy_block in strategies_blocks:\n",
    "    strategy_block[0].initialize_moving_avg_container(candles_down[:strategy_block[0].history_candles_length])\n",
    "    strategy_block[1].initialize_moving_avg_container(candles_up[:strategy_block[1].history_candles_length])\n",
    "    strategy_block[2].initialize_moving_avg_container(candles_flat[:strategy_block[2].history_candles_length])\n",
    "    strategy_block[3].initialize_moving_avg_container(candles_flat[:strategy_block[3].history_candles_length])\n",
    "    strategy_block[4].initialize_moving_avg_container(candles_flat[:strategy_block[4].history_candles_length])\n",
    "    strategy_block[5].initialize_moving_avg_container(candles_flat[:strategy_block[5].history_candles_length])\n",
    "    strategy_block[6].initialize_moving_avg_container(candles_flat[:strategy_block[6].history_candles_length])\n",
    "\n",
    "print(f\"Strategy blocks len: {len(strategies_blocks)}\")     "
   ],
   "metadata": {
    "collapsed": false,
    "ExecuteTime": {
     "end_time": "2024-02-26T23:33:50.846458300Z",
     "start_time": "2024-02-26T23:33:50.828751Z"
    }
   },
   "execution_count": 8
  },
  {
   "cell_type": "code",
   "outputs": [
    {
     "name": "stdout",
     "output_type": "stream",
     "text": [
      "Small length check should be the length of candles: 21047, candle len: 21047\n"
     ]
    }
   ],
   "source": [
    "all_df_data_st = [{} for i in range(len(strategies_blocks[0]))]\n",
    "\n",
    "for strategy_block in strategies_blocks:\n",
    "    for str_i, strategy_type in enumerate(strategy_block):\n",
    "        for candle_index in range(strategy_type.history_candles_length, len(all_candles[str_i])):\n",
    "            params = strategy_type.get_candle_param(all_candles[str_i][candle_index])\n",
    "            for param_name in params:\n",
    "                if candle_index == strategy_type.history_candles_length:\n",
    "                    all_df_data_st[str_i][param_name] = list()\n",
    "                    [all_df_data_st[str_i][param_name].append(None) for i in range(strategy_type.history_candles_length)]\n",
    "                all_df_data_st[str_i][param_name].append(params[param_name])\n",
    "            \n",
    "print(f\"Small length check should be the length of candles: {len(all_df_data_st[2]['BB_lower'])}, candle len: {len(all_candles[2])}\")"
   ],
   "metadata": {
    "collapsed": false,
    "ExecuteTime": {
     "end_time": "2024-02-26T23:34:16.397234200Z",
     "start_time": "2024-02-26T23:33:50.844457700Z"
    }
   },
   "execution_count": 9
  },
  {
   "cell_type": "code",
   "outputs": [
    {
     "data": {
      "text/plain": "       index  result   close    open    high     low  volume  EMA_prev_diff  \\\n200      200       0  269.90  269.90  269.90  269.89     998       0.046750   \n201      201       0  269.87  269.89  269.90  269.86     615       0.044920   \n202      202       0  269.90  269.87  269.90  269.86     206       0.045797   \n203      203       0  269.89  269.89  269.90  269.86     495       0.043981   \n204      204       0  269.90  269.90  269.90  269.86     307       0.043165   \n...      ...     ...     ...     ...     ...     ...     ...            ...   \n21211  21211       0  277.35  277.38  277.39  277.34     184      -0.117654   \n21212  21212       0  277.37  277.37  277.40  277.37     289      -0.113796   \n21213  21213       0  277.51  277.40  277.52  277.39    4965      -0.111937   \n21214  21214       0  277.43  277.51  277.52  277.42    2057      -0.122107   \n21215  21215       0  277.50  277.42  277.54  277.41    2761      -0.124277   \n\n       EMA_current_diff   prev_RSI  ...    BB_lower  StochRSI_K  StochRSI_D  \\\n200            0.044920  50.398933  ...  269.851297    4.761905   27.299193   \n201            0.045797  50.398933  ...  269.850239    1.904762   26.346812   \n202            0.043981  50.305377  ...  269.850488    4.761905   27.299193   \n203            0.043165  50.398378  ...  269.850660    3.809524   26.981733   \n204            0.041540  50.366643  ...  269.850660    4.761905   27.299193   \n...                 ...        ...  ...         ...         ...         ...   \n21211         -0.113796  50.711109  ...  277.241981    2.459016   26.531563   \n21212         -0.111937  50.922179  ...  277.263237    4.098361   27.078012   \n21213         -0.122107  51.133543  ...  277.276277   15.573770   30.903148   \n21214         -0.124277  52.577556  ...  277.295849    9.016393   28.717356   \n21215         -0.132074  51.695856  ...  277.299428   15.126050   30.753908   \n\n         ST_upper    ST_lower       ATR  aroon_up  aroon_low       OBV  \\\n200    272.763613  266.967420  1.028940      16.0       68.0  -42073.0   \n201    272.763613  266.967420  1.029678      12.0       64.0  -42688.0   \n202    272.763613  266.967420  1.030366       8.0       60.0  -42482.0   \n203    272.763613  266.967420  1.031008       4.0       56.0  -42977.0   \n204    272.763613  266.967420  1.031607       4.0       52.0  -42670.0   \n...           ...         ...       ...       ...        ...       ...   \n21211  271.266986  284.878411  1.086304      56.0        8.0 -955685.0   \n21212  271.266986  284.878411  1.082550      52.0        4.0 -955396.0   \n21213  271.266986  284.878411  1.085713      48.0        4.0 -950431.0   \n21214  271.266986  284.878411  1.086666      44.0        4.0 -952488.0   \n21215  271.266986  284.878411  1.089555      40.0        4.0 -949727.0   \n\n              OBV_MA  \n200    -45548.200000  \n201    -45433.266667  \n202    -45304.600000  \n203    -45208.933333  \n204    -45092.800000  \n...              ...  \n21211 -949459.466667  \n21212 -950347.800000  \n21213 -950905.133333  \n21214 -951562.200000  \n21215 -952061.200000  \n\n[21016 rows x 24 columns]",
      "text/html": "<div>\n<style scoped>\n    .dataframe tbody tr th:only-of-type {\n        vertical-align: middle;\n    }\n\n    .dataframe tbody tr th {\n        vertical-align: top;\n    }\n\n    .dataframe thead th {\n        text-align: right;\n    }\n</style>\n<table border=\"1\" class=\"dataframe\">\n  <thead>\n    <tr style=\"text-align: right;\">\n      <th></th>\n      <th>index</th>\n      <th>result</th>\n      <th>close</th>\n      <th>open</th>\n      <th>high</th>\n      <th>low</th>\n      <th>volume</th>\n      <th>EMA_prev_diff</th>\n      <th>EMA_current_diff</th>\n      <th>prev_RSI</th>\n      <th>...</th>\n      <th>BB_lower</th>\n      <th>StochRSI_K</th>\n      <th>StochRSI_D</th>\n      <th>ST_upper</th>\n      <th>ST_lower</th>\n      <th>ATR</th>\n      <th>aroon_up</th>\n      <th>aroon_low</th>\n      <th>OBV</th>\n      <th>OBV_MA</th>\n    </tr>\n  </thead>\n  <tbody>\n    <tr>\n      <th>200</th>\n      <td>200</td>\n      <td>0</td>\n      <td>269.90</td>\n      <td>269.90</td>\n      <td>269.90</td>\n      <td>269.89</td>\n      <td>998</td>\n      <td>0.046750</td>\n      <td>0.044920</td>\n      <td>50.398933</td>\n      <td>...</td>\n      <td>269.851297</td>\n      <td>4.761905</td>\n      <td>27.299193</td>\n      <td>272.763613</td>\n      <td>266.967420</td>\n      <td>1.028940</td>\n      <td>16.0</td>\n      <td>68.0</td>\n      <td>-42073.0</td>\n      <td>-45548.200000</td>\n    </tr>\n    <tr>\n      <th>201</th>\n      <td>201</td>\n      <td>0</td>\n      <td>269.87</td>\n      <td>269.89</td>\n      <td>269.90</td>\n      <td>269.86</td>\n      <td>615</td>\n      <td>0.044920</td>\n      <td>0.045797</td>\n      <td>50.398933</td>\n      <td>...</td>\n      <td>269.850239</td>\n      <td>1.904762</td>\n      <td>26.346812</td>\n      <td>272.763613</td>\n      <td>266.967420</td>\n      <td>1.029678</td>\n      <td>12.0</td>\n      <td>64.0</td>\n      <td>-42688.0</td>\n      <td>-45433.266667</td>\n    </tr>\n    <tr>\n      <th>202</th>\n      <td>202</td>\n      <td>0</td>\n      <td>269.90</td>\n      <td>269.87</td>\n      <td>269.90</td>\n      <td>269.86</td>\n      <td>206</td>\n      <td>0.045797</td>\n      <td>0.043981</td>\n      <td>50.305377</td>\n      <td>...</td>\n      <td>269.850488</td>\n      <td>4.761905</td>\n      <td>27.299193</td>\n      <td>272.763613</td>\n      <td>266.967420</td>\n      <td>1.030366</td>\n      <td>8.0</td>\n      <td>60.0</td>\n      <td>-42482.0</td>\n      <td>-45304.600000</td>\n    </tr>\n    <tr>\n      <th>203</th>\n      <td>203</td>\n      <td>0</td>\n      <td>269.89</td>\n      <td>269.89</td>\n      <td>269.90</td>\n      <td>269.86</td>\n      <td>495</td>\n      <td>0.043981</td>\n      <td>0.043165</td>\n      <td>50.398378</td>\n      <td>...</td>\n      <td>269.850660</td>\n      <td>3.809524</td>\n      <td>26.981733</td>\n      <td>272.763613</td>\n      <td>266.967420</td>\n      <td>1.031008</td>\n      <td>4.0</td>\n      <td>56.0</td>\n      <td>-42977.0</td>\n      <td>-45208.933333</td>\n    </tr>\n    <tr>\n      <th>204</th>\n      <td>204</td>\n      <td>0</td>\n      <td>269.90</td>\n      <td>269.90</td>\n      <td>269.90</td>\n      <td>269.86</td>\n      <td>307</td>\n      <td>0.043165</td>\n      <td>0.041540</td>\n      <td>50.366643</td>\n      <td>...</td>\n      <td>269.850660</td>\n      <td>4.761905</td>\n      <td>27.299193</td>\n      <td>272.763613</td>\n      <td>266.967420</td>\n      <td>1.031607</td>\n      <td>4.0</td>\n      <td>52.0</td>\n      <td>-42670.0</td>\n      <td>-45092.800000</td>\n    </tr>\n    <tr>\n      <th>...</th>\n      <td>...</td>\n      <td>...</td>\n      <td>...</td>\n      <td>...</td>\n      <td>...</td>\n      <td>...</td>\n      <td>...</td>\n      <td>...</td>\n      <td>...</td>\n      <td>...</td>\n      <td>...</td>\n      <td>...</td>\n      <td>...</td>\n      <td>...</td>\n      <td>...</td>\n      <td>...</td>\n      <td>...</td>\n      <td>...</td>\n      <td>...</td>\n      <td>...</td>\n      <td>...</td>\n    </tr>\n    <tr>\n      <th>21211</th>\n      <td>21211</td>\n      <td>0</td>\n      <td>277.35</td>\n      <td>277.38</td>\n      <td>277.39</td>\n      <td>277.34</td>\n      <td>184</td>\n      <td>-0.117654</td>\n      <td>-0.113796</td>\n      <td>50.711109</td>\n      <td>...</td>\n      <td>277.241981</td>\n      <td>2.459016</td>\n      <td>26.531563</td>\n      <td>271.266986</td>\n      <td>284.878411</td>\n      <td>1.086304</td>\n      <td>56.0</td>\n      <td>8.0</td>\n      <td>-955685.0</td>\n      <td>-949459.466667</td>\n    </tr>\n    <tr>\n      <th>21212</th>\n      <td>21212</td>\n      <td>0</td>\n      <td>277.37</td>\n      <td>277.37</td>\n      <td>277.40</td>\n      <td>277.37</td>\n      <td>289</td>\n      <td>-0.113796</td>\n      <td>-0.111937</td>\n      <td>50.922179</td>\n      <td>...</td>\n      <td>277.263237</td>\n      <td>4.098361</td>\n      <td>27.078012</td>\n      <td>271.266986</td>\n      <td>284.878411</td>\n      <td>1.082550</td>\n      <td>52.0</td>\n      <td>4.0</td>\n      <td>-955396.0</td>\n      <td>-950347.800000</td>\n    </tr>\n    <tr>\n      <th>21213</th>\n      <td>21213</td>\n      <td>0</td>\n      <td>277.51</td>\n      <td>277.40</td>\n      <td>277.52</td>\n      <td>277.39</td>\n      <td>4965</td>\n      <td>-0.111937</td>\n      <td>-0.122107</td>\n      <td>51.133543</td>\n      <td>...</td>\n      <td>277.276277</td>\n      <td>15.573770</td>\n      <td>30.903148</td>\n      <td>271.266986</td>\n      <td>284.878411</td>\n      <td>1.085713</td>\n      <td>48.0</td>\n      <td>4.0</td>\n      <td>-950431.0</td>\n      <td>-950905.133333</td>\n    </tr>\n    <tr>\n      <th>21214</th>\n      <td>21214</td>\n      <td>0</td>\n      <td>277.43</td>\n      <td>277.51</td>\n      <td>277.52</td>\n      <td>277.42</td>\n      <td>2057</td>\n      <td>-0.122107</td>\n      <td>-0.124277</td>\n      <td>52.577556</td>\n      <td>...</td>\n      <td>277.295849</td>\n      <td>9.016393</td>\n      <td>28.717356</td>\n      <td>271.266986</td>\n      <td>284.878411</td>\n      <td>1.086666</td>\n      <td>44.0</td>\n      <td>4.0</td>\n      <td>-952488.0</td>\n      <td>-951562.200000</td>\n    </tr>\n    <tr>\n      <th>21215</th>\n      <td>21215</td>\n      <td>0</td>\n      <td>277.50</td>\n      <td>277.42</td>\n      <td>277.54</td>\n      <td>277.41</td>\n      <td>2761</td>\n      <td>-0.124277</td>\n      <td>-0.132074</td>\n      <td>51.695856</td>\n      <td>...</td>\n      <td>277.299428</td>\n      <td>15.126050</td>\n      <td>30.753908</td>\n      <td>271.266986</td>\n      <td>284.878411</td>\n      <td>1.089555</td>\n      <td>40.0</td>\n      <td>4.0</td>\n      <td>-949727.0</td>\n      <td>-952061.200000</td>\n    </tr>\n  </tbody>\n</table>\n<p>21016 rows × 24 columns</p>\n</div>"
     },
     "execution_count": 10,
     "metadata": {},
     "output_type": "execute_result"
    }
   ],
   "source": [
    "# convert to df\n",
    "for i in range(len(all_df_data)):\n",
    "    all_df_data[i] = pd.DataFrame(all_df_data[i])\n",
    "\n",
    "for i in range(len(all_df_data)):\n",
    "    for name in all_df_data_st[i]:\n",
    "        all_df_data[i][name] = all_df_data_st[i][name]\n",
    "\n",
    "biggest_gap = 0\n",
    "for strategy_block in strategies_blocks:\n",
    "    for strategy_type in strategy_block:\n",
    "        if strategy_type.history_candles_length > biggest_gap:\n",
    "            biggest_gap = strategy_type.history_candles_length\n",
    "\n",
    "# delete first NaN elements\n",
    "for i, df in enumerate(all_df_data):\n",
    "    all_df_data[i] = df.drop(df.index[:biggest_gap])\n",
    "\n",
    "concatenated_df = pd.DataFrame()\n",
    "for i, data in enumerate(all_df_data):\n",
    "    data.to_csv(f\"./marked_data/result_with_parameters_{i}.csv\", index=False)\n",
    "    \n",
    "all_df_data[0]"
   ],
   "metadata": {
    "collapsed": false,
    "ExecuteTime": {
     "end_time": "2024-02-26T23:34:18.629651600Z",
     "start_time": "2024-02-26T23:34:16.396234500Z"
    }
   },
   "execution_count": 10
  }
 ],
 "metadata": {
  "kernelspec": {
   "display_name": "Python 3",
   "language": "python",
   "name": "python3"
  },
  "language_info": {
   "codemirror_mode": {
    "name": "ipython",
    "version": 2
   },
   "file_extension": ".py",
   "mimetype": "text/x-python",
   "name": "python",
   "nbconvert_exporter": "python",
   "pygments_lexer": "ipython2",
   "version": "2.7.6"
  }
 },
 "nbformat": 4,
 "nbformat_minor": 0
}
